{
 "cells": [
  {
   "cell_type": "markdown",
   "id": "b26d1edf",
   "metadata": {},
   "source": [
    "# Load Libraries and Functions"
   ]
  },
  {
   "cell_type": "code",
   "execution_count": 31,
   "id": "3b84b674",
   "metadata": {},
   "outputs": [],
   "source": [
    "# System, Data, Time, and Spec Libraries\n",
    "import os\n",
    "import pandas as pd\n",
    "import time\n",
    "import random\n",
    "from datetime import datetime, timedelta\n",
    "import numpy as np \n",
    "from line_profiler import LineProfiler  # Code peformance\n",
    "profiler = LineProfiler()\n",
    "import warnings\n",
    "warnings.filterwarnings('ignore')\n",
    "import csv\n",
    "#pd.set_option('display.max_colwidth', None)\n",
    "import multiprocess as mp\n",
    "num_cores = mp.cpu_count()\n",
    "\n",
    "# Data Visualization Libraries\n",
    "import matplotlib.pyplot as plt\n",
    "from tabulate import tabulate\n",
    "import plotly.express as px\n",
    "import seaborn as sns\n",
    "#from pandas.io.json import json_normalize  # Older version\n",
    "from pandas import json_normalize  # Newer version\n",
    "from pandas.plotting import parallel_coordinates\n",
    "from IPython.display import display, Image\n",
    "import shap\n",
    "import streamlit as st\n",
    "\n",
    "\n",
    "# Natural Language Processing Libraries\n",
    "import json\n",
    "import requests\n",
    "import xml.etree.ElementTree as ET\n",
    "import nltk\n",
    "import re\n",
    "from nltk.tokenize import word_tokenize\n",
    "from nltk.corpus import words\n",
    "import string\n",
    "import nltk\n",
    "from collections import OrderedDict\n",
    "from nltk.tokenize import word_tokenize\n",
    "from pandas import json_normalize\n",
    "from nltk.stem import WordNetLemmatizer\n",
    "lemmatizer = WordNetLemmatizer()\n",
    "from nltk.util import ngrams\n",
    "from nltk.corpus import stopwords\n",
    "from string import punctuation\n",
    "punctuation = set(punctuation)\n",
    "punctuation.update({'_', '-','‘'})\n",
    "english_words = set(words.words())\n",
    "from fuzzywuzzy import process\n",
    "#nltk.download('words')\n",
    "#nltk.download('punkt')\n",
    "#nltk.download('stopwords')\n",
    "\n",
    "# SQL Interface Libraries\n",
    "import pymysql as mysql\n",
    "import mysql.connector\n",
    "import pyodbc\n",
    "import sqlite3\n",
    "import sqlalchemy\n",
    "from sqlalchemy import create_engine\n",
    "from sqlalchemy import event\n",
    "from string import punctuation\n",
    "\n",
    "# Machine Learning Libraries\n",
    "import scipy.stats as stats\n",
    "from scipy.stats import zscore\n",
    "from scipy.stats import yeojohnson\n",
    "import statsmodels.api as sm\n",
    "from sklearn.preprocessing import OneHotEncoder, PowerTransformer\n",
    "from sklearn.impute import KNNImputer\n",
    "from sklearn.feature_selection import VarianceThreshold\n",
    "from sklearn.compose import ColumnTransformer\n",
    "from sklearn.model_selection import train_test_split, cross_val_score, GridSearchCV\n",
    "from sklearn.metrics import confusion_matrix, accuracy_score, ConfusionMatrixDisplay,roc_auc_score, roc_curve\n",
    "from sklearn.metrics import accuracy_score, precision_score, recall_score, f1_score, confusion_matrix\n",
    "from sklearn.metrics import classification_report, mean_squared_error, f1_score\n",
    "from sklearn.linear_model import LogisticRegressionCV, LogisticRegression\n",
    "from sklearn.tree import DecisionTreeClassifier\n",
    "from sklearn.preprocessing import StandardScaler\n",
    "from sklearn.pipeline import make_pipeline, Pipeline\n",
    "from dmba import classificationSummary, AIC_score, BIC_score, plotDecisionTree,gainsChart\n",
    "from scikitplot.metrics import plot_lift_curve, plot_cumulative_gain\n",
    "from sklearn.neural_network import MLPClassifier\n",
    "from sklearn.tree import DecisionTreeClassifier\n",
    "from sklearn.neighbors import KNeighborsClassifier \n",
    "from sklearn.ensemble import GradientBoostingClassifier\n",
    "from imblearn.metrics import specificity_score, sensitivity_score\n",
    "from imblearn.under_sampling import RandomUnderSampler\n",
    "from scikitplot.metrics import plot_lift_curve\n",
    "from sklearn.impute import SimpleImputer\n",
    "from sklearn.ensemble import GradientBoostingClassifier, RandomForestClassifier\n",
    "from sklearn import preprocessing\n",
    "from sklearn import tree\n",
    "from sklearn.model_selection import cross_val_score\n",
    "from patsy import dmatrices\n",
    "from statsmodels.stats.outliers_influence import variance_inflation_factor\n",
    "from sklearn.model_selection import KFold\n",
    "from dmba import stepwise_selection, classificationSummary, backward_elimination\n",
    "from sklearn.decomposition import PCA\n",
    "from sklearn.utils.random import sample_without_replacement\n",
    "from sklearn.metrics import precision_score, recall_score\n",
    "from sklearn.metrics import roc_curve, auc\n",
    "from sklearn.preprocessing import label_binarize\n",
    "import joblib\n",
    "\n",
    "# Importing Custom Functions\n",
    "import nbimporter\n",
    "from Functions import nan_info, get_model_coefficients_and_odds, evaluate_model"
   ]
  },
  {
   "cell_type": "markdown",
   "id": "b14aff2b-fd02-4373-8f0c-b886ab7e9395",
   "metadata": {},
   "source": [
    "### SQL Password"
   ]
  },
  {
   "cell_type": "code",
   "execution_count": null,
   "id": "95daa5f5-c8e9-450b-a74f-b9ade632cd40",
   "metadata": {},
   "outputs": [],
   "source": [
    "PASSWORD  = 'PASSWORD' "
   ]
  },
  {
   "cell_type": "markdown",
   "id": "33d1ab8a-ee41-484e-ab5f-b37f23b7080f",
   "metadata": {},
   "source": [
    "## Investigate number of records in each database table"
   ]
  },
  {
   "cell_type": "code",
   "execution_count": null,
   "id": "27b7a789-1b65-4887-8bb7-23dcbdfd0a4f",
   "metadata": {},
   "outputs": [],
   "source": [
    "connection = mysql.connector.connect(\n",
    "    host=\"localhost\", user=\"root\", password=PASSWORD, database=\"pharma_db\"\n",
    ")\n",
    "\n",
    "cursor = connection.cursor()\n",
    "sql_query = \"\"\"SELECT COUNT(*) FROM patient_reactions\"\"\"\n",
    "\n",
    "\n",
    "cursor.execute(sql_query)\n",
    "result = cursor.fetchall()\n",
    "column_names = [i[0] for i in cursor.description]\n",
    "\n",
    "\n",
    "result_query_df = pd.DataFrame(result, columns=column_names)\n",
    "\n",
    "cursor.close()\n",
    "connection.close()\n",
    "\n",
    "result_query_df"
   ]
  },
  {
   "cell_type": "markdown",
   "id": "ca6f85a2",
   "metadata": {},
   "source": [
    "# Get Dataset from SQL Database"
   ]
  },
  {
   "cell_type": "code",
   "execution_count": null,
   "id": "cfd9e5b0",
   "metadata": {},
   "outputs": [],
   "source": [
    "# Connect to the MySQL server\n",
    "connection = mysql.connector.connect(\n",
    "    host=\"localhost\", user=\"root\", password=PASSWORD, database=\"pharma_db\"\n",
    ")\n",
    "\n",
    "# Create a cursor object\n",
    "cursor = connection.cursor()"
   ]
  },
  {
   "cell_type": "markdown",
   "id": "ebd42033-7ef2-42c5-b917-3fbc23089f2c",
   "metadata": {},
   "source": [
    "# Query data from SQL"
   ]
  },
  {
   "cell_type": "code",
   "execution_count": null,
   "id": "47d32654-430f-42a6-ab82-fc1f4de696ce",
   "metadata": {},
   "outputs": [],
   "source": [
    "start_time = time.time()\n",
    "\n",
    "connection = mysql.connector.connect(\n",
    "    host=\"localhost\", user=\"root\", password=PASSWORD, database=\"pharma_db\"\n",
    ")\n",
    "\n",
    "#temp removed a.expedited,\n",
    "\n",
    "cursor = connection.cursor()\n",
    "sql_query = \"\"\"SELECT \n",
    "d.med_product,\n",
    "d.event_id,\n",
    "d.manu_num,\n",
    "a.serious_outcome,\n",
    "a.age,\n",
    "a.sex,\n",
    "a.year,\n",
    "a.weight,\n",
    "a.report_source,\n",
    "r.outcome,\n",
    "d.ndc9,\n",
    "p.unit_price\n",
    "FROM adverse_events a \n",
    "\n",
    "INNER JOIN patient_reactions r ON a.event_id = r.event_id\n",
    "INNER JOIN patient_drugs d ON a.event_id = d.event_id\n",
    "LEFT JOIN prices p ON d.ndc9 = p.ndc9\n",
    "ORDER BY a.event_id DESC\n",
    "\"\"\"\n",
    "cursor.execute(sql_query)\n",
    "result = cursor.fetchall()\n",
    "column_names = [i[0] for i in cursor.description]\n",
    "master_query_df = pd.DataFrame(result, columns=column_names)\n",
    "\n",
    "cursor.close()\n",
    "connection.close()\n",
    "\n",
    "\n",
    "end_time = time.time()\n",
    "execution_time = end_time - start_time\n",
    "print(execution_time)\n",
    "\n",
    "\n",
    "\n",
    "master_query_df = master_query_df.drop_duplicates()\n",
    "\n",
    "\n",
    "master_query_df['unit_price'] = master_query_df['unit_price'].replace({None: np.nan})\n",
    "\n",
    "# Calculate the median of the 'unit_price' column, ignoring NaN values\n",
    "median_unit_price = master_query_df['unit_price'].median()\n",
    "\n",
    "# Replace NaN values in 'unit_price' with the calculated median\n",
    "master_query_df['unit_price'] = master_query_df['unit_price'].fillna(median_unit_price)\n",
    "#master_query_df = master_query_df[master_query_df['expedited'] != 5]\n",
    "\n",
    "master_query_df.head(10)\n",
    "\n",
    "\n",
    "master_query_df.to_csv('DataLibrary/result_query_2024_withImputedprices.csv')"
   ]
  },
  {
   "cell_type": "code",
   "execution_count": null,
   "id": "53568a97-fd7e-431a-a13e-ca728b5c5742",
   "metadata": {},
   "outputs": [],
   "source": [
    "\n",
    "master_query_df.shape"
   ]
  },
  {
   "cell_type": "code",
   "execution_count": null,
   "id": "2503bd9e-12f8-4607-9c76-3b6091f4251e",
   "metadata": {},
   "outputs": [],
   "source": [
    "master_query_df.head()"
   ]
  },
  {
   "cell_type": "markdown",
   "id": "0657baf0-8418-44c5-8b79-68ed6d0877a8",
   "metadata": {},
   "source": [
    "# Make dataset smaller for testing"
   ]
  },
  {
   "cell_type": "code",
   "execution_count": 32,
   "id": "a901c388",
   "metadata": {},
   "outputs": [],
   "source": [
    "master_query_df = pd.read_csv('DataLibrary/result_query_2024_withImputedprices.csv')"
   ]
  },
  {
   "cell_type": "markdown",
   "id": "80cb749f",
   "metadata": {},
   "source": [
    "# Preparation for Data Split"
   ]
  },
  {
   "cell_type": "markdown",
   "id": "fbb1a292",
   "metadata": {},
   "source": [
    "### Define numerical, text, and categorical variables"
   ]
  },
  {
   "cell_type": "code",
   "execution_count": 33,
   "id": "b15b7c72",
   "metadata": {},
   "outputs": [
    {
     "data": {
      "text/html": [
       "<div>\n",
       "<style scoped>\n",
       "    .dataframe tbody tr th:only-of-type {\n",
       "        vertical-align: middle;\n",
       "    }\n",
       "\n",
       "    .dataframe tbody tr th {\n",
       "        vertical-align: top;\n",
       "    }\n",
       "\n",
       "    .dataframe thead th {\n",
       "        text-align: right;\n",
       "    }\n",
       "</style>\n",
       "<table border=\"1\" class=\"dataframe\">\n",
       "  <thead>\n",
       "    <tr style=\"text-align: right;\">\n",
       "      <th></th>\n",
       "      <th>Unnamed: 0</th>\n",
       "      <th>med_product</th>\n",
       "      <th>event_id</th>\n",
       "      <th>manu_num</th>\n",
       "      <th>serious_outcome</th>\n",
       "      <th>age</th>\n",
       "      <th>sex</th>\n",
       "      <th>year</th>\n",
       "      <th>weight</th>\n",
       "      <th>report_source</th>\n",
       "      <th>outcome</th>\n",
       "      <th>ndc9</th>\n",
       "      <th>unit_price</th>\n",
       "    </tr>\n",
       "  </thead>\n",
       "  <tbody>\n",
       "    <tr>\n",
       "      <th>0</th>\n",
       "      <td>0</td>\n",
       "      <td>['xolair']</td>\n",
       "      <td>20885</td>\n",
       "      <td>1</td>\n",
       "      <td>1</td>\n",
       "      <td>25</td>\n",
       "      <td>1</td>\n",
       "      <td>2024</td>\n",
       "      <td>95</td>\n",
       "      <td>3</td>\n",
       "      <td>Unknown</td>\n",
       "      <td>502420040</td>\n",
       "      <td>0.48535</td>\n",
       "    </tr>\n",
       "    <tr>\n",
       "      <th>1</th>\n",
       "      <td>4</td>\n",
       "      <td>['xolair']</td>\n",
       "      <td>20885</td>\n",
       "      <td>1</td>\n",
       "      <td>1</td>\n",
       "      <td>25</td>\n",
       "      <td>1</td>\n",
       "      <td>2024</td>\n",
       "      <td>95</td>\n",
       "      <td>3</td>\n",
       "      <td>Recovering</td>\n",
       "      <td>502420040</td>\n",
       "      <td>0.48535</td>\n",
       "    </tr>\n",
       "    <tr>\n",
       "      <th>2</th>\n",
       "      <td>14</td>\n",
       "      <td>['xolair']</td>\n",
       "      <td>20885</td>\n",
       "      <td>1</td>\n",
       "      <td>1</td>\n",
       "      <td>25</td>\n",
       "      <td>1</td>\n",
       "      <td>2024</td>\n",
       "      <td>95</td>\n",
       "      <td>3</td>\n",
       "      <td>NotRecovered</td>\n",
       "      <td>502420040</td>\n",
       "      <td>0.48535</td>\n",
       "    </tr>\n",
       "    <tr>\n",
       "      <th>3</th>\n",
       "      <td>17</td>\n",
       "      <td>['xolair']</td>\n",
       "      <td>20885</td>\n",
       "      <td>1</td>\n",
       "      <td>1</td>\n",
       "      <td>25</td>\n",
       "      <td>1</td>\n",
       "      <td>2024</td>\n",
       "      <td>95</td>\n",
       "      <td>3</td>\n",
       "      <td>Recovered</td>\n",
       "      <td>502420040</td>\n",
       "      <td>0.48535</td>\n",
       "    </tr>\n",
       "    <tr>\n",
       "      <th>4</th>\n",
       "      <td>846</td>\n",
       "      <td>['aspirin']</td>\n",
       "      <td>20885</td>\n",
       "      <td>153</td>\n",
       "      <td>1</td>\n",
       "      <td>25</td>\n",
       "      <td>1</td>\n",
       "      <td>2024</td>\n",
       "      <td>95</td>\n",
       "      <td>3</td>\n",
       "      <td>Unknown</td>\n",
       "      <td>476820456</td>\n",
       "      <td>0.48535</td>\n",
       "    </tr>\n",
       "  </tbody>\n",
       "</table>\n",
       "</div>"
      ],
      "text/plain": [
       "   Unnamed: 0  med_product  event_id  manu_num serious_outcome  age  sex  \\\n",
       "0           0   ['xolair']     20885         1               1   25    1   \n",
       "1           4   ['xolair']     20885         1               1   25    1   \n",
       "2          14   ['xolair']     20885         1               1   25    1   \n",
       "3          17   ['xolair']     20885         1               1   25    1   \n",
       "4         846  ['aspirin']     20885       153               1   25    1   \n",
       "\n",
       "   year  weight  report_source       outcome       ndc9  unit_price  \n",
       "0  2024      95              3       Unknown  502420040     0.48535  \n",
       "1  2024      95              3    Recovering  502420040     0.48535  \n",
       "2  2024      95              3  NotRecovered  502420040     0.48535  \n",
       "3  2024      95              3     Recovered  502420040     0.48535  \n",
       "4  2024      95              3       Unknown  476820456     0.48535  "
      ]
     },
     "execution_count": 33,
     "metadata": {},
     "output_type": "execute_result"
    }
   ],
   "source": [
    "cats = ['sex', 'report_source', 'ndc9']\n",
    "nums = ['weight', 'age', 'unit_price']\n",
    "all_vars = cats+nums\n",
    "\n",
    "#Define outcome as categorical\n",
    "master_query_df['serious_outcome'] = master_query_df['serious_outcome'].astype('category')\n",
    "\n",
    "master_query_df.head()"
   ]
  },
  {
   "cell_type": "markdown",
   "id": "b06b208e",
   "metadata": {},
   "source": [
    "# Split Data into Training/Validation/Testing"
   ]
  },
  {
   "cell_type": "code",
   "execution_count": 34,
   "id": "3ddf875e-6032-45b5-b6d0-f778ee6cb322",
   "metadata": {},
   "outputs": [
    {
     "data": {
      "text/plain": [
       "(83307, 13)"
      ]
     },
     "execution_count": 34,
     "metadata": {},
     "output_type": "execute_result"
    }
   ],
   "source": [
    "master_query_df.shape"
   ]
  },
  {
   "cell_type": "markdown",
   "id": "b589ee01-a355-4f91-b570-22c136c4ab0f",
   "metadata": {},
   "source": [
    "### Make a Subset of the Dataset for Initial Model Training"
   ]
  },
  {
   "cell_type": "code",
   "execution_count": 35,
   "id": "23f9eef3",
   "metadata": {},
   "outputs": [],
   "source": [
    "# Split the data into features (X) and the target variable (y).\n",
    "X = master_query_df[all_vars]\n",
    "\n",
    "#Define outcome variable\n",
    "y = master_query_df[['serious_outcome']]\n",
    "\n",
    "#Split data\n",
    "X_train, X_rest, y_train, y_rest = train_test_split(X, y, train_size=0.8, random_state = 2)\n",
    "X_val, X_test, y_val, y_test = train_test_split(X_rest, y_rest, test_size=0.5, random_state = 2)"
   ]
  },
  {
   "cell_type": "code",
   "execution_count": 36,
   "id": "527f8099",
   "metadata": {},
   "outputs": [
    {
     "data": {
      "text/plain": [
       "((66645, 6), (66645, 1))"
      ]
     },
     "execution_count": 36,
     "metadata": {},
     "output_type": "execute_result"
    }
   ],
   "source": [
    "X_train.shape, y_train.shape"
   ]
  },
  {
   "cell_type": "code",
   "execution_count": 37,
   "id": "74b841c0",
   "metadata": {},
   "outputs": [
    {
     "data": {
      "text/plain": [
       "serious_outcome\n",
       "1                  46637\n",
       "2                  17317\n",
       "0                   2691\n",
       "Name: count, dtype: int64"
      ]
     },
     "execution_count": 37,
     "metadata": {},
     "output_type": "execute_result"
    }
   ],
   "source": [
    "y_train.value_counts()"
   ]
  },
  {
   "cell_type": "code",
   "execution_count": 38,
   "id": "f6d3f919",
   "metadata": {},
   "outputs": [
    {
     "data": {
      "text/plain": [
       "((8331, 6), (8331, 1))"
      ]
     },
     "execution_count": 38,
     "metadata": {},
     "output_type": "execute_result"
    }
   ],
   "source": [
    "X_val.shape, y_val.shape"
   ]
  },
  {
   "cell_type": "code",
   "execution_count": 39,
   "id": "2b67997a",
   "metadata": {},
   "outputs": [
    {
     "data": {
      "text/plain": [
       "((8331, 6), (8331, 1))"
      ]
     },
     "execution_count": 39,
     "metadata": {},
     "output_type": "execute_result"
    }
   ],
   "source": [
    "X_test.shape, y_test.shape"
   ]
  },
  {
   "cell_type": "code",
   "execution_count": 52,
   "id": "2829175a",
   "metadata": {},
   "outputs": [
    {
     "data": {
      "text/html": [
       "<div>\n",
       "<style scoped>\n",
       "    .dataframe tbody tr th:only-of-type {\n",
       "        vertical-align: middle;\n",
       "    }\n",
       "\n",
       "    .dataframe tbody tr th {\n",
       "        vertical-align: top;\n",
       "    }\n",
       "\n",
       "    .dataframe thead th {\n",
       "        text-align: right;\n",
       "    }\n",
       "</style>\n",
       "<table border=\"1\" class=\"dataframe\">\n",
       "  <thead>\n",
       "    <tr style=\"text-align: right;\">\n",
       "      <th></th>\n",
       "      <th>sex</th>\n",
       "      <th>report_source</th>\n",
       "      <th>ndc9</th>\n",
       "      <th>weight</th>\n",
       "      <th>age</th>\n",
       "      <th>unit_price</th>\n",
       "    </tr>\n",
       "  </thead>\n",
       "  <tbody>\n",
       "    <tr>\n",
       "      <th>13607</th>\n",
       "      <td>2</td>\n",
       "      <td>2</td>\n",
       "      <td>476820456</td>\n",
       "      <td>49</td>\n",
       "      <td>14</td>\n",
       "      <td>0.48535</td>\n",
       "    </tr>\n",
       "    <tr>\n",
       "      <th>37526</th>\n",
       "      <td>1</td>\n",
       "      <td>1</td>\n",
       "      <td>837030534</td>\n",
       "      <td>83</td>\n",
       "      <td>71</td>\n",
       "      <td>0.48535</td>\n",
       "    </tr>\n",
       "    <tr>\n",
       "      <th>27780</th>\n",
       "      <td>2</td>\n",
       "      <td>3</td>\n",
       "      <td>70300241</td>\n",
       "      <td>68</td>\n",
       "      <td>44</td>\n",
       "      <td>0.48535</td>\n",
       "    </tr>\n",
       "    <tr>\n",
       "      <th>73064</th>\n",
       "      <td>2</td>\n",
       "      <td>1</td>\n",
       "      <td>6050504317</td>\n",
       "      <td>36</td>\n",
       "      <td>80</td>\n",
       "      <td>0.48535</td>\n",
       "    </tr>\n",
       "    <tr>\n",
       "      <th>51207</th>\n",
       "      <td>1</td>\n",
       "      <td>1</td>\n",
       "      <td>662150501</td>\n",
       "      <td>80</td>\n",
       "      <td>60</td>\n",
       "      <td>0.48535</td>\n",
       "    </tr>\n",
       "  </tbody>\n",
       "</table>\n",
       "</div>"
      ],
      "text/plain": [
       "       sex  report_source        ndc9  weight  age  unit_price\n",
       "13607    2              2   476820456      49   14     0.48535\n",
       "37526    1              1   837030534      83   71     0.48535\n",
       "27780    2              3    70300241      68   44     0.48535\n",
       "73064    2              1  6050504317      36   80     0.48535\n",
       "51207    1              1   662150501      80   60     0.48535"
      ]
     },
     "execution_count": 52,
     "metadata": {},
     "output_type": "execute_result"
    }
   ],
   "source": [
    "X_test.head()"
   ]
  },
  {
   "cell_type": "markdown",
   "id": "a7a59f67",
   "metadata": {},
   "source": [
    "# Transformation Pipeline"
   ]
  },
  {
   "cell_type": "markdown",
   "id": "032c0f4a",
   "metadata": {},
   "source": [
    "## Encode Categorical Variables (other than drugs) & Standardize Numerical Variables"
   ]
  },
  {
   "cell_type": "code",
   "execution_count": 40,
   "id": "7b0871ae",
   "metadata": {},
   "outputs": [],
   "source": [
    "#Initialize encoders\n",
    "encoder = OneHotEncoder(drop='if_binary', handle_unknown='ignore')\n",
    "scaler = StandardScaler()"
   ]
  },
  {
   "cell_type": "code",
   "execution_count": 41,
   "id": "448d7605",
   "metadata": {},
   "outputs": [
    {
     "data": {
      "text/html": [
       "<style>#sk-container-id-3 {\n",
       "  /* Definition of color scheme common for light and dark mode */\n",
       "  --sklearn-color-text: black;\n",
       "  --sklearn-color-line: gray;\n",
       "  /* Definition of color scheme for unfitted estimators */\n",
       "  --sklearn-color-unfitted-level-0: #fff5e6;\n",
       "  --sklearn-color-unfitted-level-1: #f6e4d2;\n",
       "  --sklearn-color-unfitted-level-2: #ffe0b3;\n",
       "  --sklearn-color-unfitted-level-3: chocolate;\n",
       "  /* Definition of color scheme for fitted estimators */\n",
       "  --sklearn-color-fitted-level-0: #f0f8ff;\n",
       "  --sklearn-color-fitted-level-1: #d4ebff;\n",
       "  --sklearn-color-fitted-level-2: #b3dbfd;\n",
       "  --sklearn-color-fitted-level-3: cornflowerblue;\n",
       "\n",
       "  /* Specific color for light theme */\n",
       "  --sklearn-color-text-on-default-background: var(--sg-text-color, var(--theme-code-foreground, var(--jp-content-font-color1, black)));\n",
       "  --sklearn-color-background: var(--sg-background-color, var(--theme-background, var(--jp-layout-color0, white)));\n",
       "  --sklearn-color-border-box: var(--sg-text-color, var(--theme-code-foreground, var(--jp-content-font-color1, black)));\n",
       "  --sklearn-color-icon: #696969;\n",
       "\n",
       "  @media (prefers-color-scheme: dark) {\n",
       "    /* Redefinition of color scheme for dark theme */\n",
       "    --sklearn-color-text-on-default-background: var(--sg-text-color, var(--theme-code-foreground, var(--jp-content-font-color1, white)));\n",
       "    --sklearn-color-background: var(--sg-background-color, var(--theme-background, var(--jp-layout-color0, #111)));\n",
       "    --sklearn-color-border-box: var(--sg-text-color, var(--theme-code-foreground, var(--jp-content-font-color1, white)));\n",
       "    --sklearn-color-icon: #878787;\n",
       "  }\n",
       "}\n",
       "\n",
       "#sk-container-id-3 {\n",
       "  color: var(--sklearn-color-text);\n",
       "}\n",
       "\n",
       "#sk-container-id-3 pre {\n",
       "  padding: 0;\n",
       "}\n",
       "\n",
       "#sk-container-id-3 input.sk-hidden--visually {\n",
       "  border: 0;\n",
       "  clip: rect(1px 1px 1px 1px);\n",
       "  clip: rect(1px, 1px, 1px, 1px);\n",
       "  height: 1px;\n",
       "  margin: -1px;\n",
       "  overflow: hidden;\n",
       "  padding: 0;\n",
       "  position: absolute;\n",
       "  width: 1px;\n",
       "}\n",
       "\n",
       "#sk-container-id-3 div.sk-dashed-wrapped {\n",
       "  border: 1px dashed var(--sklearn-color-line);\n",
       "  margin: 0 0.4em 0.5em 0.4em;\n",
       "  box-sizing: border-box;\n",
       "  padding-bottom: 0.4em;\n",
       "  background-color: var(--sklearn-color-background);\n",
       "}\n",
       "\n",
       "#sk-container-id-3 div.sk-container {\n",
       "  /* jupyter's `normalize.less` sets `[hidden] { display: none; }`\n",
       "     but bootstrap.min.css set `[hidden] { display: none !important; }`\n",
       "     so we also need the `!important` here to be able to override the\n",
       "     default hidden behavior on the sphinx rendered scikit-learn.org.\n",
       "     See: https://github.com/scikit-learn/scikit-learn/issues/21755 */\n",
       "  display: inline-block !important;\n",
       "  position: relative;\n",
       "}\n",
       "\n",
       "#sk-container-id-3 div.sk-text-repr-fallback {\n",
       "  display: none;\n",
       "}\n",
       "\n",
       "div.sk-parallel-item,\n",
       "div.sk-serial,\n",
       "div.sk-item {\n",
       "  /* draw centered vertical line to link estimators */\n",
       "  background-image: linear-gradient(var(--sklearn-color-text-on-default-background), var(--sklearn-color-text-on-default-background));\n",
       "  background-size: 2px 100%;\n",
       "  background-repeat: no-repeat;\n",
       "  background-position: center center;\n",
       "}\n",
       "\n",
       "/* Parallel-specific style estimator block */\n",
       "\n",
       "#sk-container-id-3 div.sk-parallel-item::after {\n",
       "  content: \"\";\n",
       "  width: 100%;\n",
       "  border-bottom: 2px solid var(--sklearn-color-text-on-default-background);\n",
       "  flex-grow: 1;\n",
       "}\n",
       "\n",
       "#sk-container-id-3 div.sk-parallel {\n",
       "  display: flex;\n",
       "  align-items: stretch;\n",
       "  justify-content: center;\n",
       "  background-color: var(--sklearn-color-background);\n",
       "  position: relative;\n",
       "}\n",
       "\n",
       "#sk-container-id-3 div.sk-parallel-item {\n",
       "  display: flex;\n",
       "  flex-direction: column;\n",
       "}\n",
       "\n",
       "#sk-container-id-3 div.sk-parallel-item:first-child::after {\n",
       "  align-self: flex-end;\n",
       "  width: 50%;\n",
       "}\n",
       "\n",
       "#sk-container-id-3 div.sk-parallel-item:last-child::after {\n",
       "  align-self: flex-start;\n",
       "  width: 50%;\n",
       "}\n",
       "\n",
       "#sk-container-id-3 div.sk-parallel-item:only-child::after {\n",
       "  width: 0;\n",
       "}\n",
       "\n",
       "/* Serial-specific style estimator block */\n",
       "\n",
       "#sk-container-id-3 div.sk-serial {\n",
       "  display: flex;\n",
       "  flex-direction: column;\n",
       "  align-items: center;\n",
       "  background-color: var(--sklearn-color-background);\n",
       "  padding-right: 1em;\n",
       "  padding-left: 1em;\n",
       "}\n",
       "\n",
       "\n",
       "/* Toggleable style: style used for estimator/Pipeline/ColumnTransformer box that is\n",
       "clickable and can be expanded/collapsed.\n",
       "- Pipeline and ColumnTransformer use this feature and define the default style\n",
       "- Estimators will overwrite some part of the style using the `sk-estimator` class\n",
       "*/\n",
       "\n",
       "/* Pipeline and ColumnTransformer style (default) */\n",
       "\n",
       "#sk-container-id-3 div.sk-toggleable {\n",
       "  /* Default theme specific background. It is overwritten whether we have a\n",
       "  specific estimator or a Pipeline/ColumnTransformer */\n",
       "  background-color: var(--sklearn-color-background);\n",
       "}\n",
       "\n",
       "/* Toggleable label */\n",
       "#sk-container-id-3 label.sk-toggleable__label {\n",
       "  cursor: pointer;\n",
       "  display: block;\n",
       "  width: 100%;\n",
       "  margin-bottom: 0;\n",
       "  padding: 0.5em;\n",
       "  box-sizing: border-box;\n",
       "  text-align: center;\n",
       "}\n",
       "\n",
       "#sk-container-id-3 label.sk-toggleable__label-arrow:before {\n",
       "  /* Arrow on the left of the label */\n",
       "  content: \"▸\";\n",
       "  float: left;\n",
       "  margin-right: 0.25em;\n",
       "  color: var(--sklearn-color-icon);\n",
       "}\n",
       "\n",
       "#sk-container-id-3 label.sk-toggleable__label-arrow:hover:before {\n",
       "  color: var(--sklearn-color-text);\n",
       "}\n",
       "\n",
       "/* Toggleable content - dropdown */\n",
       "\n",
       "#sk-container-id-3 div.sk-toggleable__content {\n",
       "  max-height: 0;\n",
       "  max-width: 0;\n",
       "  overflow: hidden;\n",
       "  text-align: left;\n",
       "  /* unfitted */\n",
       "  background-color: var(--sklearn-color-unfitted-level-0);\n",
       "}\n",
       "\n",
       "#sk-container-id-3 div.sk-toggleable__content.fitted {\n",
       "  /* fitted */\n",
       "  background-color: var(--sklearn-color-fitted-level-0);\n",
       "}\n",
       "\n",
       "#sk-container-id-3 div.sk-toggleable__content pre {\n",
       "  margin: 0.2em;\n",
       "  border-radius: 0.25em;\n",
       "  color: var(--sklearn-color-text);\n",
       "  /* unfitted */\n",
       "  background-color: var(--sklearn-color-unfitted-level-0);\n",
       "}\n",
       "\n",
       "#sk-container-id-3 div.sk-toggleable__content.fitted pre {\n",
       "  /* unfitted */\n",
       "  background-color: var(--sklearn-color-fitted-level-0);\n",
       "}\n",
       "\n",
       "#sk-container-id-3 input.sk-toggleable__control:checked~div.sk-toggleable__content {\n",
       "  /* Expand drop-down */\n",
       "  max-height: 200px;\n",
       "  max-width: 100%;\n",
       "  overflow: auto;\n",
       "}\n",
       "\n",
       "#sk-container-id-3 input.sk-toggleable__control:checked~label.sk-toggleable__label-arrow:before {\n",
       "  content: \"▾\";\n",
       "}\n",
       "\n",
       "/* Pipeline/ColumnTransformer-specific style */\n",
       "\n",
       "#sk-container-id-3 div.sk-label input.sk-toggleable__control:checked~label.sk-toggleable__label {\n",
       "  color: var(--sklearn-color-text);\n",
       "  background-color: var(--sklearn-color-unfitted-level-2);\n",
       "}\n",
       "\n",
       "#sk-container-id-3 div.sk-label.fitted input.sk-toggleable__control:checked~label.sk-toggleable__label {\n",
       "  background-color: var(--sklearn-color-fitted-level-2);\n",
       "}\n",
       "\n",
       "/* Estimator-specific style */\n",
       "\n",
       "/* Colorize estimator box */\n",
       "#sk-container-id-3 div.sk-estimator input.sk-toggleable__control:checked~label.sk-toggleable__label {\n",
       "  /* unfitted */\n",
       "  background-color: var(--sklearn-color-unfitted-level-2);\n",
       "}\n",
       "\n",
       "#sk-container-id-3 div.sk-estimator.fitted input.sk-toggleable__control:checked~label.sk-toggleable__label {\n",
       "  /* fitted */\n",
       "  background-color: var(--sklearn-color-fitted-level-2);\n",
       "}\n",
       "\n",
       "#sk-container-id-3 div.sk-label label.sk-toggleable__label,\n",
       "#sk-container-id-3 div.sk-label label {\n",
       "  /* The background is the default theme color */\n",
       "  color: var(--sklearn-color-text-on-default-background);\n",
       "}\n",
       "\n",
       "/* On hover, darken the color of the background */\n",
       "#sk-container-id-3 div.sk-label:hover label.sk-toggleable__label {\n",
       "  color: var(--sklearn-color-text);\n",
       "  background-color: var(--sklearn-color-unfitted-level-2);\n",
       "}\n",
       "\n",
       "/* Label box, darken color on hover, fitted */\n",
       "#sk-container-id-3 div.sk-label.fitted:hover label.sk-toggleable__label.fitted {\n",
       "  color: var(--sklearn-color-text);\n",
       "  background-color: var(--sklearn-color-fitted-level-2);\n",
       "}\n",
       "\n",
       "/* Estimator label */\n",
       "\n",
       "#sk-container-id-3 div.sk-label label {\n",
       "  font-family: monospace;\n",
       "  font-weight: bold;\n",
       "  display: inline-block;\n",
       "  line-height: 1.2em;\n",
       "}\n",
       "\n",
       "#sk-container-id-3 div.sk-label-container {\n",
       "  text-align: center;\n",
       "}\n",
       "\n",
       "/* Estimator-specific */\n",
       "#sk-container-id-3 div.sk-estimator {\n",
       "  font-family: monospace;\n",
       "  border: 1px dotted var(--sklearn-color-border-box);\n",
       "  border-radius: 0.25em;\n",
       "  box-sizing: border-box;\n",
       "  margin-bottom: 0.5em;\n",
       "  /* unfitted */\n",
       "  background-color: var(--sklearn-color-unfitted-level-0);\n",
       "}\n",
       "\n",
       "#sk-container-id-3 div.sk-estimator.fitted {\n",
       "  /* fitted */\n",
       "  background-color: var(--sklearn-color-fitted-level-0);\n",
       "}\n",
       "\n",
       "/* on hover */\n",
       "#sk-container-id-3 div.sk-estimator:hover {\n",
       "  /* unfitted */\n",
       "  background-color: var(--sklearn-color-unfitted-level-2);\n",
       "}\n",
       "\n",
       "#sk-container-id-3 div.sk-estimator.fitted:hover {\n",
       "  /* fitted */\n",
       "  background-color: var(--sklearn-color-fitted-level-2);\n",
       "}\n",
       "\n",
       "/* Specification for estimator info (e.g. \"i\" and \"?\") */\n",
       "\n",
       "/* Common style for \"i\" and \"?\" */\n",
       "\n",
       ".sk-estimator-doc-link,\n",
       "a:link.sk-estimator-doc-link,\n",
       "a:visited.sk-estimator-doc-link {\n",
       "  float: right;\n",
       "  font-size: smaller;\n",
       "  line-height: 1em;\n",
       "  font-family: monospace;\n",
       "  background-color: var(--sklearn-color-background);\n",
       "  border-radius: 1em;\n",
       "  height: 1em;\n",
       "  width: 1em;\n",
       "  text-decoration: none !important;\n",
       "  margin-left: 1ex;\n",
       "  /* unfitted */\n",
       "  border: var(--sklearn-color-unfitted-level-1) 1pt solid;\n",
       "  color: var(--sklearn-color-unfitted-level-1);\n",
       "}\n",
       "\n",
       ".sk-estimator-doc-link.fitted,\n",
       "a:link.sk-estimator-doc-link.fitted,\n",
       "a:visited.sk-estimator-doc-link.fitted {\n",
       "  /* fitted */\n",
       "  border: var(--sklearn-color-fitted-level-1) 1pt solid;\n",
       "  color: var(--sklearn-color-fitted-level-1);\n",
       "}\n",
       "\n",
       "/* On hover */\n",
       "div.sk-estimator:hover .sk-estimator-doc-link:hover,\n",
       ".sk-estimator-doc-link:hover,\n",
       "div.sk-label-container:hover .sk-estimator-doc-link:hover,\n",
       ".sk-estimator-doc-link:hover {\n",
       "  /* unfitted */\n",
       "  background-color: var(--sklearn-color-unfitted-level-3);\n",
       "  color: var(--sklearn-color-background);\n",
       "  text-decoration: none;\n",
       "}\n",
       "\n",
       "div.sk-estimator.fitted:hover .sk-estimator-doc-link.fitted:hover,\n",
       ".sk-estimator-doc-link.fitted:hover,\n",
       "div.sk-label-container:hover .sk-estimator-doc-link.fitted:hover,\n",
       ".sk-estimator-doc-link.fitted:hover {\n",
       "  /* fitted */\n",
       "  background-color: var(--sklearn-color-fitted-level-3);\n",
       "  color: var(--sklearn-color-background);\n",
       "  text-decoration: none;\n",
       "}\n",
       "\n",
       "/* Span, style for the box shown on hovering the info icon */\n",
       ".sk-estimator-doc-link span {\n",
       "  display: none;\n",
       "  z-index: 9999;\n",
       "  position: relative;\n",
       "  font-weight: normal;\n",
       "  right: .2ex;\n",
       "  padding: .5ex;\n",
       "  margin: .5ex;\n",
       "  width: min-content;\n",
       "  min-width: 20ex;\n",
       "  max-width: 50ex;\n",
       "  color: var(--sklearn-color-text);\n",
       "  box-shadow: 2pt 2pt 4pt #999;\n",
       "  /* unfitted */\n",
       "  background: var(--sklearn-color-unfitted-level-0);\n",
       "  border: .5pt solid var(--sklearn-color-unfitted-level-3);\n",
       "}\n",
       "\n",
       ".sk-estimator-doc-link.fitted span {\n",
       "  /* fitted */\n",
       "  background: var(--sklearn-color-fitted-level-0);\n",
       "  border: var(--sklearn-color-fitted-level-3);\n",
       "}\n",
       "\n",
       ".sk-estimator-doc-link:hover span {\n",
       "  display: block;\n",
       "}\n",
       "\n",
       "/* \"?\"-specific style due to the `<a>` HTML tag */\n",
       "\n",
       "#sk-container-id-3 a.estimator_doc_link {\n",
       "  float: right;\n",
       "  font-size: 1rem;\n",
       "  line-height: 1em;\n",
       "  font-family: monospace;\n",
       "  background-color: var(--sklearn-color-background);\n",
       "  border-radius: 1rem;\n",
       "  height: 1rem;\n",
       "  width: 1rem;\n",
       "  text-decoration: none;\n",
       "  /* unfitted */\n",
       "  color: var(--sklearn-color-unfitted-level-1);\n",
       "  border: var(--sklearn-color-unfitted-level-1) 1pt solid;\n",
       "}\n",
       "\n",
       "#sk-container-id-3 a.estimator_doc_link.fitted {\n",
       "  /* fitted */\n",
       "  border: var(--sklearn-color-fitted-level-1) 1pt solid;\n",
       "  color: var(--sklearn-color-fitted-level-1);\n",
       "}\n",
       "\n",
       "/* On hover */\n",
       "#sk-container-id-3 a.estimator_doc_link:hover {\n",
       "  /* unfitted */\n",
       "  background-color: var(--sklearn-color-unfitted-level-3);\n",
       "  color: var(--sklearn-color-background);\n",
       "  text-decoration: none;\n",
       "}\n",
       "\n",
       "#sk-container-id-3 a.estimator_doc_link.fitted:hover {\n",
       "  /* fitted */\n",
       "  background-color: var(--sklearn-color-fitted-level-3);\n",
       "}\n",
       "</style><div id=\"sk-container-id-3\" class=\"sk-top-container\"><div class=\"sk-text-repr-fallback\"><pre>StandardScaler()</pre><b>In a Jupyter environment, please rerun this cell to show the HTML representation or trust the notebook. <br />On GitHub, the HTML representation is unable to render, please try loading this page with nbviewer.org.</b></div><div class=\"sk-container\" hidden><div class=\"sk-item\"><div class=\"sk-estimator fitted sk-toggleable\"><input class=\"sk-toggleable__control sk-hidden--visually\" id=\"sk-estimator-id-3\" type=\"checkbox\" checked><label for=\"sk-estimator-id-3\" class=\"sk-toggleable__label fitted sk-toggleable__label-arrow fitted\">&nbsp;&nbsp;StandardScaler<a class=\"sk-estimator-doc-link fitted\" rel=\"noreferrer\" target=\"_blank\" href=\"https://scikit-learn.org/1.4/modules/generated/sklearn.preprocessing.StandardScaler.html\">?<span>Documentation for StandardScaler</span></a><span class=\"sk-estimator-doc-link fitted\">i<span>Fitted</span></span></label><div class=\"sk-toggleable__content fitted\"><pre>StandardScaler()</pre></div> </div></div></div></div>"
      ],
      "text/plain": [
       "StandardScaler()"
      ]
     },
     "execution_count": 41,
     "metadata": {},
     "output_type": "execute_result"
    }
   ],
   "source": [
    "# Fit the encoder on X so all possible categories are captured, even if they are only in training or testing\n",
    "encoder.fit(X_train[cats])\n",
    "scaler.fit(X_train[nums])"
   ]
  },
  {
   "cell_type": "code",
   "execution_count": 42,
   "id": "15889c34-7358-42e2-b30b-f92f0047ef35",
   "metadata": {},
   "outputs": [],
   "source": [
    "#Initialize encoders\n",
    "encoder = OneHotEncoder(drop='if_binary', sparse_output=False, handle_unknown='ignore')\n",
    "scaler = StandardScaler()\n",
    "\n",
    "# Fit the encoder on X so all possible categories are captured, even if they are only in training or testing\n",
    "encoder.fit(X[cats])\n",
    "scaler.fit(X_train[nums])\n",
    "\n",
    "\n",
    "def transform_data(data):\n",
    "    # Apply one-hot encoding to categorical features\n",
    "    encoded_features = encoder.transform(data[cats])\n",
    "    encoded_df = pd.DataFrame(encoded_features, columns=encoder.get_feature_names_out(cats))\n",
    "    \n",
    "    # Apply standardization to numerical features\n",
    "    standardized_features = scaler.transform(data[nums])\n",
    "    standardized_df = pd.DataFrame(standardized_features, columns=nums)\n",
    "    \n",
    "    # Concatenate the standardized numerical features with the encoded categorical features\n",
    "    return pd.concat([data.drop(cats + nums, axis=1).reset_index(drop=True),\n",
    "                      standardized_df.reset_index(drop=True),\n",
    "                      encoded_df.reset_index(drop=True)], axis=1)"
   ]
  },
  {
   "cell_type": "code",
   "execution_count": 43,
   "id": "0aa3671d",
   "metadata": {},
   "outputs": [
    {
     "data": {
      "text/html": [
       "<div>\n",
       "<style scoped>\n",
       "    .dataframe tbody tr th:only-of-type {\n",
       "        vertical-align: middle;\n",
       "    }\n",
       "\n",
       "    .dataframe tbody tr th {\n",
       "        vertical-align: top;\n",
       "    }\n",
       "\n",
       "    .dataframe thead th {\n",
       "        text-align: right;\n",
       "    }\n",
       "</style>\n",
       "<table border=\"1\" class=\"dataframe\">\n",
       "  <thead>\n",
       "    <tr style=\"text-align: right;\">\n",
       "      <th></th>\n",
       "      <th>weight</th>\n",
       "      <th>age</th>\n",
       "      <th>unit_price</th>\n",
       "      <th>sex_2</th>\n",
       "      <th>report_source_1</th>\n",
       "      <th>report_source_2</th>\n",
       "      <th>report_source_3</th>\n",
       "      <th>ndc9_200152</th>\n",
       "      <th>ndc9_200213</th>\n",
       "      <th>ndc9_202980</th>\n",
       "      <th>...</th>\n",
       "      <th>ndc9_7359409301</th>\n",
       "      <th>ndc9_7467605902</th>\n",
       "      <th>ndc9_7632901912</th>\n",
       "      <th>ndc9_7632903318</th>\n",
       "      <th>ndc9_7632908261</th>\n",
       "      <th>ndc9_7948100090</th>\n",
       "      <th>ndc9_8076200021</th>\n",
       "      <th>ndc9_8215400449</th>\n",
       "      <th>ndc9_8224301001</th>\n",
       "      <th>ndc9_8322200200</th>\n",
       "    </tr>\n",
       "  </thead>\n",
       "  <tbody>\n",
       "    <tr>\n",
       "      <th>0</th>\n",
       "      <td>-1.067765</td>\n",
       "      <td>-2.049919</td>\n",
       "      <td>-0.101208</td>\n",
       "      <td>1.0</td>\n",
       "      <td>0.0</td>\n",
       "      <td>1.0</td>\n",
       "      <td>0.0</td>\n",
       "      <td>0.0</td>\n",
       "      <td>0.0</td>\n",
       "      <td>0.0</td>\n",
       "      <td>...</td>\n",
       "      <td>0.0</td>\n",
       "      <td>0.0</td>\n",
       "      <td>0.0</td>\n",
       "      <td>0.0</td>\n",
       "      <td>0.0</td>\n",
       "      <td>0.0</td>\n",
       "      <td>0.0</td>\n",
       "      <td>0.0</td>\n",
       "      <td>0.0</td>\n",
       "      <td>0.0</td>\n",
       "    </tr>\n",
       "    <tr>\n",
       "      <th>1</th>\n",
       "      <td>0.423929</td>\n",
       "      <td>0.785213</td>\n",
       "      <td>-0.101208</td>\n",
       "      <td>0.0</td>\n",
       "      <td>1.0</td>\n",
       "      <td>0.0</td>\n",
       "      <td>0.0</td>\n",
       "      <td>0.0</td>\n",
       "      <td>0.0</td>\n",
       "      <td>0.0</td>\n",
       "      <td>...</td>\n",
       "      <td>0.0</td>\n",
       "      <td>0.0</td>\n",
       "      <td>0.0</td>\n",
       "      <td>0.0</td>\n",
       "      <td>0.0</td>\n",
       "      <td>0.0</td>\n",
       "      <td>0.0</td>\n",
       "      <td>0.0</td>\n",
       "      <td>0.0</td>\n",
       "      <td>0.0</td>\n",
       "    </tr>\n",
       "    <tr>\n",
       "      <th>2</th>\n",
       "      <td>-0.234171</td>\n",
       "      <td>-0.557744</td>\n",
       "      <td>-0.101208</td>\n",
       "      <td>1.0</td>\n",
       "      <td>0.0</td>\n",
       "      <td>0.0</td>\n",
       "      <td>1.0</td>\n",
       "      <td>0.0</td>\n",
       "      <td>0.0</td>\n",
       "      <td>0.0</td>\n",
       "      <td>...</td>\n",
       "      <td>0.0</td>\n",
       "      <td>0.0</td>\n",
       "      <td>0.0</td>\n",
       "      <td>0.0</td>\n",
       "      <td>0.0</td>\n",
       "      <td>0.0</td>\n",
       "      <td>0.0</td>\n",
       "      <td>0.0</td>\n",
       "      <td>0.0</td>\n",
       "      <td>0.0</td>\n",
       "    </tr>\n",
       "    <tr>\n",
       "      <th>3</th>\n",
       "      <td>-1.638119</td>\n",
       "      <td>1.232865</td>\n",
       "      <td>-0.101208</td>\n",
       "      <td>1.0</td>\n",
       "      <td>1.0</td>\n",
       "      <td>0.0</td>\n",
       "      <td>0.0</td>\n",
       "      <td>0.0</td>\n",
       "      <td>0.0</td>\n",
       "      <td>0.0</td>\n",
       "      <td>...</td>\n",
       "      <td>0.0</td>\n",
       "      <td>0.0</td>\n",
       "      <td>0.0</td>\n",
       "      <td>0.0</td>\n",
       "      <td>0.0</td>\n",
       "      <td>0.0</td>\n",
       "      <td>0.0</td>\n",
       "      <td>0.0</td>\n",
       "      <td>0.0</td>\n",
       "      <td>0.0</td>\n",
       "    </tr>\n",
       "    <tr>\n",
       "      <th>4</th>\n",
       "      <td>0.292309</td>\n",
       "      <td>0.238082</td>\n",
       "      <td>-0.101208</td>\n",
       "      <td>0.0</td>\n",
       "      <td>1.0</td>\n",
       "      <td>0.0</td>\n",
       "      <td>0.0</td>\n",
       "      <td>0.0</td>\n",
       "      <td>0.0</td>\n",
       "      <td>0.0</td>\n",
       "      <td>...</td>\n",
       "      <td>0.0</td>\n",
       "      <td>0.0</td>\n",
       "      <td>0.0</td>\n",
       "      <td>0.0</td>\n",
       "      <td>0.0</td>\n",
       "      <td>0.0</td>\n",
       "      <td>0.0</td>\n",
       "      <td>0.0</td>\n",
       "      <td>0.0</td>\n",
       "      <td>0.0</td>\n",
       "    </tr>\n",
       "  </tbody>\n",
       "</table>\n",
       "<p>5 rows × 1754 columns</p>\n",
       "</div>"
      ],
      "text/plain": [
       "     weight       age  unit_price  sex_2  report_source_1  report_source_2  \\\n",
       "0 -1.067765 -2.049919   -0.101208    1.0              0.0              1.0   \n",
       "1  0.423929  0.785213   -0.101208    0.0              1.0              0.0   \n",
       "2 -0.234171 -0.557744   -0.101208    1.0              0.0              0.0   \n",
       "3 -1.638119  1.232865   -0.101208    1.0              1.0              0.0   \n",
       "4  0.292309  0.238082   -0.101208    0.0              1.0              0.0   \n",
       "\n",
       "   report_source_3  ndc9_200152  ndc9_200213  ndc9_202980  ...  \\\n",
       "0              0.0          0.0          0.0          0.0  ...   \n",
       "1              0.0          0.0          0.0          0.0  ...   \n",
       "2              1.0          0.0          0.0          0.0  ...   \n",
       "3              0.0          0.0          0.0          0.0  ...   \n",
       "4              0.0          0.0          0.0          0.0  ...   \n",
       "\n",
       "   ndc9_7359409301  ndc9_7467605902  ndc9_7632901912  ndc9_7632903318  \\\n",
       "0              0.0              0.0              0.0              0.0   \n",
       "1              0.0              0.0              0.0              0.0   \n",
       "2              0.0              0.0              0.0              0.0   \n",
       "3              0.0              0.0              0.0              0.0   \n",
       "4              0.0              0.0              0.0              0.0   \n",
       "\n",
       "   ndc9_7632908261  ndc9_7948100090  ndc9_8076200021  ndc9_8215400449  \\\n",
       "0              0.0              0.0              0.0              0.0   \n",
       "1              0.0              0.0              0.0              0.0   \n",
       "2              0.0              0.0              0.0              0.0   \n",
       "3              0.0              0.0              0.0              0.0   \n",
       "4              0.0              0.0              0.0              0.0   \n",
       "\n",
       "   ndc9_8224301001  ndc9_8322200200  \n",
       "0              0.0              0.0  \n",
       "1              0.0              0.0  \n",
       "2              0.0              0.0  \n",
       "3              0.0              0.0  \n",
       "4              0.0              0.0  \n",
       "\n",
       "[5 rows x 1754 columns]"
      ]
     },
     "execution_count": 43,
     "metadata": {},
     "output_type": "execute_result"
    }
   ],
   "source": [
    "# Apply the transformation to all datasets\n",
    "\n",
    "# Apply to training data after outcome balancing - need to save raw data components for streamlit\n",
    "#X_train_encoded = transform_data(X_train) \n",
    "\n",
    "X_val_encoded = transform_data(X_val)\n",
    "X_test_encoded = transform_data(X_test)\n",
    "X_test_encoded.head()"
   ]
  },
  {
   "cell_type": "markdown",
   "id": "e207ea03",
   "metadata": {},
   "source": [
    "## Resampling Techniques - UnderSampling of Training Set"
   ]
  },
  {
   "cell_type": "code",
   "execution_count": 44,
   "id": "88325de8",
   "metadata": {},
   "outputs": [
    {
     "data": {
      "text/plain": [
       "serious_outcome\n",
       "1                  46637\n",
       "2                  17317\n",
       "0                   2691\n",
       "Name: count, dtype: int64"
      ]
     },
     "execution_count": 44,
     "metadata": {},
     "output_type": "execute_result"
    }
   ],
   "source": [
    "y_train.value_counts()"
   ]
  },
  {
   "cell_type": "code",
   "execution_count": 45,
   "id": "0a5fdd0c",
   "metadata": {},
   "outputs": [],
   "source": [
    "# Create a RandomUnderSampler instance with a specified random seed and sampling strategy\n",
    "# Define the sampling strategy to balance all classes\n",
    "sampling_n = {0: y_train.value_counts()[0], 1: y_train.value_counts()[0], 2: y_train.value_counts()[0]}\n",
    "rus = RandomUnderSampler(random_state = 1, sampling_strategy=sampling_n )\n",
    "\n",
    "# Perform random under-sampling on the training dataset\n",
    "X_train_under, y_train_under = rus.fit_resample(X_train, y_train)"
   ]
  },
  {
   "cell_type": "code",
   "execution_count": 46,
   "id": "d8d31eb8",
   "metadata": {},
   "outputs": [
    {
     "data": {
      "text/plain": [
       "((8073, 6), (8073, 1))"
      ]
     },
     "execution_count": 46,
     "metadata": {},
     "output_type": "execute_result"
    }
   ],
   "source": [
    "X_train_under.shape, y_train_under.shape"
   ]
  },
  {
   "cell_type": "code",
   "execution_count": 47,
   "id": "092cc414",
   "metadata": {},
   "outputs": [
    {
     "data": {
      "text/plain": [
       "serious_outcome\n",
       "0                  2691\n",
       "1                  2691\n",
       "2                  2691\n",
       "Name: count, dtype: int64"
      ]
     },
     "execution_count": 47,
     "metadata": {},
     "output_type": "execute_result"
    }
   ],
   "source": [
    "y_train_under.value_counts()"
   ]
  },
  {
   "cell_type": "markdown",
   "id": "73428bca",
   "metadata": {},
   "source": [
    "### Save components of raw training data for pretrained model deployment in streamlit"
   ]
  },
  {
   "cell_type": "code",
   "execution_count": 49,
   "id": "d107124c",
   "metadata": {},
   "outputs": [
    {
     "data": {
      "text/plain": [
       "['Pretrained_Model_and_Apps/ndc9_codes.joblib']"
      ]
     },
     "execution_count": 49,
     "metadata": {},
     "output_type": "execute_result"
    }
   ],
   "source": [
    "# Create Directory for Model Storage and Apps\n",
    "os.makedirs('Pretrained_Model_and_Apps', exist_ok=True)\n",
    "\n",
    "# Initialize and fit the scalers\n",
    "age_scaler = StandardScaler().fit(X_train_under[['age']])\n",
    "weight_scaler = StandardScaler().fit(X_train_under[['weight']])\n",
    "price_scaler = StandardScaler().fit(X_train_under[['unit_price']])\n",
    "\n",
    "# Save the scalers\n",
    "joblib.dump(age_scaler, 'Pretrained_Model_and_Apps/age_scaler.joblib')\n",
    "joblib.dump(weight_scaler, 'Pretrained_Model_and_Apps/weight_scaler.joblib')\n",
    "joblib.dump(price_scaler, 'Pretrained_Model_and_Apps/price_scaler.joblib')\n",
    "\n",
    "# Save list of ndc9 codes\n",
    "ndc9_codes = master_query_df['ndc9'].tolist()\n",
    "joblib.dump(ndc9_codes, 'Pretrained_Model_and_Apps/ndc9_codes.joblib')"
   ]
  },
  {
   "cell_type": "markdown",
   "id": "dd5c1d8d",
   "metadata": {},
   "source": [
    "### Transform Features of Balanced Dataset"
   ]
  },
  {
   "cell_type": "code",
   "execution_count": 50,
   "id": "5b6de75e",
   "metadata": {},
   "outputs": [
    {
     "data": {
      "text/html": [
       "<div>\n",
       "<style scoped>\n",
       "    .dataframe tbody tr th:only-of-type {\n",
       "        vertical-align: middle;\n",
       "    }\n",
       "\n",
       "    .dataframe tbody tr th {\n",
       "        vertical-align: top;\n",
       "    }\n",
       "\n",
       "    .dataframe thead th {\n",
       "        text-align: right;\n",
       "    }\n",
       "</style>\n",
       "<table border=\"1\" class=\"dataframe\">\n",
       "  <thead>\n",
       "    <tr style=\"text-align: right;\">\n",
       "      <th></th>\n",
       "      <th>weight</th>\n",
       "      <th>age</th>\n",
       "      <th>unit_price</th>\n",
       "      <th>sex_2</th>\n",
       "      <th>report_source_1</th>\n",
       "      <th>report_source_2</th>\n",
       "      <th>report_source_3</th>\n",
       "      <th>ndc9_200152</th>\n",
       "      <th>ndc9_200213</th>\n",
       "      <th>ndc9_202980</th>\n",
       "      <th>...</th>\n",
       "      <th>ndc9_7359409301</th>\n",
       "      <th>ndc9_7467605902</th>\n",
       "      <th>ndc9_7632901912</th>\n",
       "      <th>ndc9_7632903318</th>\n",
       "      <th>ndc9_7632908261</th>\n",
       "      <th>ndc9_7948100090</th>\n",
       "      <th>ndc9_8076200021</th>\n",
       "      <th>ndc9_8215400449</th>\n",
       "      <th>ndc9_8224301001</th>\n",
       "      <th>ndc9_8322200200</th>\n",
       "    </tr>\n",
       "  </thead>\n",
       "  <tbody>\n",
       "    <tr>\n",
       "      <th>0</th>\n",
       "      <td>0.950410</td>\n",
       "      <td>0.586256</td>\n",
       "      <td>-0.101208</td>\n",
       "      <td>0.0</td>\n",
       "      <td>1.0</td>\n",
       "      <td>0.0</td>\n",
       "      <td>0.0</td>\n",
       "      <td>0.0</td>\n",
       "      <td>0.0</td>\n",
       "      <td>0.0</td>\n",
       "      <td>...</td>\n",
       "      <td>0.0</td>\n",
       "      <td>0.0</td>\n",
       "      <td>0.0</td>\n",
       "      <td>0.0</td>\n",
       "      <td>0.0</td>\n",
       "      <td>0.0</td>\n",
       "      <td>0.0</td>\n",
       "      <td>0.0</td>\n",
       "      <td>0.0</td>\n",
       "      <td>0.0</td>\n",
       "    </tr>\n",
       "    <tr>\n",
       "      <th>1</th>\n",
       "      <td>0.248436</td>\n",
       "      <td>-0.309048</td>\n",
       "      <td>-0.101208</td>\n",
       "      <td>0.0</td>\n",
       "      <td>1.0</td>\n",
       "      <td>0.0</td>\n",
       "      <td>0.0</td>\n",
       "      <td>0.0</td>\n",
       "      <td>0.0</td>\n",
       "      <td>0.0</td>\n",
       "      <td>...</td>\n",
       "      <td>0.0</td>\n",
       "      <td>0.0</td>\n",
       "      <td>0.0</td>\n",
       "      <td>0.0</td>\n",
       "      <td>0.0</td>\n",
       "      <td>0.0</td>\n",
       "      <td>0.0</td>\n",
       "      <td>0.0</td>\n",
       "      <td>0.0</td>\n",
       "      <td>0.0</td>\n",
       "    </tr>\n",
       "    <tr>\n",
       "      <th>2</th>\n",
       "      <td>0.248436</td>\n",
       "      <td>-0.856179</td>\n",
       "      <td>-0.101208</td>\n",
       "      <td>0.0</td>\n",
       "      <td>0.0</td>\n",
       "      <td>1.0</td>\n",
       "      <td>0.0</td>\n",
       "      <td>0.0</td>\n",
       "      <td>0.0</td>\n",
       "      <td>0.0</td>\n",
       "      <td>...</td>\n",
       "      <td>0.0</td>\n",
       "      <td>0.0</td>\n",
       "      <td>0.0</td>\n",
       "      <td>0.0</td>\n",
       "      <td>0.0</td>\n",
       "      <td>0.0</td>\n",
       "      <td>0.0</td>\n",
       "      <td>0.0</td>\n",
       "      <td>0.0</td>\n",
       "      <td>0.0</td>\n",
       "    </tr>\n",
       "    <tr>\n",
       "      <th>3</th>\n",
       "      <td>1.520763</td>\n",
       "      <td>-0.607483</td>\n",
       "      <td>-0.101208</td>\n",
       "      <td>0.0</td>\n",
       "      <td>0.0</td>\n",
       "      <td>0.0</td>\n",
       "      <td>1.0</td>\n",
       "      <td>0.0</td>\n",
       "      <td>0.0</td>\n",
       "      <td>0.0</td>\n",
       "      <td>...</td>\n",
       "      <td>0.0</td>\n",
       "      <td>0.0</td>\n",
       "      <td>0.0</td>\n",
       "      <td>0.0</td>\n",
       "      <td>0.0</td>\n",
       "      <td>0.0</td>\n",
       "      <td>0.0</td>\n",
       "      <td>0.0</td>\n",
       "      <td>0.0</td>\n",
       "      <td>0.0</td>\n",
       "    </tr>\n",
       "    <tr>\n",
       "      <th>4</th>\n",
       "      <td>2.047244</td>\n",
       "      <td>0.138604</td>\n",
       "      <td>-0.101208</td>\n",
       "      <td>0.0</td>\n",
       "      <td>1.0</td>\n",
       "      <td>0.0</td>\n",
       "      <td>0.0</td>\n",
       "      <td>0.0</td>\n",
       "      <td>0.0</td>\n",
       "      <td>0.0</td>\n",
       "      <td>...</td>\n",
       "      <td>0.0</td>\n",
       "      <td>0.0</td>\n",
       "      <td>0.0</td>\n",
       "      <td>0.0</td>\n",
       "      <td>0.0</td>\n",
       "      <td>0.0</td>\n",
       "      <td>0.0</td>\n",
       "      <td>0.0</td>\n",
       "      <td>0.0</td>\n",
       "      <td>0.0</td>\n",
       "    </tr>\n",
       "  </tbody>\n",
       "</table>\n",
       "<p>5 rows × 1754 columns</p>\n",
       "</div>"
      ],
      "text/plain": [
       "     weight       age  unit_price  sex_2  report_source_1  report_source_2  \\\n",
       "0  0.950410  0.586256   -0.101208    0.0              1.0              0.0   \n",
       "1  0.248436 -0.309048   -0.101208    0.0              1.0              0.0   \n",
       "2  0.248436 -0.856179   -0.101208    0.0              0.0              1.0   \n",
       "3  1.520763 -0.607483   -0.101208    0.0              0.0              0.0   \n",
       "4  2.047244  0.138604   -0.101208    0.0              1.0              0.0   \n",
       "\n",
       "   report_source_3  ndc9_200152  ndc9_200213  ndc9_202980  ...  \\\n",
       "0              0.0          0.0          0.0          0.0  ...   \n",
       "1              0.0          0.0          0.0          0.0  ...   \n",
       "2              0.0          0.0          0.0          0.0  ...   \n",
       "3              1.0          0.0          0.0          0.0  ...   \n",
       "4              0.0          0.0          0.0          0.0  ...   \n",
       "\n",
       "   ndc9_7359409301  ndc9_7467605902  ndc9_7632901912  ndc9_7632903318  \\\n",
       "0              0.0              0.0              0.0              0.0   \n",
       "1              0.0              0.0              0.0              0.0   \n",
       "2              0.0              0.0              0.0              0.0   \n",
       "3              0.0              0.0              0.0              0.0   \n",
       "4              0.0              0.0              0.0              0.0   \n",
       "\n",
       "   ndc9_7632908261  ndc9_7948100090  ndc9_8076200021  ndc9_8215400449  \\\n",
       "0              0.0              0.0              0.0              0.0   \n",
       "1              0.0              0.0              0.0              0.0   \n",
       "2              0.0              0.0              0.0              0.0   \n",
       "3              0.0              0.0              0.0              0.0   \n",
       "4              0.0              0.0              0.0              0.0   \n",
       "\n",
       "   ndc9_8224301001  ndc9_8322200200  \n",
       "0              0.0              0.0  \n",
       "1              0.0              0.0  \n",
       "2              0.0              0.0  \n",
       "3              0.0              0.0  \n",
       "4              0.0              0.0  \n",
       "\n",
       "[5 rows x 1754 columns]"
      ]
     },
     "execution_count": 50,
     "metadata": {},
     "output_type": "execute_result"
    }
   ],
   "source": [
    "X_train_encoded = transform_data(X_train_under)\n",
    "X_train_encoded.shape\n",
    "X_train_encoded.head()"
   ]
  },
  {
   "cell_type": "code",
   "execution_count": 51,
   "id": "81a8a847",
   "metadata": {},
   "outputs": [],
   "source": [
    "X_train_under = X_train_encoded"
   ]
  },
  {
   "cell_type": "markdown",
   "id": "8f2ba158",
   "metadata": {},
   "source": [
    "# Multiclass Classification Model Training"
   ]
  },
  {
   "cell_type": "markdown",
   "id": "82ed355f",
   "metadata": {},
   "source": [
    "## White Box Models"
   ]
  },
  {
   "cell_type": "markdown",
   "id": "8aec591d-8f63-4b01-8e85-9cec598ee4a0",
   "metadata": {},
   "source": [
    "### Logistic Regression L1 Regularization"
   ]
  },
  {
   "cell_type": "markdown",
   "id": "5dda710f-64b9-43d2-a16c-2d1c490490d8",
   "metadata": {},
   "source": [
    "#### Generate and Fit Model on Training Data"
   ]
  },
  {
   "cell_type": "code",
   "execution_count": null,
   "id": "272ae8e1-702a-462a-917f-c9267fc899c1",
   "metadata": {},
   "outputs": [],
   "source": [
    "log_l1 = LogisticRegression(solver='saga', penalty='l1', random_state=1)\n",
    "log_l1.fit(X_train_under, y_train_under)"
   ]
  },
  {
   "cell_type": "markdown",
   "id": "1406ae5b-90f1-4a5e-a20e-ccc088b2c4b3",
   "metadata": {},
   "source": [
    "#### Fit Model on Testing Data, Model Performance Metrics"
   ]
  },
  {
   "cell_type": "code",
   "execution_count": null,
   "id": "1f1c4c6e-0eba-4e19-992c-ce703d4ea647",
   "metadata": {},
   "outputs": [],
   "source": [
    "model_name = 'log_l1'\n",
    "\n",
    "# Run model on test data, generate confusion matrix, save y_pred\n",
    "log_l1_metrics_df, log_l1_img_path, log_l1_y_pred = evaluate_model(log_l1, X_test_encoded, y_test, labels=[0, 1, 2], model_name=model_name)\n",
    "\n",
    "log_l1_metrics_df.head()"
   ]
  },
  {
   "cell_type": "markdown",
   "id": "3bce58ce-a8d0-480d-a8ce-fc84bbfef678",
   "metadata": {},
   "source": [
    "#### Get Probabilities for AUC curve"
   ]
  },
  {
   "cell_type": "code",
   "execution_count": null,
   "id": "534684ae-ed4c-42f0-8968-d1e65e07bfbb",
   "metadata": {},
   "outputs": [],
   "source": [
    "log_l1_y_pred_proba = log_l1.predict_proba(X_test_encoded)  # This should be a 2D array"
   ]
  },
  {
   "cell_type": "markdown",
   "id": "5d0ec1e5-8208-4b54-a3ee-2b435e5a343c",
   "metadata": {},
   "source": [
    "#### View Classification Matrix"
   ]
  },
  {
   "cell_type": "code",
   "execution_count": null,
   "id": "686d7856-3406-4058-957b-778b4b838b02",
   "metadata": {},
   "outputs": [],
   "source": [
    "display(Image(filename=log_l1_img_path))"
   ]
  },
  {
   "cell_type": "markdown",
   "id": "91d2a437-a24a-48dc-a73d-8608a7dfcaa2",
   "metadata": {},
   "source": [
    "#### Other Model Metrics - Model Coefficient Odds for Each Outcome"
   ]
  },
  {
   "cell_type": "code",
   "execution_count": null,
   "id": "45fd6874",
   "metadata": {},
   "outputs": [],
   "source": [
    "coefficients_and_odds = get_model_coefficients_and_odds(X_train_under, log_l1)\n",
    "for outcome, df in coefficients_and_odds.items():\n",
    "     print(f\"Top features for {outcome}:\")\n",
    "     print(df)"
   ]
  },
  {
   "cell_type": "markdown",
   "id": "ca165463-02fb-4ea6-a213-2cca1db37508",
   "metadata": {},
   "source": [
    "### Logistic Regression L2 Regularization"
   ]
  },
  {
   "cell_type": "markdown",
   "id": "2a199c79-614e-44e0-a68c-2f340641e60f",
   "metadata": {},
   "source": [
    "#### Generate and Fit Model on Training Data"
   ]
  },
  {
   "cell_type": "code",
   "execution_count": null,
   "id": "5878cf4e-6867-4944-bfab-fdcca9725168",
   "metadata": {
    "scrolled": true
   },
   "outputs": [],
   "source": [
    "log_l2 = LogisticRegression(solver='saga', penalty='l2', random_state=1)\n",
    "log_l2.fit(X_train_under, y_train_under)"
   ]
  },
  {
   "cell_type": "markdown",
   "id": "4bd2f251-ab7b-4825-a4db-abe2dd8b5d73",
   "metadata": {},
   "source": [
    "#### Fit Model on Testing Data, Model Performance Metrics"
   ]
  },
  {
   "cell_type": "code",
   "execution_count": null,
   "id": "51b78f0c-ac63-4454-9b13-238f9b353f40",
   "metadata": {},
   "outputs": [],
   "source": [
    "model_name = 'log_l2'\n",
    "\n",
    "# Run model on test data, generate confusion matrix, save y_pred\n",
    "log_l2_metrics_df, log_l2_img_path, log_l2_y_pred = evaluate_model(log_l2, X_test_encoded, y_test, labels=[0, 1, 2], model_name=model_name)\n",
    "\n",
    "log_l2_metrics_df.head()"
   ]
  },
  {
   "cell_type": "markdown",
   "id": "bc680c30-4604-4311-9a2d-c25e65c9a731",
   "metadata": {},
   "source": [
    "#### Get Probabilities for AUC Curve"
   ]
  },
  {
   "cell_type": "code",
   "execution_count": null,
   "id": "3dca80fd-280b-4e4e-817a-9c186549eaf8",
   "metadata": {},
   "outputs": [],
   "source": [
    "log_l2_y_pred_proba = log_l2.predict_proba(X_test_encoded)  # This should be a 2D array"
   ]
  },
  {
   "cell_type": "markdown",
   "id": "f6383b7e-346f-4fcd-8dfe-1f6c87ab1499",
   "metadata": {},
   "source": [
    "#### View Classification Matrix"
   ]
  },
  {
   "cell_type": "code",
   "execution_count": null,
   "id": "7544c5a9-e2a8-4fa0-95d6-e41620490a06",
   "metadata": {
    "scrolled": true
   },
   "outputs": [],
   "source": [
    "display(Image(filename=log_l2_img_path))"
   ]
  },
  {
   "cell_type": "markdown",
   "id": "a3ba8ed5-0e39-4bba-8e58-9b171a1a4726",
   "metadata": {},
   "source": [
    "#### Other Metrics - Model Coefficient Odds for Each Outcome"
   ]
  },
  {
   "cell_type": "code",
   "execution_count": null,
   "id": "38ff52aa",
   "metadata": {},
   "outputs": [],
   "source": [
    "coefficients_and_odds = get_model_coefficients_and_odds(X_train_under, log_l2)\n",
    "for outcome, df in coefficients_and_odds.items():\n",
    "     print(f\"Top features for {outcome}:\")\n",
    "     print(df)"
   ]
  },
  {
   "cell_type": "markdown",
   "id": "1b8ecbaa-f992-4535-a36f-0153dfe8a5a2",
   "metadata": {},
   "source": [
    "### Logistic Regression Elastic Net"
   ]
  },
  {
   "cell_type": "markdown",
   "id": "2ef8d638-0d02-4efa-9957-be532156b7fd",
   "metadata": {},
   "source": [
    "#### Grid Search"
   ]
  },
  {
   "cell_type": "code",
   "execution_count": null,
   "id": "ea6be28f-15d8-481d-9709-6beb6270da04",
   "metadata": {},
   "outputs": [],
   "source": [
    "param_grid = {\n",
    "    'l1_ratio': [i / 9 for i in range(10)],  # 10 values from 0 to 1 (0, 0.1, 0.2, ..., 1.0)\n",
    "    'C': [0.01, 0.1, 1, 10, 100]  # Different strengths of regularization\n",
    "}\n",
    "\n",
    "# Initialize the Logistic Regression model with Elastic Net penalty\n",
    "log_reg_elasticnet = LogisticRegression(\n",
    "    penalty='elasticnet',  # Use Elastic Net regularization\n",
    "    solver='saga',        # Solver that supports Elastic Net\n",
    "    random_state=1\n",
    ")\n",
    "\n",
    "# Initialize GridSearchCV\n",
    "grid_search = GridSearchCV(\n",
    "    estimator=log_reg_elasticnet,\n",
    "    param_grid=param_grid,\n",
    "    scoring='accuracy',   # Or another metric of choice\n",
    "    cv=5,                 # Number of cross-validation folds\n",
    "    n_jobs=-1              # Use all available CPUs\n",
    ")\n",
    "\n",
    "# Fit GridSearchCV to the training data\n",
    "grid_search.fit(X_train_under, y_train_under.values.ravel())\n",
    "\n",
    "# Extract and print the best parameters and best score from grid search\n",
    "best_params = grid_search.best_params_\n",
    "print(f\"Best parameters: {best_params}\")\n",
    "\n",
    "best_score = grid_search.best_score_\n",
    "print(f\"Best cross-validation score: {best_score:.3f}\")\n",
    "\n",
    "# Get the best model\n",
    "elastic_net = grid_search.best_estimator_\n"
   ]
  },
  {
   "cell_type": "markdown",
   "id": "58e29ee4-e754-40de-99a9-33ceff795a88",
   "metadata": {},
   "source": [
    "#### Generate and Fit Model on Training Data"
   ]
  },
  {
   "cell_type": "code",
   "execution_count": null,
   "id": "4a006407-bead-41f6-ab57-ea0d65b080ad",
   "metadata": {
    "scrolled": true
   },
   "outputs": [],
   "source": [
    "elastic_net.fit(X_train_under, y_train_under)"
   ]
  },
  {
   "cell_type": "markdown",
   "id": "e1a6734d-3f3b-42e0-8536-bdaaf1a772be",
   "metadata": {},
   "source": [
    "#### Fit Model on Testing Data, Model Performance Metrics"
   ]
  },
  {
   "cell_type": "code",
   "execution_count": null,
   "id": "c149ffce-faee-4aea-b7c4-5f8bbd42ab51",
   "metadata": {},
   "outputs": [],
   "source": [
    "model_name = 'elastic_net'\n",
    "\n",
    "# Run model on test data, generate confusion matrix, save y_pred\n",
    "elastic_net_metrics_df, elastic_net_img_path, elastic_net_y_pred = evaluate_model(elastic_net, X_test_encoded, y_test, labels=[0, 1, 2], model_name=model_name)\n",
    "\n",
    "elastic_net_metrics_df.head()"
   ]
  },
  {
   "cell_type": "markdown",
   "id": "3d02f635-ed06-425c-acdd-774b0da86049",
   "metadata": {},
   "source": [
    "#### Get Probabilities for AUC"
   ]
  },
  {
   "cell_type": "code",
   "execution_count": null,
   "id": "3a19299b-3b2f-42c3-8a9c-f7ff16bfe4bb",
   "metadata": {},
   "outputs": [],
   "source": [
    "elastic_net_y_pred_proba = elastic_net.predict_proba(X_test_encoded)  # This should be a 2D array"
   ]
  },
  {
   "cell_type": "markdown",
   "id": "118b4258-dc11-4c42-b2b1-3e95427d43a1",
   "metadata": {},
   "source": [
    "#### View Classification Matrix"
   ]
  },
  {
   "cell_type": "code",
   "execution_count": null,
   "id": "19fe5447-2f51-471b-8f9e-383a203955c0",
   "metadata": {
    "scrolled": true
   },
   "outputs": [],
   "source": [
    "display(Image(filename=elastic_net_img_path))"
   ]
  },
  {
   "cell_type": "markdown",
   "id": "f69c075c-1507-488f-b4a9-bbfa286f22d9",
   "metadata": {},
   "source": [
    "#### Other Metrics - Model Coefficient Odds for Each Outcome"
   ]
  },
  {
   "cell_type": "code",
   "execution_count": null,
   "id": "d383423b",
   "metadata": {},
   "outputs": [],
   "source": [
    "coefficients_and_odds = get_model_coefficients_and_odds(X_train_under, elastic_net)\n",
    "for outcome, df in coefficients_and_odds.items():\n",
    "     print(f\"Top features for {outcome}:\")\n",
    "     print(df)"
   ]
  },
  {
   "cell_type": "markdown",
   "id": "4d5e3159",
   "metadata": {},
   "source": [
    "### Single Decision Tree"
   ]
  },
  {
   "cell_type": "markdown",
   "id": "945bcfd1-6c14-4e1c-9894-053975d9913b",
   "metadata": {},
   "source": [
    "#### Grid Search"
   ]
  },
  {
   "cell_type": "code",
   "execution_count": null,
   "id": "3adfed8f",
   "metadata": {},
   "outputs": [],
   "source": [
    "# Define a grid of hyperparameters to search for in tree\n",
    "param_grid = {\n",
    "    'max_depth' : [5,6,7,8,9,10],\n",
    "    'min_samples_leaf' : [1,2,3,4,5,6]\n",
    "    \n",
    "}\n",
    "# Create a GridSearchCV object using and the defined parameter grid\n",
    "tree1_search = GridSearchCV(DecisionTreeClassifier(random_state=1), param_grid, cv=10, n_jobs=-1)\n",
    "\n",
    "# Fit the GridSearchCV to the balanced training data to find the best hyperparameters\n",
    "tree1_search.fit(X_train_under, y_train_under.values.ravel())\n",
    "\n",
    "# Get the best hyperparameters found by the GridSearch\n",
    "best_params = tree1_search.best_params_\n",
    "print(f\"Best parameters: {best_params}\")\n",
    "\n",
    "tree1 = tree1_search.best_estimator_\n"
   ]
  },
  {
   "cell_type": "markdown",
   "id": "994c5b78-ee6a-493f-b467-4aa7bad58bd0",
   "metadata": {},
   "source": [
    "#### Generate and Fit Model on Training Data"
   ]
  },
  {
   "cell_type": "code",
   "execution_count": null,
   "id": "a27d6f83-fc38-40d5-a248-e16b4e07e6a8",
   "metadata": {
    "scrolled": true
   },
   "outputs": [],
   "source": [
    "tree1.fit(X_train_under, y_train_under)"
   ]
  },
  {
   "cell_type": "markdown",
   "id": "21c1a19e-3e1c-4a18-9d70-69289f5538e5",
   "metadata": {},
   "source": [
    "#### Fit Model on Testing Data, Model Performance Metrics"
   ]
  },
  {
   "cell_type": "code",
   "execution_count": null,
   "id": "0e8aa319-fb37-4e74-893f-792ac53b140d",
   "metadata": {},
   "outputs": [],
   "source": [
    "model_name = 'tree1'\n",
    "\n",
    "# Run model on test data, generate confusion matrix, save y_pred\n",
    "tree1_metrics_df, tree1_img_path, tree1_y_pred = evaluate_model(tree1, X_test_encoded, y_test, labels=[0, 1, 2], model_name=model_name)\n",
    "\n",
    "tree1_metrics_df.head()"
   ]
  },
  {
   "cell_type": "markdown",
   "id": "fcad7d2e-531e-42cd-a19f-d2f6973fbce9",
   "metadata": {},
   "source": [
    "#### Get Probabilities for AUC"
   ]
  },
  {
   "cell_type": "code",
   "execution_count": null,
   "id": "77c134b0-0bef-489f-a5e0-a11f97b8c695",
   "metadata": {},
   "outputs": [],
   "source": [
    "tree1_y_pred_proba = tree1.predict_proba(X_test_encoded)  # This should be a 2D array"
   ]
  },
  {
   "cell_type": "markdown",
   "id": "2104400a-b304-44c9-b86e-9428745423d0",
   "metadata": {},
   "source": [
    "#### View Classification Matrix"
   ]
  },
  {
   "cell_type": "code",
   "execution_count": null,
   "id": "4b8e76e2-c461-4526-9a1e-369720c6eebb",
   "metadata": {
    "scrolled": true
   },
   "outputs": [],
   "source": [
    "display(Image(filename=tree1_img_path))"
   ]
  },
  {
   "cell_type": "markdown",
   "id": "17f015e8-6964-4a45-83b1-db4dbd984f77",
   "metadata": {},
   "source": [
    "#### Other Metrics - Feature Importance and Tree Structure"
   ]
  },
  {
   "cell_type": "code",
   "execution_count": null,
   "id": "c790c0df",
   "metadata": {},
   "outputs": [],
   "source": [
    "# Feature Importance Scores\n",
    "# Extract feature importances\n",
    "importances = tree1.feature_importances_\n",
    "features = X_train_under.columns\n",
    "\n",
    "# Create a DataFrame for better plotting\n",
    "importance_df = pd.DataFrame({\n",
    "    'Feature': features,\n",
    "    'Importance': importances\n",
    "})\n",
    "\n",
    "# Sort the DataFrame by importance\n",
    "importance_df = importance_df.sort_values(by='Importance', ascending=False)\n",
    "\n",
    "# Plot the feature importances\n",
    "plt.figure(figsize=(10, 8))\n",
    "bars = plt.barh(importance_df['Feature'], importance_df['Importance'], color='skyblue')\n",
    "plt.xlabel('Feature Importance')\n",
    "plt.ylabel('Feature')\n",
    "plt.title('Feature Importance Plot for DecisionTreeClassifier')\n",
    "plt.gca().invert_yaxis()  # To display the most important feature at the top\n",
    "# Add labels to the bars\n",
    "for bar in bars:\n",
    "    plt.text(\n",
    "        bar.get_width(),\n",
    "        bar.get_y() + bar.get_height() / 2,\n",
    "        f'{bar.get_width():.4f}',\n",
    "        va='center'\n",
    "    )\n",
    "\n",
    "plt.show()"
   ]
  },
  {
   "cell_type": "code",
   "execution_count": null,
   "id": "28a2a1ff",
   "metadata": {},
   "outputs": [],
   "source": [
    "from sklearn.tree import plot_tree\n",
    "# Plot the tree structure\n",
    "plt.figure(figsize=(20, 10))\n",
    "plot_tree(tree1, filled=True, feature_names=X_train_under.columns, class_names=['NonSerious', 'Serious', 'Death'], rounded=True)\n",
    "plt.title('Decision Tree Structure')\n",
    "plt.show()"
   ]
  },
  {
   "cell_type": "code",
   "execution_count": null,
   "id": "f86f47c6-03da-4c37-b64c-f98195f856e1",
   "metadata": {},
   "outputs": [],
   "source": [
    "#Plot max_depth = 2\n",
    "from sklearn.tree import plot_tree\n",
    "folder_path = 'ModelOutput'\n",
    "if not os.path.exists(folder_path):\n",
    "    os.makedirs(folder_path)\n",
    "    \n",
    "img_path = os.path.join(folder_path, 'tree1_maxdepth2.png')\n",
    "\n",
    "# Plot the tree structure\n",
    "plt.figure(figsize=(20, 10))\n",
    "plot_tree(tree1, filled=True,max_depth=2, feature_names=X_train_under.columns, class_names=['NonSerious', 'Serious', 'Death'], rounded=True)\n",
    "plt.title('Decision Tree Structure')\n",
    "plt.show()\n",
    "plt.savefig(img_path)"
   ]
  },
  {
   "cell_type": "code",
   "execution_count": null,
   "id": "47b6d77e-8337-419a-a66f-970b8587c05c",
   "metadata": {},
   "outputs": [],
   "source": [
    "#Plot max_depth = 1\n",
    "from sklearn.tree import plot_tree\n",
    "folder_path = 'ModelOutput'\n",
    "if not os.path.exists(folder_path):\n",
    "    os.makedirs(folder_path)\n",
    "    \n",
    "img_path = os.path.join(folder_path, 'tree1_maxdepth1.png')\n",
    "\n",
    "# Plot the tree structure\n",
    "plt.figure(figsize=(20, 10))\n",
    "plot_tree(tree1, filled=True,max_depth=1, feature_names=X_train_under.columns, class_names=['NonSerious', 'Serious', 'Death'], rounded=True)\n",
    "plt.title('Decision Tree Structure')\n",
    "plt.show()\n",
    "plt.savefig(img_path)"
   ]
  },
  {
   "cell_type": "markdown",
   "id": "b19400b7",
   "metadata": {},
   "source": [
    "## Ensembles"
   ]
  },
  {
   "cell_type": "markdown",
   "id": "467fa457",
   "metadata": {},
   "source": [
    "### Random Forest Classifier w/ 5-k CV"
   ]
  },
  {
   "cell_type": "markdown",
   "id": "8f468d77-a415-461f-8375-d6dfcec70eae",
   "metadata": {},
   "source": [
    "#### Grid Search"
   ]
  },
  {
   "cell_type": "code",
   "execution_count": 53,
   "id": "023ff245",
   "metadata": {},
   "outputs": [
    {
     "name": "stdout",
     "output_type": "stream",
     "text": [
      "Fitting 5 folds for each of 5 candidates, totalling 25 fits\n",
      "Best Parameters: {'n_estimators': 125}\n",
      "Best Score: 0.8233611472372162\n",
      "Best Random Forest Model:\n",
      "RandomForestClassifier(n_estimators=125, random_state=1)\n",
      "116.34193205833435\n"
     ]
    }
   ],
   "source": [
    "start_time = time.time()\n",
    "\n",
    "\n",
    "param_grid = {\n",
    "    'n_estimators': [100, 125, 150, 175, 200]  # Example range for number of estimators\n",
    "}\n",
    "\n",
    "# Initialize the Random Forest Classifier\n",
    "random_forest = RandomForestClassifier(random_state=1)\n",
    "\n",
    "# Initialize GridSearchCV\n",
    "grid_search = GridSearchCV(estimator=random_forest,\n",
    "                           param_grid=param_grid,\n",
    "                           cv=5,  # Number of cross-validation folds\n",
    "                           scoring='accuracy',  # Use accuracy as the scoring metric\n",
    "                           n_jobs=-1,  # Use all available cores\n",
    "                           verbose=2)  # Print progress messages\n",
    "\n",
    "# Fit GridSearchCV to the data\n",
    "grid_search.fit(X_train_under, y_train_under.values.ravel())\n",
    "\n",
    "# Get the best model from the grid search\n",
    "rf = grid_search.best_estimator_\n",
    "\n",
    "rf.fit(X_train_under, y_train_under)\n",
    "\n",
    "# Print the best parameters and the best score\n",
    "print(\"Best Parameters:\", grid_search.best_params_)\n",
    "print(\"Best Score:\", grid_search.best_score_)\n",
    "\n",
    "# Example: Printing the best model parameters\n",
    "print(\"Best Random Forest Model:\")\n",
    "print(rf)\n",
    "\n",
    "end_time = time.time()\n",
    "execution_time = end_time - start_time\n",
    "print(execution_time)"
   ]
  },
  {
   "cell_type": "markdown",
   "id": "7d304a5e-8572-4aea-8fd8-7f06240a0608",
   "metadata": {},
   "source": [
    "#### Fit Model on Testing Data, Model Performance Metrics"
   ]
  },
  {
   "cell_type": "code",
   "execution_count": 54,
   "id": "f4c082f3-58b4-4ea8-a144-b1a158e01d37",
   "metadata": {},
   "outputs": [
    {
     "data": {
      "text/html": [
       "<div>\n",
       "<style scoped>\n",
       "    .dataframe tbody tr th:only-of-type {\n",
       "        vertical-align: middle;\n",
       "    }\n",
       "\n",
       "    .dataframe tbody tr th {\n",
       "        vertical-align: top;\n",
       "    }\n",
       "\n",
       "    .dataframe thead th {\n",
       "        text-align: right;\n",
       "    }\n",
       "</style>\n",
       "<table border=\"1\" class=\"dataframe\">\n",
       "  <thead>\n",
       "    <tr style=\"text-align: right;\">\n",
       "      <th></th>\n",
       "      <th>model</th>\n",
       "      <th>class</th>\n",
       "      <th>accuracy</th>\n",
       "      <th>precision</th>\n",
       "      <th>recall</th>\n",
       "      <th>f1_score</th>\n",
       "      <th>specificity</th>\n",
       "    </tr>\n",
       "  </thead>\n",
       "  <tbody>\n",
       "    <tr>\n",
       "      <th>0</th>\n",
       "      <td>rf</td>\n",
       "      <td>0</td>\n",
       "      <td>0.807</td>\n",
       "      <td>0.416</td>\n",
       "      <td>0.909</td>\n",
       "      <td>0.571</td>\n",
       "      <td>0.996</td>\n",
       "    </tr>\n",
       "    <tr>\n",
       "      <th>1</th>\n",
       "      <td>rf</td>\n",
       "      <td>1</td>\n",
       "      <td>0.807</td>\n",
       "      <td>0.922</td>\n",
       "      <td>0.799</td>\n",
       "      <td>0.857</td>\n",
       "      <td>0.642</td>\n",
       "    </tr>\n",
       "    <tr>\n",
       "      <th>2</th>\n",
       "      <td>rf</td>\n",
       "      <td>2</td>\n",
       "      <td>0.807</td>\n",
       "      <td>0.692</td>\n",
       "      <td>0.811</td>\n",
       "      <td>0.747</td>\n",
       "      <td>0.930</td>\n",
       "    </tr>\n",
       "  </tbody>\n",
       "</table>\n",
       "</div>"
      ],
      "text/plain": [
       "  model  class  accuracy  precision  recall  f1_score  specificity\n",
       "0    rf      0     0.807      0.416   0.909     0.571        0.996\n",
       "1    rf      1     0.807      0.922   0.799     0.857        0.642\n",
       "2    rf      2     0.807      0.692   0.811     0.747        0.930"
      ]
     },
     "execution_count": 54,
     "metadata": {},
     "output_type": "execute_result"
    }
   ],
   "source": [
    "model_name = 'rf'\n",
    "\n",
    "# Run model on test data, generate confusion matrix, save y_pred\n",
    "rf_metrics_df, rf_img_path, rf_y_pred = evaluate_model(rf, X_test_encoded, y_test, labels=[0, 1, 2], model_name=model_name)\n",
    "\n",
    "rf_metrics_df.head()"
   ]
  },
  {
   "cell_type": "code",
   "execution_count": 70,
   "id": "f4708652",
   "metadata": {},
   "outputs": [
    {
     "data": {
      "text/html": [
       "<div>\n",
       "<style scoped>\n",
       "    .dataframe tbody tr th:only-of-type {\n",
       "        vertical-align: middle;\n",
       "    }\n",
       "\n",
       "    .dataframe tbody tr th {\n",
       "        vertical-align: top;\n",
       "    }\n",
       "\n",
       "    .dataframe thead th {\n",
       "        text-align: right;\n",
       "    }\n",
       "</style>\n",
       "<table border=\"1\" class=\"dataframe\">\n",
       "  <thead>\n",
       "    <tr style=\"text-align: right;\">\n",
       "      <th></th>\n",
       "      <th>sex</th>\n",
       "      <th>report_source</th>\n",
       "      <th>ndc9</th>\n",
       "      <th>weight</th>\n",
       "      <th>age</th>\n",
       "      <th>unit_price</th>\n",
       "    </tr>\n",
       "  </thead>\n",
       "  <tbody>\n",
       "    <tr>\n",
       "      <th>51207</th>\n",
       "      <td>1</td>\n",
       "      <td>1</td>\n",
       "      <td>662150501</td>\n",
       "      <td>80</td>\n",
       "      <td>60</td>\n",
       "      <td>0.48535</td>\n",
       "    </tr>\n",
       "    <tr>\n",
       "      <th>46366</th>\n",
       "      <td>2</td>\n",
       "      <td>1</td>\n",
       "      <td>2405911</td>\n",
       "      <td>86</td>\n",
       "      <td>62</td>\n",
       "      <td>0.48535</td>\n",
       "    </tr>\n",
       "    <tr>\n",
       "      <th>34475</th>\n",
       "      <td>2</td>\n",
       "      <td>3</td>\n",
       "      <td>690760105</td>\n",
       "      <td>54</td>\n",
       "      <td>36</td>\n",
       "      <td>0.48491</td>\n",
       "    </tr>\n",
       "    <tr>\n",
       "      <th>79608</th>\n",
       "      <td>2</td>\n",
       "      <td>1</td>\n",
       "      <td>592120562</td>\n",
       "      <td>97</td>\n",
       "      <td>44</td>\n",
       "      <td>0.48535</td>\n",
       "    </tr>\n",
       "    <tr>\n",
       "      <th>35561</th>\n",
       "      <td>1</td>\n",
       "      <td>1</td>\n",
       "      <td>423880023</td>\n",
       "      <td>72</td>\n",
       "      <td>62</td>\n",
       "      <td>0.48535</td>\n",
       "    </tr>\n",
       "    <tr>\n",
       "      <th>77614</th>\n",
       "      <td>2</td>\n",
       "      <td>3</td>\n",
       "      <td>45601201</td>\n",
       "      <td>61</td>\n",
       "      <td>72</td>\n",
       "      <td>0.48535</td>\n",
       "    </tr>\n",
       "  </tbody>\n",
       "</table>\n",
       "</div>"
      ],
      "text/plain": [
       "       sex  report_source       ndc9  weight  age  unit_price\n",
       "51207    1              1  662150501      80   60     0.48535\n",
       "46366    2              1    2405911      86   62     0.48535\n",
       "34475    2              3  690760105      54   36     0.48491\n",
       "79608    2              1  592120562      97   44     0.48535\n",
       "35561    1              1  423880023      72   62     0.48535\n",
       "77614    2              3   45601201      61   72     0.48535"
      ]
     },
     "execution_count": 70,
     "metadata": {},
     "output_type": "execute_result"
    }
   ],
   "source": [
    "X_test.iloc[4:10,:]"
   ]
  },
  {
   "cell_type": "code",
   "execution_count": 71,
   "id": "dbac8fe1",
   "metadata": {},
   "outputs": [
    {
     "data": {
      "text/html": [
       "<div>\n",
       "<style scoped>\n",
       "    .dataframe tbody tr th:only-of-type {\n",
       "        vertical-align: middle;\n",
       "    }\n",
       "\n",
       "    .dataframe tbody tr th {\n",
       "        vertical-align: top;\n",
       "    }\n",
       "\n",
       "    .dataframe thead th {\n",
       "        text-align: right;\n",
       "    }\n",
       "</style>\n",
       "<table border=\"1\" class=\"dataframe\">\n",
       "  <thead>\n",
       "    <tr style=\"text-align: right;\">\n",
       "      <th></th>\n",
       "      <th>weight</th>\n",
       "      <th>age</th>\n",
       "      <th>unit_price</th>\n",
       "      <th>sex_2</th>\n",
       "      <th>report_source_1</th>\n",
       "      <th>report_source_2</th>\n",
       "      <th>report_source_3</th>\n",
       "      <th>ndc9_200152</th>\n",
       "      <th>ndc9_200213</th>\n",
       "      <th>ndc9_202980</th>\n",
       "      <th>...</th>\n",
       "      <th>ndc9_7359409301</th>\n",
       "      <th>ndc9_7467605902</th>\n",
       "      <th>ndc9_7632901912</th>\n",
       "      <th>ndc9_7632903318</th>\n",
       "      <th>ndc9_7632908261</th>\n",
       "      <th>ndc9_7948100090</th>\n",
       "      <th>ndc9_8076200021</th>\n",
       "      <th>ndc9_8215400449</th>\n",
       "      <th>ndc9_8224301001</th>\n",
       "      <th>ndc9_8322200200</th>\n",
       "    </tr>\n",
       "  </thead>\n",
       "  <tbody>\n",
       "    <tr>\n",
       "      <th>4</th>\n",
       "      <td>0.292309</td>\n",
       "      <td>0.238082</td>\n",
       "      <td>-0.101208</td>\n",
       "      <td>0.0</td>\n",
       "      <td>1.0</td>\n",
       "      <td>0.0</td>\n",
       "      <td>0.0</td>\n",
       "      <td>0.0</td>\n",
       "      <td>0.0</td>\n",
       "      <td>0.0</td>\n",
       "      <td>...</td>\n",
       "      <td>0.0</td>\n",
       "      <td>0.0</td>\n",
       "      <td>0.0</td>\n",
       "      <td>0.0</td>\n",
       "      <td>0.0</td>\n",
       "      <td>0.0</td>\n",
       "      <td>0.0</td>\n",
       "      <td>0.0</td>\n",
       "      <td>0.0</td>\n",
       "      <td>0.0</td>\n",
       "    </tr>\n",
       "    <tr>\n",
       "      <th>5</th>\n",
       "      <td>0.555550</td>\n",
       "      <td>0.337560</td>\n",
       "      <td>-0.101208</td>\n",
       "      <td>1.0</td>\n",
       "      <td>1.0</td>\n",
       "      <td>0.0</td>\n",
       "      <td>0.0</td>\n",
       "      <td>0.0</td>\n",
       "      <td>0.0</td>\n",
       "      <td>0.0</td>\n",
       "      <td>...</td>\n",
       "      <td>0.0</td>\n",
       "      <td>0.0</td>\n",
       "      <td>0.0</td>\n",
       "      <td>0.0</td>\n",
       "      <td>0.0</td>\n",
       "      <td>0.0</td>\n",
       "      <td>0.0</td>\n",
       "      <td>0.0</td>\n",
       "      <td>0.0</td>\n",
       "      <td>0.0</td>\n",
       "    </tr>\n",
       "    <tr>\n",
       "      <th>6</th>\n",
       "      <td>-0.848398</td>\n",
       "      <td>-0.955657</td>\n",
       "      <td>-0.101208</td>\n",
       "      <td>1.0</td>\n",
       "      <td>0.0</td>\n",
       "      <td>0.0</td>\n",
       "      <td>1.0</td>\n",
       "      <td>0.0</td>\n",
       "      <td>0.0</td>\n",
       "      <td>0.0</td>\n",
       "      <td>...</td>\n",
       "      <td>0.0</td>\n",
       "      <td>0.0</td>\n",
       "      <td>0.0</td>\n",
       "      <td>0.0</td>\n",
       "      <td>0.0</td>\n",
       "      <td>0.0</td>\n",
       "      <td>0.0</td>\n",
       "      <td>0.0</td>\n",
       "      <td>0.0</td>\n",
       "      <td>0.0</td>\n",
       "    </tr>\n",
       "    <tr>\n",
       "      <th>7</th>\n",
       "      <td>1.038157</td>\n",
       "      <td>-0.557744</td>\n",
       "      <td>-0.101208</td>\n",
       "      <td>1.0</td>\n",
       "      <td>1.0</td>\n",
       "      <td>0.0</td>\n",
       "      <td>0.0</td>\n",
       "      <td>0.0</td>\n",
       "      <td>0.0</td>\n",
       "      <td>0.0</td>\n",
       "      <td>...</td>\n",
       "      <td>0.0</td>\n",
       "      <td>0.0</td>\n",
       "      <td>0.0</td>\n",
       "      <td>0.0</td>\n",
       "      <td>0.0</td>\n",
       "      <td>0.0</td>\n",
       "      <td>0.0</td>\n",
       "      <td>0.0</td>\n",
       "      <td>0.0</td>\n",
       "      <td>0.0</td>\n",
       "    </tr>\n",
       "    <tr>\n",
       "      <th>8</th>\n",
       "      <td>-0.058678</td>\n",
       "      <td>0.337560</td>\n",
       "      <td>-0.101208</td>\n",
       "      <td>0.0</td>\n",
       "      <td>1.0</td>\n",
       "      <td>0.0</td>\n",
       "      <td>0.0</td>\n",
       "      <td>0.0</td>\n",
       "      <td>0.0</td>\n",
       "      <td>0.0</td>\n",
       "      <td>...</td>\n",
       "      <td>0.0</td>\n",
       "      <td>0.0</td>\n",
       "      <td>0.0</td>\n",
       "      <td>0.0</td>\n",
       "      <td>0.0</td>\n",
       "      <td>0.0</td>\n",
       "      <td>0.0</td>\n",
       "      <td>0.0</td>\n",
       "      <td>0.0</td>\n",
       "      <td>0.0</td>\n",
       "    </tr>\n",
       "    <tr>\n",
       "      <th>9</th>\n",
       "      <td>-0.541285</td>\n",
       "      <td>0.834952</td>\n",
       "      <td>-0.101208</td>\n",
       "      <td>1.0</td>\n",
       "      <td>0.0</td>\n",
       "      <td>0.0</td>\n",
       "      <td>1.0</td>\n",
       "      <td>0.0</td>\n",
       "      <td>0.0</td>\n",
       "      <td>0.0</td>\n",
       "      <td>...</td>\n",
       "      <td>0.0</td>\n",
       "      <td>0.0</td>\n",
       "      <td>0.0</td>\n",
       "      <td>0.0</td>\n",
       "      <td>0.0</td>\n",
       "      <td>0.0</td>\n",
       "      <td>0.0</td>\n",
       "      <td>0.0</td>\n",
       "      <td>0.0</td>\n",
       "      <td>0.0</td>\n",
       "    </tr>\n",
       "  </tbody>\n",
       "</table>\n",
       "<p>6 rows × 1754 columns</p>\n",
       "</div>"
      ],
      "text/plain": [
       "     weight       age  unit_price  sex_2  report_source_1  report_source_2  \\\n",
       "4  0.292309  0.238082   -0.101208    0.0              1.0              0.0   \n",
       "5  0.555550  0.337560   -0.101208    1.0              1.0              0.0   \n",
       "6 -0.848398 -0.955657   -0.101208    1.0              0.0              0.0   \n",
       "7  1.038157 -0.557744   -0.101208    1.0              1.0              0.0   \n",
       "8 -0.058678  0.337560   -0.101208    0.0              1.0              0.0   \n",
       "9 -0.541285  0.834952   -0.101208    1.0              0.0              0.0   \n",
       "\n",
       "   report_source_3  ndc9_200152  ndc9_200213  ndc9_202980  ...  \\\n",
       "4              0.0          0.0          0.0          0.0  ...   \n",
       "5              0.0          0.0          0.0          0.0  ...   \n",
       "6              1.0          0.0          0.0          0.0  ...   \n",
       "7              0.0          0.0          0.0          0.0  ...   \n",
       "8              0.0          0.0          0.0          0.0  ...   \n",
       "9              1.0          0.0          0.0          0.0  ...   \n",
       "\n",
       "   ndc9_7359409301  ndc9_7467605902  ndc9_7632901912  ndc9_7632903318  \\\n",
       "4              0.0              0.0              0.0              0.0   \n",
       "5              0.0              0.0              0.0              0.0   \n",
       "6              0.0              0.0              0.0              0.0   \n",
       "7              0.0              0.0              0.0              0.0   \n",
       "8              0.0              0.0              0.0              0.0   \n",
       "9              0.0              0.0              0.0              0.0   \n",
       "\n",
       "   ndc9_7632908261  ndc9_7948100090  ndc9_8076200021  ndc9_8215400449  \\\n",
       "4              0.0              0.0              0.0              0.0   \n",
       "5              0.0              0.0              0.0              0.0   \n",
       "6              0.0              0.0              0.0              0.0   \n",
       "7              0.0              0.0              0.0              0.0   \n",
       "8              0.0              0.0              0.0              0.0   \n",
       "9              0.0              0.0              0.0              0.0   \n",
       "\n",
       "   ndc9_8224301001  ndc9_8322200200  \n",
       "4              0.0              0.0  \n",
       "5              0.0              0.0  \n",
       "6              0.0              0.0  \n",
       "7              0.0              0.0  \n",
       "8              0.0              0.0  \n",
       "9              0.0              0.0  \n",
       "\n",
       "[6 rows x 1754 columns]"
      ]
     },
     "execution_count": 71,
     "metadata": {},
     "output_type": "execute_result"
    }
   ],
   "source": [
    "X_test_encoded.iloc[4:10,:]"
   ]
  },
  {
   "cell_type": "code",
   "execution_count": 72,
   "id": "0ed57119",
   "metadata": {},
   "outputs": [
    {
     "data": {
      "text/plain": [
       "array([1, 0, 1, 2, 0, 2], dtype=int64)"
      ]
     },
     "execution_count": 72,
     "metadata": {},
     "output_type": "execute_result"
    }
   ],
   "source": [
    "rf_y_preds = rf.predict(X_test_encoded.iloc[4:10,:])\n",
    "rf_y_preds"
   ]
  },
  {
   "cell_type": "code",
   "execution_count": 73,
   "id": "074e8d79",
   "metadata": {},
   "outputs": [
    {
     "data": {
      "text/html": [
       "<div>\n",
       "<style scoped>\n",
       "    .dataframe tbody tr th:only-of-type {\n",
       "        vertical-align: middle;\n",
       "    }\n",
       "\n",
       "    .dataframe tbody tr th {\n",
       "        vertical-align: top;\n",
       "    }\n",
       "\n",
       "    .dataframe thead th {\n",
       "        text-align: right;\n",
       "    }\n",
       "</style>\n",
       "<table border=\"1\" class=\"dataframe\">\n",
       "  <thead>\n",
       "    <tr style=\"text-align: right;\">\n",
       "      <th></th>\n",
       "      <th>serious_outcome</th>\n",
       "    </tr>\n",
       "  </thead>\n",
       "  <tbody>\n",
       "    <tr>\n",
       "      <th>51207</th>\n",
       "      <td>1</td>\n",
       "    </tr>\n",
       "    <tr>\n",
       "      <th>46366</th>\n",
       "      <td>0</td>\n",
       "    </tr>\n",
       "    <tr>\n",
       "      <th>34475</th>\n",
       "      <td>1</td>\n",
       "    </tr>\n",
       "    <tr>\n",
       "      <th>79608</th>\n",
       "      <td>2</td>\n",
       "    </tr>\n",
       "    <tr>\n",
       "      <th>35561</th>\n",
       "      <td>0</td>\n",
       "    </tr>\n",
       "    <tr>\n",
       "      <th>77614</th>\n",
       "      <td>2</td>\n",
       "    </tr>\n",
       "  </tbody>\n",
       "</table>\n",
       "</div>"
      ],
      "text/plain": [
       "      serious_outcome\n",
       "51207               1\n",
       "46366               0\n",
       "34475               1\n",
       "79608               2\n",
       "35561               0\n",
       "77614               2"
      ]
     },
     "execution_count": 73,
     "metadata": {},
     "output_type": "execute_result"
    }
   ],
   "source": [
    "y_test.iloc[4:10,:]"
   ]
  },
  {
   "cell_type": "markdown",
   "id": "75afea60-5f95-4b4a-b42f-f26ea0c35941",
   "metadata": {},
   "source": [
    "#### Get Probabilities for AUC"
   ]
  },
  {
   "cell_type": "code",
   "execution_count": null,
   "id": "031a3042-7d61-461d-99be-2fe880311f02",
   "metadata": {},
   "outputs": [],
   "source": [
    "rf_y_pred_proba = rf.predict_proba(X_test_encoded)  # This should be a 2D array"
   ]
  },
  {
   "cell_type": "markdown",
   "id": "632e7a75-90ce-4d3a-931d-3d8459fd34a5",
   "metadata": {},
   "source": [
    "#### View Classification Matrix"
   ]
  },
  {
   "cell_type": "code",
   "execution_count": null,
   "id": "0bedba67-0ca8-4027-a525-9d817c6f1ddc",
   "metadata": {
    "scrolled": true
   },
   "outputs": [],
   "source": [
    "display(Image(filename=rf_img_path))"
   ]
  },
  {
   "cell_type": "markdown",
   "id": "916b57c1-5c11-4519-ad6a-e53755680cf8",
   "metadata": {},
   "source": [
    "#### Other Metrics - Top 5 Feature Importance"
   ]
  },
  {
   "cell_type": "code",
   "execution_count": 55,
   "id": "f03a177b-8d95-4c5c-867a-08f6551836d9",
   "metadata": {},
   "outputs": [
    {
     "data": {
      "image/png": "[encoded data removed]",
      "text/plain": [
       "<Figure size 1200x800 with 1 Axes>"
      ]
     },
     "metadata": {},
     "output_type": "display_data"
    }
   ],
   "source": [
    "%matplotlib inline\n",
    "\n",
    "# Get the feature importances\n",
    "importances = rf.feature_importances_\n",
    "\n",
    "# Get the feature names\n",
    "feature_names = X_train_encoded.columns\n",
    "\n",
    "# Sort the feature importances in descending order\n",
    "indices = np.argsort(importances)[::-1]\n",
    "\n",
    "# Select the top 5 features\n",
    "top_n = 5\n",
    "top_indices = indices[:top_n]\n",
    "top_importances = importances[top_indices]\n",
    "top_feature_names = feature_names[top_indices]\n",
    "\n",
    "# Plot the top 5 feature importances\n",
    "plt.figure(figsize=(12, 8))  # Increased figure size for better readability\n",
    "bars = plt.barh(top_feature_names, top_importances, color='skyblue', align='center')\n",
    "\n",
    "# Add data labels\n",
    "for bar in bars:\n",
    "    plt.text(bar.get_width(), bar.get_y() + bar.get_height() / 2,\n",
    "             f'{bar.get_width():.2f}', \n",
    "             va='center', ha='left', color='black', fontsize=14)\n",
    "\n",
    "# Customize plot appearance\n",
    "plt.title('Top 5 Feature Importances for rf Model', fontsize=22)\n",
    "plt.xlabel('Importance', fontsize=18)\n",
    "plt.ylabel('Feature', fontsize=18)\n",
    "plt.gca().invert_yaxis()  # To display the highest importance at the top\n",
    "\n",
    "# Set tick labels font size\n",
    "plt.xticks(fontsize=14)\n",
    "plt.yticks(fontsize=14)\n",
    "\n",
    "# Show the plot\n",
    "plt.show()"
   ]
  },
  {
   "cell_type": "markdown",
   "id": "af14a1b5",
   "metadata": {},
   "source": [
    "#### Top 10 Feature Importance"
   ]
  },
  {
   "cell_type": "code",
   "execution_count": 57,
   "id": "8426883c",
   "metadata": {},
   "outputs": [
    {
     "data": {
      "image/png": "[encoded data removed]",
      "text/plain": [
       "<Figure size 1200x800 with 1 Axes>"
      ]
     },
     "metadata": {},
     "output_type": "display_data"
    }
   ],
   "source": [
    "%matplotlib inline\n",
    "\n",
    "# Get the feature importances\n",
    "importances = rf.feature_importances_\n",
    "\n",
    "# Get the feature names\n",
    "feature_names = X_train_encoded.columns\n",
    "\n",
    "# Sort the feature importances in descending order\n",
    "indices = np.argsort(importances)[::-1]\n",
    "\n",
    "# Select the top 5 features\n",
    "top_n = 10\n",
    "top_indices = indices[:top_n]\n",
    "top_importances = importances[top_indices]\n",
    "top_feature_names = feature_names[top_indices]\n",
    "\n",
    "# Plot the top 5 feature importances\n",
    "plt.figure(figsize=(12, 8))  # Increased figure size for better readability\n",
    "bars = plt.barh(top_feature_names, top_importances, color='skyblue', align='center')\n",
    "\n",
    "# Add data labels\n",
    "for bar in bars:\n",
    "    plt.text(bar.get_width(), bar.get_y() + bar.get_height() / 2,\n",
    "             f'{bar.get_width():.2f}', \n",
    "             va='center', ha='left', color='black', fontsize=14)\n",
    "\n",
    "# Customize plot appearance\n",
    "plt.title('Top 10 Feature Importances for RF Model', fontsize=22)\n",
    "plt.xlabel('Importance', fontsize=18)\n",
    "plt.ylabel('Feature', fontsize=18)\n",
    "plt.gca().invert_yaxis()  # To display the highest importance at the top\n",
    "\n",
    "# Set tick labels font size\n",
    "plt.xticks(fontsize=14)\n",
    "plt.yticks(fontsize=14)\n",
    "\n",
    "# Show the plot\n",
    "plt.show()"
   ]
  },
  {
   "cell_type": "markdown",
   "id": "8604c2b8",
   "metadata": {},
   "source": [
    "#### Save Pretrained Model using joblib"
   ]
  },
  {
   "cell_type": "code",
   "execution_count": null,
   "id": "69994764",
   "metadata": {},
   "outputs": [],
   "source": [
    "# Save the model to the new directory\n",
    "joblib.dump(rf, 'Pretrained_Model_and_Apps/rf.joblib')"
   ]
  },
  {
   "cell_type": "markdown",
   "id": "aac401ec",
   "metadata": {},
   "source": [
    "#### Shapley Additive Explanations Plot"
   ]
  },
  {
   "cell_type": "code",
   "execution_count": null,
   "id": "cc26d544",
   "metadata": {},
   "outputs": [],
   "source": [
    "start_time = time.time()\n",
    "\n",
    "# Load the data and model\n",
    "model = joblib.load('Pretrained_Model_and_Apps/rf.joblib')\n",
    "\n",
    "# Sample a smaller portion of the data\n",
    "sample_size = 1000  # Adjust sample size to a smaller number if needed\n",
    "X_sample = X_train_under[['age', 'sex_2', 'weight', 'unit_price']].sample(n=sample_size, random_state=42)\n",
    "\n",
    "# Initialize the SHAP explainer\n",
    "explainer = shap.TreeExplainer(model)\n",
    "\n",
    "# Compute SHAP values\n",
    "shap_values = explainer.shap_values(X_sample)\n",
    "\n",
    "# Summary plot for each class\n",
    "for i in range(len(shap_values)):\n",
    "    plt.figure()\n",
    "    shap.summary_plot(shap_values[i], X_sample, plot_type=\"bar\", class_names=['Nonserious', 'Serious', 'Death'])\n",
    "    #plt.savefig(f'shap_summary_class_{i}.png')  # Save the plot as an image file\n",
    "    plt.show()\n",
    "    #plt.close()\n",
    "\n",
    "# Compute mean absolute SHAP values across all classes\n",
    "mean_abs_shap_values = np.mean([np.abs(shap_values[i]) for i in range(len(shap_values))], axis=0)\n",
    "\n",
    "# Generate a combined summary plot\n",
    "plt.figure()\n",
    "shap.summary_plot(mean_abs_shap_values, X_sample, plot_type=\"bar\")\n",
    "plt.show()\n",
    "#plt.savefig('shap_combined_summary.png')  # Save the combined summary plot as an image file\n",
    "#plt.close()\n",
    "\n",
    "end_time = time.time()\n",
    "execution_time = end_time - start_time\n",
    "print(f\"Execution time: {execution_time} seconds\")"
   ]
  },
  {
   "cell_type": "markdown",
   "id": "3a5b1c42",
   "metadata": {},
   "source": [
    "### Gradient Boosted Tree w/ 10-k CV"
   ]
  },
  {
   "cell_type": "markdown",
   "id": "6048cba5-d9a9-41b8-b944-27c8cf48cd41",
   "metadata": {},
   "source": [
    "#### Grid Search"
   ]
  },
  {
   "cell_type": "code",
   "execution_count": null,
   "id": "77389cdb",
   "metadata": {},
   "outputs": [],
   "source": [
    "start_time = time.time()\n",
    "\n",
    "# Define a grid of hyperparameters to search for in the Gradient Boosting Classifier\n",
    "param_grid = {\n",
    "    'max_depth' : [5,6,7,8,9,10],\n",
    "    'learning_rate' : [0.0001, 0.001, 0.01, 0.1, 1],\n",
    "    'n_estimators' : [50,75,100,125,150],\n",
    "}\n",
    "# Create a GridSearchCV object using GradientBoostingClassifier and the defined parameter grid\n",
    "tree_search = GridSearchCV(GradientBoostingClassifier(random_state=1), param_grid, cv=10, n_jobs=-1)\n",
    "# Fit the GridSearchCV to the balanced training data to find the best hyperparameters\n",
    "tree_search.fit(X_train_under, y_train_under.values.ravel())\n",
    "# Get the best hyperparameters found by the GridSearch\n",
    "tree_search.best_params_\n",
    "\n",
    "grboost = tree_search.best_estimator_\n",
    "\n",
    "\n",
    "# Print the best parameters and the best score\n",
    "print(\"Best Parameters:\", tree_search.best_params_)\n",
    "print(\"Best Score:\", tree_search.best_score_)\n",
    "\n",
    "# Example: Printing the best model parameters\n",
    "print(\"Best Gradient Boosted Tree:\")\n",
    "print(grboost)\n",
    "\n",
    "end_time = time.time()\n",
    "execution_time = end_time - start_time\n",
    "print(execution_time)"
   ]
  },
  {
   "cell_type": "markdown",
   "id": "aabfdd77-cf13-4fe4-a9e5-c111a0b0804d",
   "metadata": {},
   "source": [
    "#### Fit Model on Testing Data, Model Performance Metrics"
   ]
  },
  {
   "cell_type": "code",
   "execution_count": null,
   "id": "5ac8b3d0-94b5-459c-aa43-37d1d497e09f",
   "metadata": {},
   "outputs": [],
   "source": [
    "model_name = 'grboost'\n",
    "\n",
    "# Run model on test data, generate confusion matrix, save y_pred\n",
    "grboost_metrics_df, grboost_img_path, grboost_y_pred = evaluate_model(grboost, X_test_encoded, y_test, labels=[0, 1, 2], model_name=model_name)\n",
    "\n",
    "grboost_metrics_df.head()"
   ]
  },
  {
   "cell_type": "markdown",
   "id": "b8e09846-07ea-47bb-82e2-d5e8dd671340",
   "metadata": {},
   "source": [
    "#### Get probabilities for AUC"
   ]
  },
  {
   "cell_type": "code",
   "execution_count": null,
   "id": "4b886f69-673d-4745-a006-fa6d87196e81",
   "metadata": {},
   "outputs": [],
   "source": [
    "grboost_y_pred_proba = grboost.predict_proba(X_test_encoded)  # This should be a 2D array"
   ]
  },
  {
   "cell_type": "markdown",
   "id": "01fd5215-2f46-438a-bc09-c25b8bf3449b",
   "metadata": {},
   "source": [
    "#### View Classification Matrix"
   ]
  },
  {
   "cell_type": "code",
   "execution_count": null,
   "id": "0fb0231d-1e83-4ee0-817c-f13a7f5fd068",
   "metadata": {
    "scrolled": true
   },
   "outputs": [],
   "source": [
    "display(Image(filename=grboost_img_path))"
   ]
  },
  {
   "cell_type": "markdown",
   "id": "ff22288a-1bac-43ac-b8df-f866c016155e",
   "metadata": {},
   "source": [
    "#### Other Metrics"
   ]
  },
  {
   "cell_type": "code",
   "execution_count": null,
   "id": "708fa64e",
   "metadata": {},
   "outputs": [],
   "source": [
    "# Get feature importance scores\n",
    "importances=rf.feature_importances_\n",
    "feature_importance_pairs=list(zip(X_train_under.columns, importances))\n",
    "\n",
    "# Sort in descending order\n",
    "sorted_feature_importance_pairs = sorted(feature_importance_pairs, key=lambda x: x[1], reverse=True)\n",
    "\n",
    "# Print scores\n",
    "print(\"Feature Importance Scores\")\n",
    "for feature, importance in sorted_feature_importance_pairs:\n",
    "     print(f\"{feature}: {importance:.4f}\")"
   ]
  },
  {
   "cell_type": "markdown",
   "id": "70b13cc0",
   "metadata": {},
   "source": [
    "## Non-parametric"
   ]
  },
  {
   "cell_type": "markdown",
   "id": "e9c8fe6c",
   "metadata": {},
   "source": [
    "### K-Nearest Neighbors Classifier"
   ]
  },
  {
   "cell_type": "markdown",
   "id": "74f223d5-859c-4550-80c7-08ad7bd22941",
   "metadata": {},
   "source": [
    "#### Grid Search"
   ]
  },
  {
   "cell_type": "code",
   "execution_count": null,
   "id": "a41251dd",
   "metadata": {},
   "outputs": [],
   "source": [
    "# Define the parameter grid for GridSearchCV\n",
    "param_grid = {\n",
    "    'n_neighbors': [1, 3, 5, 7, 9, 11, 13, 15, 17, 19, 21]  # Example range for number of neighbors\n",
    "}\n",
    "\n",
    "# Initialize the K-Nearest Neighbors Classifier\n",
    "knn = KNeighborsClassifier()\n",
    "\n",
    "# Initialize GridSearchCV\n",
    "grid_search_knn = GridSearchCV(estimator=knn,\n",
    "                               param_grid=param_grid,\n",
    "                               cv=5,  # Number of cross-validation folds\n",
    "                               scoring='accuracy',  # Use accuracy as the scoring metric\n",
    "                               n_jobs=-1,  # Use all available cores\n",
    "                               verbose=2)  # Print progress messages\n",
    "\n",
    "# Fit GridSearchCV to the data\n",
    "grid_search_knn.fit(X_train_under, y_train_under.values.ravel())\n",
    "\n",
    "# Get the best model from the grid search\n",
    "knn = grid_search_knn.best_estimator_\n",
    "\n",
    "# Print the best parameters and the best score\n",
    "print(\"Best Parameters for KNN:\", grid_search_knn.best_params_)\n",
    "print(\"Best Score for KNN:\", grid_search_knn.best_score_)\n",
    "\n",
    "# Example: Printing the best model parameters\n",
    "print(\"Best KNN Model:\")\n",
    "print(knn)"
   ]
  },
  {
   "cell_type": "markdown",
   "id": "88560973-090c-4d76-8193-6710914928f6",
   "metadata": {},
   "source": [
    "#### Fit Model on Testing Data, Model Performance Metrics"
   ]
  },
  {
   "cell_type": "code",
   "execution_count": null,
   "id": "68f78994-f7a0-4cee-91b1-20e7567629f9",
   "metadata": {},
   "outputs": [],
   "source": [
    "model_name = 'knn'\n",
    "\n",
    "# Run model on test data, generate confusion matrix, save y_pred\n",
    "knn_metrics_df, knn_img_path, knn_y_pred = evaluate_model(knn, X_test_encoded, y_test, labels=[0, 1, 2], model_name=model_name)\n",
    "\n",
    "knn_metrics_df.head()"
   ]
  },
  {
   "cell_type": "markdown",
   "id": "b2cd199b-8e23-47a2-8cdb-08f9202a4244",
   "metadata": {},
   "source": [
    "#### Get Probabilities for AUC"
   ]
  },
  {
   "cell_type": "code",
   "execution_count": null,
   "id": "2ba3cd6f-9a6f-4bc0-b26a-a090b5afa311",
   "metadata": {},
   "outputs": [],
   "source": [
    "knn_y_pred_proba = knn.predict_proba(X_test_encoded)  # This should be a 2D array"
   ]
  },
  {
   "cell_type": "markdown",
   "id": "e111a0ce-dbf8-4446-b70b-0914cba60db9",
   "metadata": {},
   "source": [
    "#### View Classification Matrix"
   ]
  },
  {
   "cell_type": "code",
   "execution_count": null,
   "id": "c8c59e4e-60fc-4c8f-bcc2-aae2fb4620f1",
   "metadata": {
    "scrolled": true
   },
   "outputs": [],
   "source": [
    "display(Image(filename=knn_img_path))"
   ]
  },
  {
   "cell_type": "markdown",
   "id": "7196706c-7cc8-4b64-954b-a0e1c94a8583",
   "metadata": {},
   "source": [
    "#### Other Metrics"
   ]
  },
  {
   "cell_type": "code",
   "execution_count": null,
   "id": "21d0b911",
   "metadata": {},
   "outputs": [],
   "source": []
  },
  {
   "cell_type": "markdown",
   "id": "82f4554b-b09e-409c-89a1-8d7f90c54711",
   "metadata": {},
   "source": [
    "### Baseline"
   ]
  },
  {
   "cell_type": "code",
   "execution_count": null,
   "id": "d10cb1be-d022-4a01-97d7-d23aaa202be5",
   "metadata": {},
   "outputs": [],
   "source": [
    "from sklearn.dummy import DummyClassifier\n",
    "\n",
    "baseline_model = DummyClassifier(strategy='most_frequent')\n",
    "baseline_model.fit(X_test_encoded, y_test)\n",
    "baseline_metrics_df, baseline_img_path, _ = evaluate_model(\n",
    "    baseline_model, X_test_encoded, y_test, labels=[0, 1, 2], model_name='Baseline'\n",
    ")\n",
    "baseline_metrics_df"
   ]
  },
  {
   "cell_type": "markdown",
   "id": "5a35ac01",
   "metadata": {},
   "source": [
    "# Performance Metrics Table"
   ]
  },
  {
   "cell_type": "code",
   "execution_count": null,
   "id": "674b080b",
   "metadata": {},
   "outputs": [],
   "source": [
    "def display_model_metrics_table(metrics_dfs):\n",
    "    # Concatenate all DataFrames\n",
    "    combined_df = pd.concat(metrics_dfs, ignore_index=True)\n",
    "    \n",
    "    # Convert DataFrame to a list of lists for tabulate\n",
    "    table = combined_df.values.tolist()\n",
    "    \n",
    "    # Get column headers from DataFrame\n",
    "    headers = combined_df.columns.tolist()\n",
    "    \n",
    "    # Generate and print the table\n",
    "    table_str = tabulate(table, headers, tablefmt='pretty')\n",
    "    print(table_str)\n",
    "    return combined_df\n",
    "\n",
    "model_metrics = display_model_metrics_table([baseline_metrics_df,log_l1_metrics_df, log_l2_metrics_df, elastic_net_metrics_df,\n",
    "                           tree1_metrics_df, rf_metrics_df, knn_metrics_df, grboost_metrics_df])  # grboost_metrics_df"
   ]
  },
  {
   "cell_type": "markdown",
   "id": "f3c3c7e1-478f-473f-97b2-a47e33ba547a",
   "metadata": {},
   "source": [
    "### Show Class Outcomes more Cleanly for Paper\n",
    "\n",
    "Saves as csv, that can copy paste into the Excel file within the same folder. This makes it easy to paste the values into the paper"
   ]
  },
  {
   "cell_type": "code",
   "execution_count": null,
   "id": "c19df7dd",
   "metadata": {},
   "outputs": [],
   "source": [
    "\n",
    "def format_as_percentage(df):\n",
    "    # Format metrics as percentage with one decimal point\n",
    " #   df['accuracy'] = df['accuracy'].apply(lambda x: f\"{x * 100:.1f}%\")\n",
    "    df['precision'] = df['precision'].apply(lambda x: f\"{x * 100:.1f}%\")\n",
    "    df['recall'] = df['recall'].apply(lambda x: f\"{x * 100:.1f}%\")\n",
    "    df['specificity'] = df['specificity'].apply(lambda x: f\"{x * 100:.1f}%\")\n",
    "    df['f1_score'] = df['f1_score'].apply(lambda x: f\"{x * 100:.1f}%\")\n",
    "    return df\n",
    "\n",
    "model_metrics = format_as_percentage(model_metrics)\n",
    "\n",
    "def aggregate_metrics(df):\n",
    "    # Group by 'model'\n",
    "    grouped = df.groupby('model').agg({\n",
    "        'accuracy': 'mean',  # Average accuracy\n",
    "        'precision': lambda x: x.tolist(),  # List of precision values\n",
    "        'recall': lambda x: x.tolist(),  # List of recall values\n",
    "        'specificity': lambda x: x.tolist(),  # List of specificity values\n",
    "        'f1_score': lambda x: x.tolist()  # List of F1 scores\n",
    "    }).reset_index()\n",
    "    \n",
    "    return grouped\n",
    "\n",
    "# Apply aggregation function\n",
    "aggregated_df = aggregate_metrics(model_metrics)\n",
    "\n",
    "\n",
    "\n",
    "\n",
    "# Rename columns\n",
    "aggregated_df = aggregated_df.rename(columns={\n",
    "  #  'model': 'Model',\n",
    "    'accuracy': 'Accuracy',\n",
    "    'precision': 'Precision (class 0,1,2)',\n",
    "    'recall': 'Recall (class 0,1,2)',\n",
    "    'f1_score': 'F-score (class 0,1,2)',\n",
    "    'specificity': 'Specificity (class 0,1,2)'\n",
    "})\n",
    "\n",
    "\n",
    "# Rename values in 'model' column\n",
    "aggregated_df['model'] = aggregated_df['model'].replace({\n",
    "    'elastic_net': 'Elastic Net',\n",
    "    'knn': 'KNN',\n",
    "    'tree1': 'Decision Tree',\n",
    "    'log_l1': 'Lasso Regression',\n",
    "    'log_l2': 'Ridge Regression',\n",
    "    'rf': 'Random Forest',\n",
    "    'grboost': 'Gradient Boosted Decision Tree'\n",
    "    \n",
    "})\n",
    "\n",
    "aggregated_df['Accuracy'] = aggregated_df['Accuracy'] .apply(lambda x: f\"{x * 100:.1f}%\")\n",
    "\n",
    "# Display the resulting DataFrame\n",
    "print(aggregated_df)\n",
    "\n",
    "#Save it as a CSV\n",
    "folder_path = 'ModelOutput\\withPrices'\n",
    "os.makedirs(folder_path, exist_ok=True)\n",
    "file_path = os.path.join(folder_path, 'aggregated_metrics_withpricesImputed.csv')\n",
    "aggregated_df.to_csv(file_path, index=False)\n"
   ]
  },
  {
   "cell_type": "markdown",
   "id": "0a9493c1-d2b8-4f48-8a48-226f2fd00c63",
   "metadata": {},
   "source": [
    "### AUC Curves"
   ]
  },
  {
   "cell_type": "code",
   "execution_count": null,
   "id": "db147135-9050-43dc-93d0-4606b2c50724",
   "metadata": {},
   "outputs": [],
   "source": [
    "# Enable inline plotting in Jupyter Notebook\n",
    "%matplotlib inline\n",
    "\n",
    "# List of model names\n",
    "model_names = ['Gradient Boost Decision Tree', 'Elastic Net', 'Lasso Regression', 'Ridge Regression', 'Single Decision Tree', 'Random Forest', 'KNN']\n",
    "\n",
    "# List of true labels and predicted probabilities\n",
    "y_tests = [y_test, y_test, y_test, y_test, y_test, y_test, y_test]  # True labels for each model\n",
    "y_pred_probs = [grboost_y_pred_proba, elastic_net_y_pred_proba, log_l1_y_pred_proba, log_l2_y_pred_proba, tree1_y_pred_proba, rf_y_pred_proba, knn_y_pred_proba]  # Predicted probabilities for each model\n",
    "\n",
    "# Colors for each model\n",
    "colors = {\n",
    "    'Gradient Boost Decision Tree': 'blue',\n",
    "    'Elastic Net': 'darkgreen',\n",
    "    'Lasso Regression': 'red',\n",
    "    'Ridge Regression': 'purple',\n",
    "    'Single Decision Tree': 'orange',\n",
    "    'Random Forest': 'lime',  # Distinct color for Random Forest\n",
    "    'KNN': 'magenta'\n",
    "}\n",
    "\n",
    "# Number of classes\n",
    "n_classes = 3\n",
    "\n",
    "# Binarize the output labels for each class\n",
    "y_tests_bin = [label_binarize(y, classes=range(n_classes)) for y in y_tests]\n",
    "\n",
    "plt.figure(figsize=(12, 10))\n",
    "\n",
    "# Class to focus on\n",
    "class_index = 2\n",
    "\n",
    "for model_name, y_test_bin, y_pred_prob in zip(model_names, y_tests_bin, y_pred_probs):\n",
    "    # Compute ROC curve and ROC area for the specific class\n",
    "    fpr, tpr, _ = roc_curve(y_test_bin[:, class_index], y_pred_prob[:, class_index])\n",
    "    roc_auc = auc(fpr, tpr)\n",
    "    \n",
    "    # Set line width and color based on model\n",
    "    if model_name == 'Random Forest':\n",
    "        lw = 4  # Thicker line for Random Forest\n",
    "        color = colors.get(model_name, 'black')  # Color for Random Forest\n",
    "    else:\n",
    "        lw = 2  # Default line width\n",
    "        color = colors.get(model_name, 'black')  # Default color for other models\n",
    "\n",
    "    # Plot ROC curve for the specific class\n",
    "    plt.plot(fpr, tpr, lw=lw, color=color, label=f'{model_name} (class {class_index}) AUC = {roc_auc:.2f}')\n",
    "\n",
    "# Plot random guess line\n",
    "plt.plot([0, 1], [0, 1], 'k--', lw=2)\n",
    "\n",
    "# Set axis labels and title with font sizes\n",
    "plt.xlabel('False Positive Rate', fontsize=16)\n",
    "plt.ylabel('True Positive Rate', fontsize=16)\n",
    "plt.title('Receiver Operating Characteristic (ROC) for Class 2', fontsize=20)\n",
    "\n",
    "# Adjust the size of the axis ticks and legend\n",
    "plt.xticks(fontsize=18)\n",
    "plt.yticks(fontsize=18)\n",
    "plt.legend(loc=\"lower right\", fontsize=16)\n",
    "\n",
    "plt.xlim([0.0, 1.0])\n",
    "plt.ylim([0.0, 1.05])\n",
    "\n",
    "folder_path = 'ModelOutput\\withPrices'\n",
    "img_path = os.path.join(folder_path, 'ROCPlotImputation.png')\n",
    "plt.savefig(img_path)\n",
    "\n",
    "plt.show()\n"
   ]
  },
  {
   "cell_type": "markdown",
   "id": "0e99d5a5-924a-4540-931a-e127c2066de9",
   "metadata": {},
   "source": [
    "# Top Model Performance on Validation Data"
   ]
  },
  {
   "cell_type": "code",
   "execution_count": null,
   "id": "5c4c5eff-ffc3-42e7-880e-5100f9b84af4",
   "metadata": {},
   "outputs": [],
   "source": [
    "y_val"
   ]
  },
  {
   "cell_type": "code",
   "execution_count": null,
   "id": "8aeda1ff-5e7e-45af-bc70-c31a4164bedf",
   "metadata": {},
   "outputs": [],
   "source": [
    "model_name = 'rf'\n",
    "\n",
    "# Run model on test data, generate confusion matrix, save y_pred\n",
    "rf_metrics_df_val, rf_img_path_val, rf_y_pred_val = evaluate_model(rf, X_val_encoded, y_val, labels=[0, 1, 2], model_name=model_name)\n",
    "\n",
    "rf_metrics_df_val.head()"
   ]
  },
  {
   "cell_type": "code",
   "execution_count": null,
   "id": "f342dd9b-17b5-4957-a833-d53bc605cc6b",
   "metadata": {},
   "outputs": [],
   "source": [
    "rf"
   ]
  },
  {
   "cell_type": "code",
   "execution_count": null,
   "id": "6cb05ff5-5403-4ebf-9913-19c37623168e",
   "metadata": {},
   "outputs": [],
   "source": [
    "X_test_encoded"
   ]
  },
  {
   "cell_type": "code",
   "execution_count": null,
   "id": "6b1ca55a-5d15-436c-ae7d-111b5b56ab96",
   "metadata": {},
   "outputs": [],
   "source": []
  },
  {
   "cell_type": "code",
   "execution_count": null,
   "id": "f725f9f1-e69f-4091-acf8-5b2a61c05b18",
   "metadata": {},
   "outputs": [],
   "source": []
  },
  {
   "cell_type": "code",
   "execution_count": null,
   "id": "39906323-8384-478b-ab98-aeefb1e5c13d",
   "metadata": {},
   "outputs": [],
   "source": []
  },
  {
   "cell_type": "code",
   "execution_count": null,
   "id": "e52c13bc-1cec-4f4e-8ec4-9c95a8836173",
   "metadata": {},
   "outputs": [],
   "source": []
  },
  {
   "cell_type": "code",
   "execution_count": null,
   "id": "dde439ba-fb49-4c07-aa20-ca683dc04c74",
   "metadata": {},
   "outputs": [],
   "source": []
  }
 ],
 "metadata": {
  "kernelspec": {
   "display_name": "Python 3 (ipykernel)",
   "language": "python",
   "name": "python3"
  },
  "language_info": {
   "codemirror_mode": {
    "name": "ipython",
    "version": 3
   },
   "file_extension": ".py",
   "mimetype": "text/x-python",
   "name": "python",
   "nbconvert_exporter": "python",
   "pygments_lexer": "ipython3",
   "version": "3.9.18"
  }
 },
 "nbformat": 4,
 "nbformat_minor": 5
}
