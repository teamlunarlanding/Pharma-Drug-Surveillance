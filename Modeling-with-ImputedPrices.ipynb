{
 "cells": [
  {
   "cell_type": "markdown",
   "id": "b26d1edf",
   "metadata": {},
   "source": [
    "# Load Libraries and Functions"
   ]
  },
  {
   "cell_type": "code",
   "execution_count": 2,
   "id": "3b84b674",
   "metadata": {},
   "outputs": [
    {
     "name": "stdout",
     "output_type": "stream",
     "text": [
      "no display found. Using non-interactive Agg backend\n"
     ]
    }
   ],
   "source": [
    "# System, Data, Time, and Spec Libraries\n",
    "import os\n",
    "import pandas as pd\n",
    "import time\n",
    "import random\n",
    "from datetime import datetime, timedelta\n",
    "import numpy as np \n",
    "from line_profiler import LineProfiler  # Code peformance\n",
    "profiler = LineProfiler()\n",
    "import warnings\n",
    "warnings.filterwarnings('ignore')\n",
    "import csv\n",
    "#pd.set_option('display.max_colwidth', None)\n",
    "import multiprocess as mp\n",
    "num_cores = mp.cpu_count()\n",
    "\n",
    "# Data Visualization Libraries\n",
    "import matplotlib.pyplot as plt\n",
    "from tabulate import tabulate\n",
    "import plotly.express as px\n",
    "import seaborn as sns\n",
    "#from pandas.io.json import json_normalize  # Older version\n",
    "from pandas import json_normalize  # Newer version\n",
    "from pandas.plotting import parallel_coordinates\n",
    "\n",
    "\n",
    "# Natural Language Processing Libraries\n",
    "import json\n",
    "import requests\n",
    "import xml.etree.ElementTree as ET\n",
    "import nltk\n",
    "import re\n",
    "from nltk.tokenize import word_tokenize\n",
    "from nltk.corpus import words\n",
    "import string\n",
    "import nltk\n",
    "from collections import OrderedDict\n",
    "from nltk.tokenize import word_tokenize\n",
    "from pandas import json_normalize\n",
    "from nltk.stem import WordNetLemmatizer\n",
    "lemmatizer = WordNetLemmatizer()\n",
    "from nltk.util import ngrams\n",
    "from nltk.corpus import stopwords\n",
    "from string import punctuation\n",
    "punctuation = set(punctuation)\n",
    "punctuation.update({'_', '-','‘'})\n",
    "english_words = set(words.words())\n",
    "from fuzzywuzzy import process\n",
    "#nltk.download('words')\n",
    "#nltk.download('punkt')\n",
    "#nltk.download('stopwords')\n",
    "\n",
    "# SQL Interface Libraries\n",
    "import pymysql as mysql\n",
    "import mysql.connector\n",
    "import pyodbc\n",
    "import sqlite3\n",
    "import sqlalchemy\n",
    "from sqlalchemy import create_engine\n",
    "from sqlalchemy import event\n",
    "from string import punctuation\n",
    "\n",
    "# Machine Learning Libraries\n",
    "import scipy.stats as stats\n",
    "from scipy.stats import zscore\n",
    "from scipy.stats import yeojohnson\n",
    "import statsmodels.api as sm\n",
    "from sklearn.preprocessing import OneHotEncoder, PowerTransformer\n",
    "from sklearn.impute import KNNImputer\n",
    "from sklearn.feature_selection import VarianceThreshold\n",
    "from sklearn.compose import ColumnTransformer\n",
    "from sklearn.model_selection import train_test_split, cross_val_score, GridSearchCV\n",
    "from sklearn.metrics import confusion_matrix, accuracy_score, ConfusionMatrixDisplay,roc_auc_score, roc_curve \n",
    "from sklearn.metrics import classification_report, mean_squared_error, f1_score\n",
    "from sklearn.linear_model import LogisticRegressionCV, LogisticRegression\n",
    "from sklearn.tree import DecisionTreeClassifier\n",
    "from sklearn.preprocessing import StandardScaler\n",
    "from sklearn.pipeline import make_pipeline, Pipeline\n",
    "from dmba import classificationSummary, AIC_score, BIC_score, plotDecisionTree,gainsChart\n",
    "from scikitplot.metrics import plot_lift_curve, plot_cumulative_gain\n",
    "from sklearn.neural_network import MLPClassifier\n",
    "from sklearn.tree import DecisionTreeClassifier\n",
    "from sklearn.neighbors import KNeighborsClassifier \n",
    "from sklearn.ensemble import GradientBoostingClassifier\n",
    "from imblearn.metrics import specificity_score, sensitivity_score\n",
    "from imblearn.under_sampling import RandomUnderSampler\n",
    "from scikitplot.metrics import plot_lift_curve\n",
    "from sklearn.impute import SimpleImputer\n",
    "from sklearn.ensemble import GradientBoostingClassifier, RandomForestClassifier\n",
    "from sklearn import preprocessing\n",
    "from sklearn import tree\n",
    "from sklearn.model_selection import cross_val_score\n",
    "from patsy import dmatrices\n",
    "from statsmodels.stats.outliers_influence import variance_inflation_factor\n",
    "from sklearn.model_selection import KFold\n",
    "from dmba import stepwise_selection, classificationSummary, backward_elimination\n",
    "from sklearn.decomposition import PCA\n",
    "from sklearn.utils.random import sample_without_replacement\n",
    "from sklearn.metrics import precision_score, recall_score\n",
    "\n",
    "# Importing Custom Functions\n",
    "import nbimporter\n",
    "from Functions import nan_info\n",
    "\n",
    "from sklearn.metrics import accuracy_score, precision_score, recall_score, f1_score, confusion_matrix\n",
    "import numpy as np"
   ]
  },
  {
   "cell_type": "markdown",
   "id": "ea45efe7",
   "metadata": {},
   "source": [
    "# Test Join Outside of Database"
   ]
  },
  {
   "cell_type": "code",
   "execution_count": 3,
   "id": "05b30919",
   "metadata": {},
   "outputs": [],
   "source": [
    "# df1 = pd.read_csv('C://Users/halee/Downloads/events_table2024.csv')\n",
    "# df2 = pd.read_csv('C://Users/halee/Downloads/drugs_table2024_prep.csv')\n",
    "# # Merge df1 and df2\n",
    "# merged_df1_df2 = pd.merge(df1, df2, on='event_id', how='inner')\n",
    "# merged_df1_df2.drop(['patient_drug_id'], axis = 1, inplace = True)\n",
    "# merged_df1_df2.drop_duplicates(inplace=True)\n",
    "# merged_df1_df2.head(20)"
   ]
  },
  {
   "cell_type": "code",
   "execution_count": 4,
   "id": "a9c31968",
   "metadata": {},
   "outputs": [],
   "source": [
    "# merged_df1_df2['ndc9'] = merged_df1_df2['ndc9'].astype(str)\n",
    "# merged_df1_df2['ndc9'].head()"
   ]
  },
  {
   "cell_type": "code",
   "execution_count": 5,
   "id": "dd1ef62c",
   "metadata": {},
   "outputs": [],
   "source": [
    "# with_drugs = merged_df1_df2[['event_id', 'expedited', 'age', 'sex', 'weight', 'report_source', 'ndc9', 'serious_outcome']].drop_duplicates(subset='event_id')"
   ]
  },
  {
   "cell_type": "code",
   "execution_count": 7,
   "id": "a4963e65",
   "metadata": {},
   "outputs": [],
   "source": [
    "#with_drugs.head()"
   ]
  },
  {
   "cell_type": "code",
   "execution_count": null,
   "id": "be2ef6ac",
   "metadata": {},
   "outputs": [],
   "source": [
    "with_drugs.to_csv('C://Users/halee/Downloads/with_drugs_sample2024.csv', index = False)"
   ]
  },
  {
   "cell_type": "markdown",
   "id": "b14aff2b-fd02-4373-8f0c-b886ab7e9395",
   "metadata": {},
   "source": [
    "### SQL Password"
   ]
  },
  {
   "cell_type": "code",
   "execution_count": 8,
   "id": "95daa5f5-c8e9-450b-a74f-b9ade632cd40",
   "metadata": {},
   "outputs": [],
   "source": [
    "PASSWORD  = 'PASSWORD' "
   ]
  },
  {
   "cell_type": "markdown",
   "id": "33d1ab8a-ee41-484e-ab5f-b37f23b7080f",
   "metadata": {},
   "source": [
    "## Investigate number of records in each database table"
   ]
  },
  {
   "cell_type": "code",
   "execution_count": 9,
   "id": "27b7a789-1b65-4887-8bb7-23dcbdfd0a4f",
   "metadata": {},
   "outputs": [
    {
     "data": {
      "text/html": [
       "<div>\n",
       "<style scoped>\n",
       "    .dataframe tbody tr th:only-of-type {\n",
       "        vertical-align: middle;\n",
       "    }\n",
       "\n",
       "    .dataframe tbody tr th {\n",
       "        vertical-align: top;\n",
       "    }\n",
       "\n",
       "    .dataframe thead th {\n",
       "        text-align: right;\n",
       "    }\n",
       "</style>\n",
       "<table border=\"1\" class=\"dataframe\">\n",
       "  <thead>\n",
       "    <tr style=\"text-align: right;\">\n",
       "      <th></th>\n",
       "      <th>COUNT(*)</th>\n",
       "    </tr>\n",
       "  </thead>\n",
       "  <tbody>\n",
       "    <tr>\n",
       "      <th>0</th>\n",
       "      <td>118510</td>\n",
       "    </tr>\n",
       "  </tbody>\n",
       "</table>\n",
       "</div>"
      ],
      "text/plain": [
       "   COUNT(*)\n",
       "0    118510"
      ]
     },
     "execution_count": 9,
     "metadata": {},
     "output_type": "execute_result"
    }
   ],
   "source": [
    "connection = mysql.connector.connect(\n",
    "    host=\"localhost\", user=\"root\", password=PASSWORD, database=\"pharma_db\"\n",
    ")\n",
    "\n",
    "cursor = connection.cursor()\n",
    "sql_query = \"\"\"SELECT COUNT(*) FROM patient_reactions\"\"\"\n",
    "\n",
    "\n",
    "cursor.execute(sql_query)\n",
    "result = cursor.fetchall()\n",
    "column_names = [i[0] for i in cursor.description]\n",
    "\n",
    "\n",
    "result_query_df = pd.DataFrame(result, columns=column_names)\n",
    "\n",
    "cursor.close()\n",
    "connection.close()\n",
    "\n",
    "result_query_df"
   ]
  },
  {
   "cell_type": "markdown",
   "id": "ca6f85a2",
   "metadata": {},
   "source": [
    "# Get Dataset from SQL Database"
   ]
  },
  {
   "cell_type": "code",
   "execution_count": 10,
   "id": "cfd9e5b0",
   "metadata": {},
   "outputs": [],
   "source": [
    "# Connect to the MySQL server\n",
    "connection = mysql.connector.connect(\n",
    "    host=\"localhost\", user=\"root\", password=PASSWORD, database=\"pharma_db\"\n",
    ")\n",
    "\n",
    "# Create a cursor object\n",
    "cursor = connection.cursor()"
   ]
  },
  {
   "cell_type": "code",
   "execution_count": 11,
   "id": "b1c46ce0",
   "metadata": {},
   "outputs": [],
   "source": [
    "# # Master Query from Data - goal\n",
    "\n",
    "# master_query = \"\"\"SELECT \n",
    "#                 a.serious_outcome,\n",
    "#                 a.expedited,\n",
    "#                 a.age,\n",
    "#                 a.sex,\n",
    "#                 a.year\n",
    "#                 a.weight\n",
    "#                 r.outcome,\n",
    "#                 p.unit_price,\n",
    "#                 p.generic_brand,\n",
    "#                 l.ingredients,\n",
    "#                 l.rxcui,\n",
    "#                 l.set_id,\n",
    "#                 d.manu_num,\n",
    "#                 d.unii\n",
    "#             FROM adverse_events a \n",
    "#                 INNER JOIN patients_reactions r ON a.event_id = r.event_id \n",
    "#                 INNER JOIN patients_drugs d ON r.event_id = d.event_id \n",
    "#                 INNER JOIN prices p ON d.ndc11 = p.ndc11\n",
    "#                 INNER JOIN lables l ON p.ndc11 = l.ndc11\n",
    "#             ORDER BY a.event_id DESC\"\"\"  # Still need to test and figure out"
   ]
  },
  {
   "cell_type": "markdown",
   "id": "ccc4c605-fa87-4a0f-ae9b-7e7e9fceb01c",
   "metadata": {},
   "source": [
    "# Read in data from csv OR"
   ]
  },
  {
   "cell_type": "code",
   "execution_count": 8,
   "id": "813d4ca7-e5e6-4609-b25c-ec86c9491585",
   "metadata": {},
   "outputs": [],
   "source": [
    "master_query_df = pd.read_csv('DataLibrary/result_query_df.csv')"
   ]
  },
  {
   "cell_type": "markdown",
   "id": "ebd42033-7ef2-42c5-b917-3fbc23089f2c",
   "metadata": {},
   "source": [
    "# option 2- Read in data from SQL"
   ]
  },
  {
   "cell_type": "code",
   "execution_count": 12,
   "id": "47d32654-430f-42a6-ab82-fc1f4de696ce",
   "metadata": {},
   "outputs": [
    {
     "name": "stdout",
     "output_type": "stream",
     "text": [
      "117.6170768737793\n"
     ]
    }
   ],
   "source": [
    "start_time = time.time()\n",
    "\n",
    "connection = mysql.connector.connect(\n",
    "    host=\"localhost\", user=\"root\", password=PASSWORD, database=\"pharma_db\"\n",
    ")\n",
    "\n",
    "cursor = connection.cursor()\n",
    "sql_query = \"\"\"SELECT \n",
    "d.med_product,\n",
    "d.event_id,\n",
    "d.manu_num,\n",
    "a.serious_outcome,\n",
    "a.expedited,\n",
    "a.age,\n",
    "a.sex,\n",
    "a.year,\n",
    "a.weight,\n",
    "a.report_source,\n",
    "r.outcome,\n",
    "d.ndc9,\n",
    "p.unit_price\n",
    "FROM adverse_events a \n",
    "\n",
    "INNER JOIN patient_reactions r ON a.event_id = r.event_id\n",
    "INNER JOIN patient_drugs d ON a.event_id = d.event_id\n",
    "LEFT JOIN prices p ON d.ndc9 = p.ndc9\n",
    "ORDER BY a.event_id DESC\n",
    "\"\"\"\n",
    "cursor.execute(sql_query)\n",
    "result = cursor.fetchall()\n",
    "column_names = [i[0] for i in cursor.description]\n",
    "master_query_df = pd.DataFrame(result, columns=column_names)\n",
    "\n",
    "cursor.close()\n",
    "connection.close()\n",
    "\n",
    "\n",
    "end_time = time.time()\n",
    "execution_time = end_time - start_time\n",
    "print(execution_time)\n",
    "\n",
    "\n",
    "\n",
    "master_query_df = master_query_df.drop_duplicates()\n",
    "\n",
    "master_query_df.head(10)\n",
    "\n",
    "\n",
    "master_query_df.to_csv('DataLibrary/result_query_2024_withImputedprices.csv')"
   ]
  },
  {
   "cell_type": "code",
   "execution_count": 13,
   "id": "53568a97-fd7e-431a-a13e-ca728b5c5742",
   "metadata": {},
   "outputs": [
    {
     "data": {
      "text/plain": [
       "(83307, 13)"
      ]
     },
     "execution_count": 13,
     "metadata": {},
     "output_type": "execute_result"
    }
   ],
   "source": [
    "master_query_df.shape"
   ]
  },
  {
   "cell_type": "code",
   "execution_count": 14,
   "id": "2503bd9e-12f8-4607-9c76-3b6091f4251e",
   "metadata": {},
   "outputs": [
    {
     "data": {
      "text/html": [
       "<div>\n",
       "<style scoped>\n",
       "    .dataframe tbody tr th:only-of-type {\n",
       "        vertical-align: middle;\n",
       "    }\n",
       "\n",
       "    .dataframe tbody tr th {\n",
       "        vertical-align: top;\n",
       "    }\n",
       "\n",
       "    .dataframe thead th {\n",
       "        text-align: right;\n",
       "    }\n",
       "</style>\n",
       "<table border=\"1\" class=\"dataframe\">\n",
       "  <thead>\n",
       "    <tr style=\"text-align: right;\">\n",
       "      <th></th>\n",
       "      <th>med_product</th>\n",
       "      <th>event_id</th>\n",
       "      <th>manu_num</th>\n",
       "      <th>serious_outcome</th>\n",
       "      <th>expedited</th>\n",
       "      <th>age</th>\n",
       "      <th>sex</th>\n",
       "      <th>year</th>\n",
       "      <th>weight</th>\n",
       "      <th>report_source</th>\n",
       "      <th>outcome</th>\n",
       "      <th>ndc9</th>\n",
       "      <th>unit_price</th>\n",
       "    </tr>\n",
       "  </thead>\n",
       "  <tbody>\n",
       "    <tr>\n",
       "      <th>0</th>\n",
       "      <td>['xolair']</td>\n",
       "      <td>20885</td>\n",
       "      <td>1</td>\n",
       "      <td>1</td>\n",
       "      <td>1</td>\n",
       "      <td>25</td>\n",
       "      <td>1</td>\n",
       "      <td>2024</td>\n",
       "      <td>95</td>\n",
       "      <td>3</td>\n",
       "      <td>Unknown</td>\n",
       "      <td>502420040</td>\n",
       "      <td>None</td>\n",
       "    </tr>\n",
       "    <tr>\n",
       "      <th>4</th>\n",
       "      <td>['xolair']</td>\n",
       "      <td>20885</td>\n",
       "      <td>1</td>\n",
       "      <td>1</td>\n",
       "      <td>1</td>\n",
       "      <td>25</td>\n",
       "      <td>1</td>\n",
       "      <td>2024</td>\n",
       "      <td>95</td>\n",
       "      <td>3</td>\n",
       "      <td>Recovering</td>\n",
       "      <td>502420040</td>\n",
       "      <td>None</td>\n",
       "    </tr>\n",
       "    <tr>\n",
       "      <th>14</th>\n",
       "      <td>['xolair']</td>\n",
       "      <td>20885</td>\n",
       "      <td>1</td>\n",
       "      <td>1</td>\n",
       "      <td>1</td>\n",
       "      <td>25</td>\n",
       "      <td>1</td>\n",
       "      <td>2024</td>\n",
       "      <td>95</td>\n",
       "      <td>3</td>\n",
       "      <td>NotRecovered</td>\n",
       "      <td>502420040</td>\n",
       "      <td>None</td>\n",
       "    </tr>\n",
       "    <tr>\n",
       "      <th>17</th>\n",
       "      <td>['xolair']</td>\n",
       "      <td>20885</td>\n",
       "      <td>1</td>\n",
       "      <td>1</td>\n",
       "      <td>1</td>\n",
       "      <td>25</td>\n",
       "      <td>1</td>\n",
       "      <td>2024</td>\n",
       "      <td>95</td>\n",
       "      <td>3</td>\n",
       "      <td>Recovered</td>\n",
       "      <td>502420040</td>\n",
       "      <td>None</td>\n",
       "    </tr>\n",
       "    <tr>\n",
       "      <th>846</th>\n",
       "      <td>['aspirin']</td>\n",
       "      <td>20885</td>\n",
       "      <td>153</td>\n",
       "      <td>1</td>\n",
       "      <td>1</td>\n",
       "      <td>25</td>\n",
       "      <td>1</td>\n",
       "      <td>2024</td>\n",
       "      <td>95</td>\n",
       "      <td>3</td>\n",
       "      <td>Unknown</td>\n",
       "      <td>476820456</td>\n",
       "      <td>None</td>\n",
       "    </tr>\n",
       "  </tbody>\n",
       "</table>\n",
       "</div>"
      ],
      "text/plain": [
       "     med_product  event_id  manu_num  serious_outcome  expedited  age  sex  \\\n",
       "0     ['xolair']     20885         1                1          1   25    1   \n",
       "4     ['xolair']     20885         1                1          1   25    1   \n",
       "14    ['xolair']     20885         1                1          1   25    1   \n",
       "17    ['xolair']     20885         1                1          1   25    1   \n",
       "846  ['aspirin']     20885       153                1          1   25    1   \n",
       "\n",
       "     year  weight  report_source       outcome       ndc9 unit_price  \n",
       "0    2024      95              3       Unknown  502420040       None  \n",
       "4    2024      95              3    Recovering  502420040       None  \n",
       "14   2024      95              3  NotRecovered  502420040       None  \n",
       "17   2024      95              3     Recovered  502420040       None  \n",
       "846  2024      95              3       Unknown  476820456       None  "
      ]
     },
     "execution_count": 14,
     "metadata": {},
     "output_type": "execute_result"
    }
   ],
   "source": [
    "master_query_df.head()"
   ]
  },
  {
   "cell_type": "code",
   "execution_count": 55,
   "id": "ee4e0bd9",
   "metadata": {},
   "outputs": [],
   "source": [
    "#master_query_df.to_csv('DataLibrary/result_query_df.csv')"
   ]
  },
  {
   "cell_type": "code",
   "execution_count": 12,
   "id": "69443ce2-9240-4a79-a342-530b39210669",
   "metadata": {},
   "outputs": [
    {
     "data": {
      "text/plain": [
       "(11984, 13)"
      ]
     },
     "execution_count": 12,
     "metadata": {},
     "output_type": "execute_result"
    }
   ],
   "source": [
    "master_query_df.shape"
   ]
  },
  {
   "cell_type": "markdown",
   "id": "0657baf0-8418-44c5-8b79-68ed6d0877a8",
   "metadata": {},
   "source": [
    "# Make dataset smaller for testing"
   ]
  },
  {
   "cell_type": "markdown",
   "id": "80cb749f",
   "metadata": {},
   "source": [
    "# Preparation for Data Split"
   ]
  },
  {
   "cell_type": "code",
   "execution_count": 67,
   "id": "8aec610e-8d11-4faa-9314-c389f002ecd8",
   "metadata": {},
   "outputs": [],
   "source": [
    "#with_drugs = pd.read_csv('/Users/vicky/Downloads/with_drugs_sample2024.csv')"
   ]
  },
  {
   "cell_type": "markdown",
   "id": "fbb1a292",
   "metadata": {},
   "source": [
    "### Define numerical, text, and categorical variables"
   ]
  },
  {
   "cell_type": "code",
   "execution_count": 68,
   "id": "b156cc45",
   "metadata": {},
   "outputs": [
    {
     "name": "stdout",
     "output_type": "stream",
     "text": [
      "<class 'pandas.core.frame.DataFrame'>\n",
      "RangeIndex: 20885 entries, 0 to 20884\n",
      "Data columns (total 8 columns):\n",
      " #   Column           Non-Null Count  Dtype  \n",
      "---  ------           --------------  -----  \n",
      " 0   event_id         20885 non-null  int64  \n",
      " 1   expedited        20885 non-null  int64  \n",
      " 2   age              20885 non-null  float64\n",
      " 3   sex              20885 non-null  int64  \n",
      " 4   weight           20885 non-null  float64\n",
      " 5   report_source    20885 non-null  int64  \n",
      " 6   ndc9             18983 non-null  float64\n",
      " 7   serious_outcome  20885 non-null  int64  \n",
      "dtypes: float64(3), int64(5)\n",
      "memory usage: 1.3 MB\n"
     ]
    }
   ],
   "source": [
    "#with_drugs.info()"
   ]
  },
  {
   "cell_type": "code",
   "execution_count": 13,
   "id": "0b911c94",
   "metadata": {},
   "outputs": [],
   "source": [
    "result_query_df = master_query_df"
   ]
  },
  {
   "cell_type": "code",
   "execution_count": 14,
   "id": "414dd0b3-4b30-4fee-808e-d306d47ce48d",
   "metadata": {},
   "outputs": [
    {
     "data": {
      "text/plain": [
       "(11984, 13)"
      ]
     },
     "execution_count": 14,
     "metadata": {},
     "output_type": "execute_result"
    }
   ],
   "source": [
    "result_query_df.shape"
   ]
  },
  {
   "cell_type": "code",
   "execution_count": 15,
   "id": "b15b7c72",
   "metadata": {},
   "outputs": [
    {
     "data": {
      "text/html": [
       "<div>\n",
       "<style scoped>\n",
       "    .dataframe tbody tr th:only-of-type {\n",
       "        vertical-align: middle;\n",
       "    }\n",
       "\n",
       "    .dataframe tbody tr th {\n",
       "        vertical-align: top;\n",
       "    }\n",
       "\n",
       "    .dataframe thead th {\n",
       "        text-align: right;\n",
       "    }\n",
       "</style>\n",
       "<table border=\"1\" class=\"dataframe\">\n",
       "  <thead>\n",
       "    <tr style=\"text-align: right;\">\n",
       "      <th></th>\n",
       "      <th>med_product</th>\n",
       "      <th>event_id</th>\n",
       "      <th>manu_num</th>\n",
       "      <th>serious_outcome</th>\n",
       "      <th>expedited</th>\n",
       "      <th>age</th>\n",
       "      <th>sex</th>\n",
       "      <th>year</th>\n",
       "      <th>weight</th>\n",
       "      <th>report_source</th>\n",
       "      <th>outcome</th>\n",
       "      <th>ndc9</th>\n",
       "      <th>unit_price</th>\n",
       "    </tr>\n",
       "  </thead>\n",
       "  <tbody>\n",
       "    <tr>\n",
       "      <th>0</th>\n",
       "      <td>['oxazepam']</td>\n",
       "      <td>20884</td>\n",
       "      <td>2</td>\n",
       "      <td>1</td>\n",
       "      <td>1</td>\n",
       "      <td>83</td>\n",
       "      <td>2</td>\n",
       "      <td>2024</td>\n",
       "      <td>87</td>\n",
       "      <td>2</td>\n",
       "      <td>Recovered</td>\n",
       "      <td>528170290</td>\n",
       "      <td>0.83801</td>\n",
       "    </tr>\n",
       "    <tr>\n",
       "      <th>2</th>\n",
       "      <td>['oxazepam']</td>\n",
       "      <td>20884</td>\n",
       "      <td>2</td>\n",
       "      <td>1</td>\n",
       "      <td>1</td>\n",
       "      <td>83</td>\n",
       "      <td>2</td>\n",
       "      <td>2024</td>\n",
       "      <td>87</td>\n",
       "      <td>2</td>\n",
       "      <td>Unknown</td>\n",
       "      <td>528170290</td>\n",
       "      <td>0.83801</td>\n",
       "    </tr>\n",
       "    <tr>\n",
       "      <th>4</th>\n",
       "      <td>['nitroglycerin']</td>\n",
       "      <td>20884</td>\n",
       "      <td>23</td>\n",
       "      <td>1</td>\n",
       "      <td>1</td>\n",
       "      <td>83</td>\n",
       "      <td>2</td>\n",
       "      <td>2024</td>\n",
       "      <td>87</td>\n",
       "      <td>2</td>\n",
       "      <td>Recovered</td>\n",
       "      <td>596510657</td>\n",
       "      <td>0.11488</td>\n",
       "    </tr>\n",
       "    <tr>\n",
       "      <th>6</th>\n",
       "      <td>['nitroglycerin']</td>\n",
       "      <td>20884</td>\n",
       "      <td>23</td>\n",
       "      <td>1</td>\n",
       "      <td>1</td>\n",
       "      <td>83</td>\n",
       "      <td>2</td>\n",
       "      <td>2024</td>\n",
       "      <td>87</td>\n",
       "      <td>2</td>\n",
       "      <td>Unknown</td>\n",
       "      <td>596510657</td>\n",
       "      <td>0.11488</td>\n",
       "    </tr>\n",
       "    <tr>\n",
       "      <th>8</th>\n",
       "      <td>['simponi']</td>\n",
       "      <td>20883</td>\n",
       "      <td>1</td>\n",
       "      <td>1</td>\n",
       "      <td>1</td>\n",
       "      <td>18</td>\n",
       "      <td>2</td>\n",
       "      <td>2024</td>\n",
       "      <td>58</td>\n",
       "      <td>1</td>\n",
       "      <td>Recovered</td>\n",
       "      <td>578940070</td>\n",
       "      <td>11901.616</td>\n",
       "    </tr>\n",
       "  </tbody>\n",
       "</table>\n",
       "</div>"
      ],
      "text/plain": [
       "         med_product  event_id  manu_num serious_outcome  expedited  age  sex  \\\n",
       "0       ['oxazepam']     20884         2               1          1   83    2   \n",
       "2       ['oxazepam']     20884         2               1          1   83    2   \n",
       "4  ['nitroglycerin']     20884        23               1          1   83    2   \n",
       "6  ['nitroglycerin']     20884        23               1          1   83    2   \n",
       "8        ['simponi']     20883         1               1          1   18    2   \n",
       "\n",
       "   year  weight  report_source    outcome       ndc9 unit_price  \n",
       "0  2024      87              2  Recovered  528170290    0.83801  \n",
       "2  2024      87              2    Unknown  528170290    0.83801  \n",
       "4  2024      87              2  Recovered  596510657    0.11488  \n",
       "6  2024      87              2    Unknown  596510657    0.11488  \n",
       "8  2024      58              1  Recovered  578940070  11901.616  "
      ]
     },
     "execution_count": 15,
     "metadata": {},
     "output_type": "execute_result"
    }
   ],
   "source": [
    "cats = ['sex', 'expedited', 'report_source', 'ndc9']\n",
    "nums = ['weight', 'age', 'unit_price']  # Took out year since data will all be from recent 3 months of data \n",
    "all_vars = cats+nums\n",
    "\n",
    "#Define outcome as categorical\n",
    "result_query_df['serious_outcome'] = result_query_df['serious_outcome'].astype('category')\n",
    "\n",
    "result_query_df.head()"
   ]
  },
  {
   "cell_type": "markdown",
   "id": "34fd9a25",
   "metadata": {},
   "source": [
    "### Create Transformation Pipeline"
   ]
  },
  {
   "cell_type": "markdown",
   "id": "27bbeb01",
   "metadata": {},
   "source": [
    "### One Hot Encode Drug Names for Full Dataset before Splitting - using NDC9 since there is only one per row"
   ]
  },
  {
   "cell_type": "code",
   "execution_count": 16,
   "id": "a40de67a",
   "metadata": {},
   "outputs": [],
   "source": [
    "# need to do \n"
   ]
  },
  {
   "cell_type": "code",
   "execution_count": 17,
   "id": "96e0fd1c",
   "metadata": {},
   "outputs": [],
   "source": [
    "# # Create a categorical processing pipeline that uses one-hot encoding\n",
    "# # Dropping binary columns and drop first of each level** NEED TO ADD**\n",
    "# cat_pipe = Pipeline([('encoder', OneHotEncoder(drop='if_binary'))])\n",
    "\n",
    "# # Create a numerical processing pipeline that uses skewness correction/center/scale.\n",
    "# num_pipe = Pipeline([('skew_standardize', PowerTransformer())])\n",
    "\n",
    "# # Create a text token processing step to vectorize tokens\n",
    "# #text_pipe = Pipeline([('vector', tf_idf function())])\n",
    "\n",
    "# # Combine pipeline steps\n",
    "# all_pipe = ColumnTransformer(\n",
    "#     transformers=[\n",
    "#         ('cat', cat_pipe, cats),\n",
    "#         ('num', num_pipe, nums)\n",
    "#         # ('text', text_pipe, texts)  # Apply text pipeline if you have text columns\n",
    "#     ],\n",
    "#     verbose_feature_names_out=False\n",
    "# )\n",
    "# # Verify steps\n",
    "# all_pipe"
   ]
  },
  {
   "cell_type": "markdown",
   "id": "b06b208e",
   "metadata": {},
   "source": [
    "# Split Data into Training/Validation/Testing"
   ]
  },
  {
   "cell_type": "code",
   "execution_count": 19,
   "id": "c67514b0-a34f-42e1-9886-f221a0368b1b",
   "metadata": {},
   "outputs": [],
   "source": [
    "master_query_df = pd.read_csv('DataLibrary/result_query_2024_withImputedprices.csv')"
   ]
  },
  {
   "cell_type": "code",
   "execution_count": 20,
   "id": "3ddf875e-6032-45b5-b6d0-f778ee6cb322",
   "metadata": {},
   "outputs": [
    {
     "data": {
      "text/plain": [
       "(11984, 14)"
      ]
     },
     "execution_count": 20,
     "metadata": {},
     "output_type": "execute_result"
    }
   ],
   "source": [
    "master_query_df.shape"
   ]
  },
  {
   "cell_type": "markdown",
   "id": "b589ee01-a355-4f91-b570-22c136c4ab0f",
   "metadata": {},
   "source": [
    "### Make a Subset of the Dataset for Initial Model Training"
   ]
  },
  {
   "cell_type": "code",
   "execution_count": 21,
   "id": "23f9eef3",
   "metadata": {},
   "outputs": [],
   "source": [
    "# Split the data into features (X) and the target variable (y).\n",
    "X = master_query_df[all_vars]\n",
    "\n",
    "#Define outcome variable\n",
    "y = master_query_df[['serious_outcome']]\n",
    "\n",
    "#Split data\n",
    "X_train, X_rest, y_train, y_rest = train_test_split(X, y, train_size=0.8, random_state = 2)\n",
    "X_val, X_test, y_val, y_test = train_test_split(X_rest, y_rest, test_size=0.5, random_state = 2)"
   ]
  },
  {
   "cell_type": "code",
   "execution_count": 22,
   "id": "527f8099",
   "metadata": {},
   "outputs": [
    {
     "data": {
      "text/plain": [
       "((9587, 7), (9587, 1))"
      ]
     },
     "execution_count": 22,
     "metadata": {},
     "output_type": "execute_result"
    }
   ],
   "source": [
    "X_train.shape, y_train.shape"
   ]
  },
  {
   "cell_type": "code",
   "execution_count": 23,
   "id": "74b841c0",
   "metadata": {},
   "outputs": [
    {
     "data": {
      "text/plain": [
       "serious_outcome\n",
       "1                  6496\n",
       "2                  2857\n",
       "0                   234\n",
       "dtype: int64"
      ]
     },
     "execution_count": 23,
     "metadata": {},
     "output_type": "execute_result"
    }
   ],
   "source": [
    "y_train.value_counts()"
   ]
  },
  {
   "cell_type": "code",
   "execution_count": 24,
   "id": "f6d3f919",
   "metadata": {},
   "outputs": [
    {
     "data": {
      "text/plain": [
       "((1198, 7), (1198, 1))"
      ]
     },
     "execution_count": 24,
     "metadata": {},
     "output_type": "execute_result"
    }
   ],
   "source": [
    "X_val.shape, y_val.shape"
   ]
  },
  {
   "cell_type": "code",
   "execution_count": 25,
   "id": "2b67997a",
   "metadata": {},
   "outputs": [
    {
     "data": {
      "text/plain": [
       "((1199, 7), (1199, 1))"
      ]
     },
     "execution_count": 25,
     "metadata": {},
     "output_type": "execute_result"
    }
   ],
   "source": [
    "X_test.shape, y_test.shape"
   ]
  },
  {
   "cell_type": "markdown",
   "id": "032c0f4a",
   "metadata": {},
   "source": [
    "## Encode Categorical Variables (other than drugs) & Standardize Numerical Variables"
   ]
  },
  {
   "cell_type": "code",
   "execution_count": 26,
   "id": "7b0871ae",
   "metadata": {},
   "outputs": [],
   "source": [
    "#Initialize encoders\n",
    "encoder = OneHotEncoder(drop='if_binary', handle_unknown='ignore')\n",
    "scaler = StandardScaler()"
   ]
  },
  {
   "cell_type": "code",
   "execution_count": 27,
   "id": "448d7605",
   "metadata": {},
   "outputs": [
    {
     "data": {
      "text/html": [
       "<style>#sk-container-id-1 {color: black;background-color: white;}#sk-container-id-1 pre{padding: 0;}#sk-container-id-1 div.sk-toggleable {background-color: white;}#sk-container-id-1 label.sk-toggleable__label {cursor: pointer;display: block;width: 100%;margin-bottom: 0;padding: 0.3em;box-sizing: border-box;text-align: center;}#sk-container-id-1 label.sk-toggleable__label-arrow:before {content: \"▸\";float: left;margin-right: 0.25em;color: #696969;}#sk-container-id-1 label.sk-toggleable__label-arrow:hover:before {color: black;}#sk-container-id-1 div.sk-estimator:hover label.sk-toggleable__label-arrow:before {color: black;}#sk-container-id-1 div.sk-toggleable__content {max-height: 0;max-width: 0;overflow: hidden;text-align: left;background-color: #f0f8ff;}#sk-container-id-1 div.sk-toggleable__content pre {margin: 0.2em;color: black;border-radius: 0.25em;background-color: #f0f8ff;}#sk-container-id-1 input.sk-toggleable__control:checked~div.sk-toggleable__content {max-height: 200px;max-width: 100%;overflow: auto;}#sk-container-id-1 input.sk-toggleable__control:checked~label.sk-toggleable__label-arrow:before {content: \"▾\";}#sk-container-id-1 div.sk-estimator input.sk-toggleable__control:checked~label.sk-toggleable__label {background-color: #d4ebff;}#sk-container-id-1 div.sk-label input.sk-toggleable__control:checked~label.sk-toggleable__label {background-color: #d4ebff;}#sk-container-id-1 input.sk-hidden--visually {border: 0;clip: rect(1px 1px 1px 1px);clip: rect(1px, 1px, 1px, 1px);height: 1px;margin: -1px;overflow: hidden;padding: 0;position: absolute;width: 1px;}#sk-container-id-1 div.sk-estimator {font-family: monospace;background-color: #f0f8ff;border: 1px dotted black;border-radius: 0.25em;box-sizing: border-box;margin-bottom: 0.5em;}#sk-container-id-1 div.sk-estimator:hover {background-color: #d4ebff;}#sk-container-id-1 div.sk-parallel-item::after {content: \"\";width: 100%;border-bottom: 1px solid gray;flex-grow: 1;}#sk-container-id-1 div.sk-label:hover label.sk-toggleable__label {background-color: #d4ebff;}#sk-container-id-1 div.sk-serial::before {content: \"\";position: absolute;border-left: 1px solid gray;box-sizing: border-box;top: 0;bottom: 0;left: 50%;z-index: 0;}#sk-container-id-1 div.sk-serial {display: flex;flex-direction: column;align-items: center;background-color: white;padding-right: 0.2em;padding-left: 0.2em;position: relative;}#sk-container-id-1 div.sk-item {position: relative;z-index: 1;}#sk-container-id-1 div.sk-parallel {display: flex;align-items: stretch;justify-content: center;background-color: white;position: relative;}#sk-container-id-1 div.sk-item::before, #sk-container-id-1 div.sk-parallel-item::before {content: \"\";position: absolute;border-left: 1px solid gray;box-sizing: border-box;top: 0;bottom: 0;left: 50%;z-index: -1;}#sk-container-id-1 div.sk-parallel-item {display: flex;flex-direction: column;z-index: 1;position: relative;background-color: white;}#sk-container-id-1 div.sk-parallel-item:first-child::after {align-self: flex-end;width: 50%;}#sk-container-id-1 div.sk-parallel-item:last-child::after {align-self: flex-start;width: 50%;}#sk-container-id-1 div.sk-parallel-item:only-child::after {width: 0;}#sk-container-id-1 div.sk-dashed-wrapped {border: 1px dashed gray;margin: 0 0.4em 0.5em 0.4em;box-sizing: border-box;padding-bottom: 0.4em;background-color: white;}#sk-container-id-1 div.sk-label label {font-family: monospace;font-weight: bold;display: inline-block;line-height: 1.2em;}#sk-container-id-1 div.sk-label-container {text-align: center;}#sk-container-id-1 div.sk-container {/* jupyter's `normalize.less` sets `[hidden] { display: none; }` but bootstrap.min.css set `[hidden] { display: none !important; }` so we also need the `!important` here to be able to override the default hidden behavior on the sphinx rendered scikit-learn.org. See: https://github.com/scikit-learn/scikit-learn/issues/21755 */display: inline-block !important;position: relative;}#sk-container-id-1 div.sk-text-repr-fallback {display: none;}</style><div id=\"sk-container-id-1\" class=\"sk-top-container\"><div class=\"sk-text-repr-fallback\"><pre>StandardScaler()</pre><b>In a Jupyter environment, please rerun this cell to show the HTML representation or trust the notebook. <br />On GitHub, the HTML representation is unable to render, please try loading this page with nbviewer.org.</b></div><div class=\"sk-container\" hidden><div class=\"sk-item\"><div class=\"sk-estimator sk-toggleable\"><input class=\"sk-toggleable__control sk-hidden--visually\" id=\"sk-estimator-id-1\" type=\"checkbox\" checked><label for=\"sk-estimator-id-1\" class=\"sk-toggleable__label sk-toggleable__label-arrow\">StandardScaler</label><div class=\"sk-toggleable__content\"><pre>StandardScaler()</pre></div></div></div></div></div>"
      ],
      "text/plain": [
       "StandardScaler()"
      ]
     },
     "execution_count": 27,
     "metadata": {},
     "output_type": "execute_result"
    }
   ],
   "source": [
    "# Fit the encoder on X so all possible categories are captured, even if they are only in training or testing\n",
    "encoder.fit(X_train[cats])\n",
    "scaler.fit(X_train[nums])\n"
   ]
  },
  {
   "cell_type": "code",
   "execution_count": 28,
   "id": "15889c34-7358-42e2-b30b-f92f0047ef35",
   "metadata": {},
   "outputs": [],
   "source": [
    "#Initialize encoders\n",
    "encoder = OneHotEncoder(drop='if_binary', sparse=False,handle_unknown='ignore')\n",
    "scaler = StandardScaler()\n",
    "\n",
    "# Fit the encoder on X so all possible categories are captured, even if they are only in training or testing\n",
    "encoder.fit(X[cats])\n",
    "scaler.fit(X_train[nums])\n",
    "\n",
    "\n",
    "def transform_data(data):\n",
    "    # Apply one-hot encoding to categorical features\n",
    "    encoded_features = encoder.transform(data[cats])\n",
    "    encoded_df = pd.DataFrame(encoded_features, columns=encoder.get_feature_names_out(cats))\n",
    "    \n",
    "    # Apply standardization to numerical features\n",
    "    standardized_features = scaler.transform(data[nums])\n",
    "    standardized_df = pd.DataFrame(standardized_features, columns=nums)\n",
    "    \n",
    "    # Concatenate the standardized numerical features with the encoded categorical features\n",
    "    return pd.concat([data.drop(cats + nums, axis=1).reset_index(drop=True),\n",
    "                      standardized_df.reset_index(drop=True),\n",
    "                      encoded_df.reset_index(drop=True)], axis=1)"
   ]
  },
  {
   "cell_type": "code",
   "execution_count": 29,
   "id": "0aa3671d",
   "metadata": {},
   "outputs": [
    {
     "data": {
      "text/html": [
       "<div>\n",
       "<style scoped>\n",
       "    .dataframe tbody tr th:only-of-type {\n",
       "        vertical-align: middle;\n",
       "    }\n",
       "\n",
       "    .dataframe tbody tr th {\n",
       "        vertical-align: top;\n",
       "    }\n",
       "\n",
       "    .dataframe thead th {\n",
       "        text-align: right;\n",
       "    }\n",
       "</style>\n",
       "<table border=\"1\" class=\"dataframe\">\n",
       "  <thead>\n",
       "    <tr style=\"text-align: right;\">\n",
       "      <th></th>\n",
       "      <th>weight</th>\n",
       "      <th>age</th>\n",
       "      <th>unit_price</th>\n",
       "      <th>sex_2</th>\n",
       "      <th>expedited_1</th>\n",
       "      <th>expedited_2</th>\n",
       "      <th>expedited_5</th>\n",
       "      <th>report_source_1</th>\n",
       "      <th>report_source_2</th>\n",
       "      <th>report_source_3</th>\n",
       "      <th>...</th>\n",
       "      <th>ndc9_782060152</th>\n",
       "      <th>ndc9_782060153</th>\n",
       "      <th>ndc9_782060160</th>\n",
       "      <th>ndc9_782060178</th>\n",
       "      <th>ndc9_815200100</th>\n",
       "      <th>ndc9_819680045</th>\n",
       "      <th>ndc9_820090100</th>\n",
       "      <th>ndc9_820090119</th>\n",
       "      <th>ndc9_822600602</th>\n",
       "      <th>ndc9_832570014</th>\n",
       "    </tr>\n",
       "  </thead>\n",
       "  <tbody>\n",
       "    <tr>\n",
       "      <th>0</th>\n",
       "      <td>0.566183</td>\n",
       "      <td>0.790318</td>\n",
       "      <td>-0.275588</td>\n",
       "      <td>0.0</td>\n",
       "      <td>1.0</td>\n",
       "      <td>0.0</td>\n",
       "      <td>0.0</td>\n",
       "      <td>0.0</td>\n",
       "      <td>0.0</td>\n",
       "      <td>1.0</td>\n",
       "      <td>...</td>\n",
       "      <td>0.0</td>\n",
       "      <td>0.0</td>\n",
       "      <td>0.0</td>\n",
       "      <td>0.0</td>\n",
       "      <td>0.0</td>\n",
       "      <td>0.0</td>\n",
       "      <td>0.0</td>\n",
       "      <td>0.0</td>\n",
       "      <td>0.0</td>\n",
       "      <td>0.0</td>\n",
       "    </tr>\n",
       "    <tr>\n",
       "      <th>1</th>\n",
       "      <td>-1.001231</td>\n",
       "      <td>-1.651762</td>\n",
       "      <td>-0.275969</td>\n",
       "      <td>0.0</td>\n",
       "      <td>1.0</td>\n",
       "      <td>0.0</td>\n",
       "      <td>0.0</td>\n",
       "      <td>1.0</td>\n",
       "      <td>0.0</td>\n",
       "      <td>0.0</td>\n",
       "      <td>...</td>\n",
       "      <td>0.0</td>\n",
       "      <td>0.0</td>\n",
       "      <td>0.0</td>\n",
       "      <td>0.0</td>\n",
       "      <td>0.0</td>\n",
       "      <td>0.0</td>\n",
       "      <td>0.0</td>\n",
       "      <td>0.0</td>\n",
       "      <td>0.0</td>\n",
       "      <td>0.0</td>\n",
       "    </tr>\n",
       "    <tr>\n",
       "      <th>2</th>\n",
       "      <td>-0.284699</td>\n",
       "      <td>1.338540</td>\n",
       "      <td>-0.275969</td>\n",
       "      <td>0.0</td>\n",
       "      <td>1.0</td>\n",
       "      <td>0.0</td>\n",
       "      <td>0.0</td>\n",
       "      <td>1.0</td>\n",
       "      <td>0.0</td>\n",
       "      <td>0.0</td>\n",
       "      <td>...</td>\n",
       "      <td>0.0</td>\n",
       "      <td>0.0</td>\n",
       "      <td>0.0</td>\n",
       "      <td>0.0</td>\n",
       "      <td>0.0</td>\n",
       "      <td>0.0</td>\n",
       "      <td>0.0</td>\n",
       "      <td>0.0</td>\n",
       "      <td>0.0</td>\n",
       "      <td>0.0</td>\n",
       "    </tr>\n",
       "    <tr>\n",
       "      <th>3</th>\n",
       "      <td>-0.598182</td>\n",
       "      <td>-1.302894</td>\n",
       "      <td>-0.275879</td>\n",
       "      <td>1.0</td>\n",
       "      <td>1.0</td>\n",
       "      <td>0.0</td>\n",
       "      <td>0.0</td>\n",
       "      <td>0.0</td>\n",
       "      <td>0.0</td>\n",
       "      <td>1.0</td>\n",
       "      <td>...</td>\n",
       "      <td>0.0</td>\n",
       "      <td>0.0</td>\n",
       "      <td>0.0</td>\n",
       "      <td>0.0</td>\n",
       "      <td>0.0</td>\n",
       "      <td>0.0</td>\n",
       "      <td>0.0</td>\n",
       "      <td>0.0</td>\n",
       "      <td>0.0</td>\n",
       "      <td>0.0</td>\n",
       "    </tr>\n",
       "    <tr>\n",
       "      <th>4</th>\n",
       "      <td>0.879666</td>\n",
       "      <td>-0.605157</td>\n",
       "      <td>-0.262763</td>\n",
       "      <td>1.0</td>\n",
       "      <td>1.0</td>\n",
       "      <td>0.0</td>\n",
       "      <td>0.0</td>\n",
       "      <td>0.0</td>\n",
       "      <td>0.0</td>\n",
       "      <td>1.0</td>\n",
       "      <td>...</td>\n",
       "      <td>0.0</td>\n",
       "      <td>0.0</td>\n",
       "      <td>0.0</td>\n",
       "      <td>0.0</td>\n",
       "      <td>0.0</td>\n",
       "      <td>0.0</td>\n",
       "      <td>0.0</td>\n",
       "      <td>0.0</td>\n",
       "      <td>0.0</td>\n",
       "      <td>0.0</td>\n",
       "    </tr>\n",
       "  </tbody>\n",
       "</table>\n",
       "<p>5 rows × 284 columns</p>\n",
       "</div>"
      ],
      "text/plain": [
       "     weight       age  unit_price  sex_2  expedited_1  expedited_2  \\\n",
       "0  0.566183  0.790318   -0.275588    0.0          1.0          0.0   \n",
       "1 -1.001231 -1.651762   -0.275969    0.0          1.0          0.0   \n",
       "2 -0.284699  1.338540   -0.275969    0.0          1.0          0.0   \n",
       "3 -0.598182 -1.302894   -0.275879    1.0          1.0          0.0   \n",
       "4  0.879666 -0.605157   -0.262763    1.0          1.0          0.0   \n",
       "\n",
       "   expedited_5  report_source_1  report_source_2  report_source_3  ...  \\\n",
       "0          0.0              0.0              0.0              1.0  ...   \n",
       "1          0.0              1.0              0.0              0.0  ...   \n",
       "2          0.0              1.0              0.0              0.0  ...   \n",
       "3          0.0              0.0              0.0              1.0  ...   \n",
       "4          0.0              0.0              0.0              1.0  ...   \n",
       "\n",
       "   ndc9_782060152  ndc9_782060153  ndc9_782060160  ndc9_782060178  \\\n",
       "0             0.0             0.0             0.0             0.0   \n",
       "1             0.0             0.0             0.0             0.0   \n",
       "2             0.0             0.0             0.0             0.0   \n",
       "3             0.0             0.0             0.0             0.0   \n",
       "4             0.0             0.0             0.0             0.0   \n",
       "\n",
       "   ndc9_815200100  ndc9_819680045  ndc9_820090100  ndc9_820090119  \\\n",
       "0             0.0             0.0             0.0             0.0   \n",
       "1             0.0             0.0             0.0             0.0   \n",
       "2             0.0             0.0             0.0             0.0   \n",
       "3             0.0             0.0             0.0             0.0   \n",
       "4             0.0             0.0             0.0             0.0   \n",
       "\n",
       "   ndc9_822600602  ndc9_832570014  \n",
       "0             0.0             0.0  \n",
       "1             0.0             0.0  \n",
       "2             0.0             0.0  \n",
       "3             0.0             0.0  \n",
       "4             0.0             0.0  \n",
       "\n",
       "[5 rows x 284 columns]"
      ]
     },
     "execution_count": 29,
     "metadata": {},
     "output_type": "execute_result"
    }
   ],
   "source": [
    "# Apply the transformation to all datasets\n",
    "X_train_encoded = transform_data(X_train)\n",
    "X_val_encoded = transform_data(X_val)\n",
    "X_test_encoded = transform_data(X_test)\n",
    "X_test_encoded.head()"
   ]
  },
  {
   "cell_type": "code",
   "execution_count": null,
   "id": "ec0d08e4",
   "metadata": {},
   "outputs": [],
   "source": []
  },
  {
   "cell_type": "code",
   "execution_count": null,
   "id": "382b3ffb",
   "metadata": {},
   "outputs": [],
   "source": []
  },
  {
   "cell_type": "markdown",
   "id": "3f25fbac",
   "metadata": {},
   "source": [
    "## Scale Numerical Only Since Sex already Binary (when using limited dataset, \"no_drugs_sample) (already completed in encoding function)"
   ]
  },
  {
   "cell_type": "code",
   "execution_count": 30,
   "id": "b3d79ea2",
   "metadata": {},
   "outputs": [],
   "source": [
    "# def transform_nums(data):\n",
    "#     encoded_df = pd.DataFrame(scaler.fit_transform(data[nums]),\n",
    "#                 columns = scaler.get_feature_names_out().tolist())\n",
    "#     return pd.concat([encoded_df.reset_index(drop=True), data.drop(columns=nums).reset_index(drop=True)], axis=1)\n",
    "\n",
    "# X_train_encoded = transform_nums(X_train_encoded)\n",
    "# X_train_encoded.head()\n",
    "\n",
    "# X_val_encoded = transform_nums(X_val_encoded)\n",
    "# X_val_encoded.head()\n",
    "\n",
    "# X_test_encoded = transform_nums(X_test_encoded)\n",
    "# X_test_encoded.head()"
   ]
  },
  {
   "cell_type": "code",
   "execution_count": 31,
   "id": "0b33ffad",
   "metadata": {},
   "outputs": [],
   "source": [
    "#Fit pipeline to resampled data\n",
    "#X_train_fit = all_pipe.fit_transform(X_train)\n",
    "#Get feature names out from fit and create as new list\n",
    "\n",
    "#def get_feature_names(column_transformer):\n",
    "#    feature_names = []\n",
    "#    for name, transformer, columns in column_transformer.transformers:\n",
    "#        if hasattr(transformer, 'get_feature_names_out'):\n",
    "#             feature_names.extend(transformer.get_feature_names_out())\n",
    "#         else:\n",
    "#             feature_names.extend(columns)  # Use original columns if transformer does not provide feature names\n",
    "#     return feature_names\n",
    "\n",
    "# # Extract feature names\n",
    "# feature_names = get_feature_names(all_pipe)\n",
    "\n",
    "\n",
    "# #X_train_cols = X_train_fit.get_feature_names_out().tolist()\n",
    "# X_train_pipe = pd.DataFrame(all_pipe.fit_transform(X_train), columns = X_train_cols)"
   ]
  },
  {
   "cell_type": "code",
   "execution_count": 32,
   "id": "68d1702f",
   "metadata": {},
   "outputs": [],
   "source": [
    "# #Apply pipeline to all of X\n",
    "# X_test_fit = all_pipe.fit(X_test)\n",
    "# #Get feature names out from fit and create as new list\n",
    "# # X_test_cols = X_test_fit.get_feature_names_out().tolist()\n",
    "# X_test_pipe = pd.DataFrame(all_pipe.fit_transform(X_test), columns = X_cols)"
   ]
  },
  {
   "cell_type": "code",
   "execution_count": 33,
   "id": "954529f0",
   "metadata": {},
   "outputs": [],
   "source": [
    "# #Apply pipeline to all of X\n",
    "# X_val_fit = all_pipe.fit(X_val)\n",
    "# #Get feature names out from fit and create as new list\n",
    "# X_val_cols = X_val_fit.get_feature_names_out().tolist()\n",
    "# X_val_pipe = pd.DataFrame(all_pipe.fit_transform(X_val), columns = X_cols)"
   ]
  },
  {
   "cell_type": "code",
   "execution_count": null,
   "id": "eb650195",
   "metadata": {},
   "outputs": [],
   "source": []
  },
  {
   "cell_type": "markdown",
   "id": "e207ea03",
   "metadata": {},
   "source": [
    "## Resampling Techniques - UnderSampling"
   ]
  },
  {
   "cell_type": "code",
   "execution_count": 34,
   "id": "88325de8",
   "metadata": {},
   "outputs": [
    {
     "data": {
      "text/plain": [
       "serious_outcome\n",
       "1                  6496\n",
       "2                  2857\n",
       "0                   234\n",
       "dtype: int64"
      ]
     },
     "execution_count": 34,
     "metadata": {},
     "output_type": "execute_result"
    }
   ],
   "source": [
    "y_train.value_counts()"
   ]
  },
  {
   "cell_type": "code",
   "execution_count": 35,
   "id": "0a5fdd0c",
   "metadata": {},
   "outputs": [],
   "source": [
    "# Create a RandomUnderSampler instance with a specified random seed and sampling strategy\n",
    "# Define the sampling strategy to balance all classes\n",
    "sampling_n = {0: y_train.value_counts()[0], 1: y_train.value_counts()[0], 2: y_train.value_counts()[0]}\n",
    "rus = RandomUnderSampler(random_state = 1, sampling_strategy=sampling_n )\n",
    "\n",
    "# Perform random under-sampling on the training dataset\n",
    "X_train_under, y_train_under = rus.fit_resample(X_train_encoded, y_train)"
   ]
  },
  {
   "cell_type": "code",
   "execution_count": 36,
   "id": "d8d31eb8",
   "metadata": {},
   "outputs": [
    {
     "data": {
      "text/plain": [
       "((702, 284), (702, 1))"
      ]
     },
     "execution_count": 36,
     "metadata": {},
     "output_type": "execute_result"
    }
   ],
   "source": [
    "X_train_under.shape, y_train_under.shape"
   ]
  },
  {
   "cell_type": "code",
   "execution_count": 37,
   "id": "092cc414",
   "metadata": {},
   "outputs": [
    {
     "data": {
      "text/plain": [
       "serious_outcome\n",
       "0                  234\n",
       "1                  234\n",
       "2                  234\n",
       "dtype: int64"
      ]
     },
     "execution_count": 37,
     "metadata": {},
     "output_type": "execute_result"
    }
   ],
   "source": [
    "y_train_under.value_counts()"
   ]
  },
  {
   "cell_type": "markdown",
   "id": "8f2ba158",
   "metadata": {},
   "source": [
    "# Multiclass Classification Model Training"
   ]
  },
  {
   "cell_type": "markdown",
   "id": "80942201-2e83-4092-aecd-6441a76826b7",
   "metadata": {},
   "source": [
    "#### Evalutation Metrics Function"
   ]
  },
  {
   "cell_type": "code",
   "execution_count": 38,
   "id": "ba96d5bb-1dae-4154-a065-2e19503e17ea",
   "metadata": {},
   "outputs": [],
   "source": [
    "import pandas as pd\n",
    "from sklearn.metrics import accuracy_score, precision_score, recall_score, f1_score, confusion_matrix\n",
    "import numpy as np\n",
    "import matplotlib.pyplot as plt\n",
    "import seaborn as sns\n",
    "from IPython.display import display, Image\n",
    "import os\n",
    "\n",
    "def evaluate_model(model, X_test, y_test, labels, model_name):\n",
    "\n",
    "    # Predict on the test data\n",
    "    y_pred = model.predict(X_test)\n",
    "    \n",
    "    # Calculate metrics\n",
    "    accuracy = accuracy_score(y_test, y_pred)\n",
    "    precision = precision_score(y_test, y_pred, average=None, labels=labels)\n",
    "    recall = recall_score(y_test, y_pred, average=None, labels=labels)\n",
    "    f1 = f1_score(y_test, y_pred, average=None, labels=labels)\n",
    "    \n",
    "    # Compute confusion matrix\n",
    "    cm = confusion_matrix(y_test, y_pred, labels=labels)\n",
    "    \n",
    "    # Calculate specificity for each class\n",
    "    specificity = np.array([\n",
    "        (np.sum(cm) - np.sum(cm[:, i]) - np.sum(cm[i, :]) + cm[i, i]) / (np.sum(cm) - np.sum(cm[:, i]))\n",
    "        for i in range(len(labels))\n",
    "    ])\n",
    "    \n",
    "    # Round metrics to three decimal places\n",
    "    accuracy = round(accuracy, 3)\n",
    "    precision = np.round(precision, 3)\n",
    "    recall = np.round(recall, 3)\n",
    "    f1 = np.round(f1, 3)\n",
    "    specificity = np.round(specificity, 3)\n",
    "    \n",
    "    # Prepare data for DataFrame\n",
    "    rows = []\n",
    "    for i, label in enumerate(labels):\n",
    "        rows.append({\n",
    "            'model': model_name,\n",
    "            'class': label,\n",
    "            'accuracy': accuracy,\n",
    "            'precision': precision[i],\n",
    "            'recall': recall[i],\n",
    "            'f1_score': f1[i],\n",
    "            'specificity': specificity[i]\n",
    "        })\n",
    "    \n",
    "    # Create DataFrame\n",
    "    metrics_df = pd.DataFrame(rows)\n",
    "    \n",
    "    # Create the ConfusionMatrices directory if it does not exist\n",
    "    folder_path = 'ClassificationMatrices\\withPrices'\n",
    "    if not os.path.exists(folder_path):\n",
    "        os.makedirs(folder_path)\n",
    "    \n",
    "    # Store the confusion matrix heatmap image\n",
    "    img_path = os.path.join(folder_path, f'confusion_matrix_{model_name}.png')\n",
    "    \n",
    "    # Define axis labels\n",
    "    axis_labels = ['Not Serious', 'Serious', 'Death']  # Replace with actual labels if different\n",
    "    \n",
    "    # Create the heatmap\n",
    "    plt.figure(figsize=(6, 4))\n",
    "    ax = sns.heatmap(cm, annot=True, fmt='d', cmap='Blues', \n",
    "                     xticklabels=axis_labels, yticklabels=axis_labels,\n",
    "                     annot_kws={\"size\": 11})\n",
    "    \n",
    "    # Set labels and title with larger font sizes\n",
    "    plt.xlabel('Predicted Label', fontsize=14)\n",
    "    plt.ylabel('True Label', fontsize=14)\n",
    "    plt.title(f'Classification Matrix Heatmap for {model_name}', fontsize=16)\n",
    "    \n",
    "    # Adjust the size of the tick labels\n",
    "    ax.set_xticklabels(ax.get_xticklabels(), fontsize=12)  # Adjust x-tick labels font size\n",
    "    ax.set_yticklabels(ax.get_yticklabels(), fontsize=12)  # Adjust y-tick labels font size\n",
    "    \n",
    "    plt.tight_layout()\n",
    "    \n",
    "    # Save the plot to an image file\n",
    "    plt.savefig(img_path)\n",
    "    plt.close()  # Close the plot to free up memory\n",
    "    \n",
    "    return metrics_df, img_path, y_pred\n"
   ]
  },
  {
   "cell_type": "markdown",
   "id": "82ed355f",
   "metadata": {},
   "source": [
    "## White Box Models"
   ]
  },
  {
   "cell_type": "markdown",
   "id": "8aec591d-8f63-4b01-8e85-9cec598ee4a0",
   "metadata": {},
   "source": [
    "### Logistic Regression L1 Regularization"
   ]
  },
  {
   "cell_type": "markdown",
   "id": "5dda710f-64b9-43d2-a16c-2d1c490490d8",
   "metadata": {},
   "source": [
    "#### Generate and Fit Model on Training Data"
   ]
  },
  {
   "cell_type": "code",
   "execution_count": 39,
   "id": "272ae8e1-702a-462a-917f-c9267fc899c1",
   "metadata": {},
   "outputs": [
    {
     "data": {
      "text/html": [
       "<style>#sk-container-id-2 {color: black;background-color: white;}#sk-container-id-2 pre{padding: 0;}#sk-container-id-2 div.sk-toggleable {background-color: white;}#sk-container-id-2 label.sk-toggleable__label {cursor: pointer;display: block;width: 100%;margin-bottom: 0;padding: 0.3em;box-sizing: border-box;text-align: center;}#sk-container-id-2 label.sk-toggleable__label-arrow:before {content: \"▸\";float: left;margin-right: 0.25em;color: #696969;}#sk-container-id-2 label.sk-toggleable__label-arrow:hover:before {color: black;}#sk-container-id-2 div.sk-estimator:hover label.sk-toggleable__label-arrow:before {color: black;}#sk-container-id-2 div.sk-toggleable__content {max-height: 0;max-width: 0;overflow: hidden;text-align: left;background-color: #f0f8ff;}#sk-container-id-2 div.sk-toggleable__content pre {margin: 0.2em;color: black;border-radius: 0.25em;background-color: #f0f8ff;}#sk-container-id-2 input.sk-toggleable__control:checked~div.sk-toggleable__content {max-height: 200px;max-width: 100%;overflow: auto;}#sk-container-id-2 input.sk-toggleable__control:checked~label.sk-toggleable__label-arrow:before {content: \"▾\";}#sk-container-id-2 div.sk-estimator input.sk-toggleable__control:checked~label.sk-toggleable__label {background-color: #d4ebff;}#sk-container-id-2 div.sk-label input.sk-toggleable__control:checked~label.sk-toggleable__label {background-color: #d4ebff;}#sk-container-id-2 input.sk-hidden--visually {border: 0;clip: rect(1px 1px 1px 1px);clip: rect(1px, 1px, 1px, 1px);height: 1px;margin: -1px;overflow: hidden;padding: 0;position: absolute;width: 1px;}#sk-container-id-2 div.sk-estimator {font-family: monospace;background-color: #f0f8ff;border: 1px dotted black;border-radius: 0.25em;box-sizing: border-box;margin-bottom: 0.5em;}#sk-container-id-2 div.sk-estimator:hover {background-color: #d4ebff;}#sk-container-id-2 div.sk-parallel-item::after {content: \"\";width: 100%;border-bottom: 1px solid gray;flex-grow: 1;}#sk-container-id-2 div.sk-label:hover label.sk-toggleable__label {background-color: #d4ebff;}#sk-container-id-2 div.sk-serial::before {content: \"\";position: absolute;border-left: 1px solid gray;box-sizing: border-box;top: 0;bottom: 0;left: 50%;z-index: 0;}#sk-container-id-2 div.sk-serial {display: flex;flex-direction: column;align-items: center;background-color: white;padding-right: 0.2em;padding-left: 0.2em;position: relative;}#sk-container-id-2 div.sk-item {position: relative;z-index: 1;}#sk-container-id-2 div.sk-parallel {display: flex;align-items: stretch;justify-content: center;background-color: white;position: relative;}#sk-container-id-2 div.sk-item::before, #sk-container-id-2 div.sk-parallel-item::before {content: \"\";position: absolute;border-left: 1px solid gray;box-sizing: border-box;top: 0;bottom: 0;left: 50%;z-index: -1;}#sk-container-id-2 div.sk-parallel-item {display: flex;flex-direction: column;z-index: 1;position: relative;background-color: white;}#sk-container-id-2 div.sk-parallel-item:first-child::after {align-self: flex-end;width: 50%;}#sk-container-id-2 div.sk-parallel-item:last-child::after {align-self: flex-start;width: 50%;}#sk-container-id-2 div.sk-parallel-item:only-child::after {width: 0;}#sk-container-id-2 div.sk-dashed-wrapped {border: 1px dashed gray;margin: 0 0.4em 0.5em 0.4em;box-sizing: border-box;padding-bottom: 0.4em;background-color: white;}#sk-container-id-2 div.sk-label label {font-family: monospace;font-weight: bold;display: inline-block;line-height: 1.2em;}#sk-container-id-2 div.sk-label-container {text-align: center;}#sk-container-id-2 div.sk-container {/* jupyter's `normalize.less` sets `[hidden] { display: none; }` but bootstrap.min.css set `[hidden] { display: none !important; }` so we also need the `!important` here to be able to override the default hidden behavior on the sphinx rendered scikit-learn.org. See: https://github.com/scikit-learn/scikit-learn/issues/21755 */display: inline-block !important;position: relative;}#sk-container-id-2 div.sk-text-repr-fallback {display: none;}</style><div id=\"sk-container-id-2\" class=\"sk-top-container\"><div class=\"sk-text-repr-fallback\"><pre>LogisticRegression(penalty=&#x27;l1&#x27;, random_state=1, solver=&#x27;saga&#x27;)</pre><b>In a Jupyter environment, please rerun this cell to show the HTML representation or trust the notebook. <br />On GitHub, the HTML representation is unable to render, please try loading this page with nbviewer.org.</b></div><div class=\"sk-container\" hidden><div class=\"sk-item\"><div class=\"sk-estimator sk-toggleable\"><input class=\"sk-toggleable__control sk-hidden--visually\" id=\"sk-estimator-id-2\" type=\"checkbox\" checked><label for=\"sk-estimator-id-2\" class=\"sk-toggleable__label sk-toggleable__label-arrow\">LogisticRegression</label><div class=\"sk-toggleable__content\"><pre>LogisticRegression(penalty=&#x27;l1&#x27;, random_state=1, solver=&#x27;saga&#x27;)</pre></div></div></div></div></div>"
      ],
      "text/plain": [
       "LogisticRegression(penalty='l1', random_state=1, solver='saga')"
      ]
     },
     "execution_count": 39,
     "metadata": {},
     "output_type": "execute_result"
    }
   ],
   "source": [
    "log_l1 = LogisticRegression(solver='saga', penalty='l1', random_state=1)\n",
    "log_l1.fit(X_train_under, y_train_under)"
   ]
  },
  {
   "cell_type": "markdown",
   "id": "1406ae5b-90f1-4a5e-a20e-ccc088b2c4b3",
   "metadata": {},
   "source": [
    "#### Fit Model on Testing Data, Model Performance Metrics"
   ]
  },
  {
   "cell_type": "code",
   "execution_count": 40,
   "id": "1f1c4c6e-0eba-4e19-992c-ce703d4ea647",
   "metadata": {},
   "outputs": [
    {
     "data": {
      "text/html": [
       "<div>\n",
       "<style scoped>\n",
       "    .dataframe tbody tr th:only-of-type {\n",
       "        vertical-align: middle;\n",
       "    }\n",
       "\n",
       "    .dataframe tbody tr th {\n",
       "        vertical-align: top;\n",
       "    }\n",
       "\n",
       "    .dataframe thead th {\n",
       "        text-align: right;\n",
       "    }\n",
       "</style>\n",
       "<table border=\"1\" class=\"dataframe\">\n",
       "  <thead>\n",
       "    <tr style=\"text-align: right;\">\n",
       "      <th></th>\n",
       "      <th>model</th>\n",
       "      <th>class</th>\n",
       "      <th>accuracy</th>\n",
       "      <th>precision</th>\n",
       "      <th>recall</th>\n",
       "      <th>f1_score</th>\n",
       "      <th>specificity</th>\n",
       "    </tr>\n",
       "  </thead>\n",
       "  <tbody>\n",
       "    <tr>\n",
       "      <th>0</th>\n",
       "      <td>log_l1</td>\n",
       "      <td>0</td>\n",
       "      <td>0.704</td>\n",
       "      <td>0.400</td>\n",
       "      <td>0.889</td>\n",
       "      <td>0.552</td>\n",
       "      <td>0.996</td>\n",
       "    </tr>\n",
       "    <tr>\n",
       "      <th>1</th>\n",
       "      <td>log_l1</td>\n",
       "      <td>1</td>\n",
       "      <td>0.704</td>\n",
       "      <td>0.852</td>\n",
       "      <td>0.703</td>\n",
       "      <td>0.771</td>\n",
       "      <td>0.522</td>\n",
       "    </tr>\n",
       "    <tr>\n",
       "      <th>2</th>\n",
       "      <td>log_l1</td>\n",
       "      <td>2</td>\n",
       "      <td>0.704</td>\n",
       "      <td>0.526</td>\n",
       "      <td>0.686</td>\n",
       "      <td>0.596</td>\n",
       "      <td>0.863</td>\n",
       "    </tr>\n",
       "  </tbody>\n",
       "</table>\n",
       "</div>"
      ],
      "text/plain": [
       "    model  class  accuracy  precision  recall  f1_score  specificity\n",
       "0  log_l1      0     0.704      0.400   0.889     0.552        0.996\n",
       "1  log_l1      1     0.704      0.852   0.703     0.771        0.522\n",
       "2  log_l1      2     0.704      0.526   0.686     0.596        0.863"
      ]
     },
     "execution_count": 40,
     "metadata": {},
     "output_type": "execute_result"
    }
   ],
   "source": [
    "model_name = 'log_l1'\n",
    "\n",
    "# Run model on test data, generate confusion matrix, save y_pred\n",
    "log_l1_metrics_df, log_l1_img_path, log_l1_y_pred = evaluate_model(log_l1, X_test_encoded, y_test, labels=[0, 1, 2], model_name=model_name)\n",
    "\n",
    "log_l1_metrics_df.head()"
   ]
  },
  {
   "cell_type": "markdown",
   "id": "3bce58ce-a8d0-480d-a8ce-fc84bbfef678",
   "metadata": {},
   "source": [
    "#### Get Probabilities for AUC curve"
   ]
  },
  {
   "cell_type": "code",
   "execution_count": 41,
   "id": "534684ae-ed4c-42f0-8968-d1e65e07bfbb",
   "metadata": {},
   "outputs": [],
   "source": [
    "log_l1_y_pred_proba = log_l1.predict_proba(X_test_encoded)  # This should be a 2D array"
   ]
  },
  {
   "cell_type": "markdown",
   "id": "5d0ec1e5-8208-4b54-a3ee-2b435e5a343c",
   "metadata": {},
   "source": [
    "#### View Classification Matrix"
   ]
  },
  {
   "cell_type": "code",
   "execution_count": 42,
   "id": "686d7856-3406-4058-957b-778b4b838b02",
   "metadata": {},
   "outputs": [
    {
     "data": {
      "image/png": "[encoded data removed]",
      "text/plain": [
       "<IPython.core.display.Image object>"
      ]
     },
     "metadata": {},
     "output_type": "display_data"
    }
   ],
   "source": [
    "display(Image(filename=log_l1_img_path))"
   ]
  },
  {
   "cell_type": "markdown",
   "id": "91d2a437-a24a-48dc-a73d-8608a7dfcaa2",
   "metadata": {},
   "source": [
    "#### Other Model Metrics - Model Coefficient Odds for Each Outcome"
   ]
  },
  {
   "cell_type": "code",
   "execution_count": 43,
   "id": "8803268a",
   "metadata": {},
   "outputs": [],
   "source": [
    "def get_model_coefficients_and_odds(data, model_name, top_n=5):\n",
    "    outcomes = ['Non-Serious', 'Serious', 'Death']\n",
    "    result = {}\n",
    "\n",
    "    for i, outcome in enumerate(outcomes):\n",
    "        # Intercept\n",
    "        intercept_data = {'Feature': ['Intercept'], 'LogOdds': [model_name.intercept_[i]]}\n",
    "        intercept_df = pd.DataFrame(intercept_data)\n",
    "        intercept_df['Odds'] = np.exp(intercept_df['LogOdds'])\n",
    "\n",
    "        # Coefficients\n",
    "        coef_data = {'Feature': data.columns, 'LogOdds': model_name.coef_[i]}\n",
    "        coef_df = pd.DataFrame(coef_data)\n",
    "        coef_df = coef_df.reindex(coef_df['LogOdds'].abs().sort_values(ascending=False).index)\n",
    "        coef_df['Odds'] = np.exp(coef_df['LogOdds'])\n",
    "\n",
    "        # Combine intercept and coefficients\n",
    "        df = pd.concat([intercept_df, coef_df])\n",
    "        \n",
    "        result[outcome] = df.head(top_n + 1)\n",
    "\n",
    "    return result"
   ]
  },
  {
   "cell_type": "code",
   "execution_count": 44,
   "id": "45fd6874",
   "metadata": {},
   "outputs": [
    {
     "name": "stdout",
     "output_type": "stream",
     "text": [
      "Top features for Non-Serious:\n",
      "            Feature   LogOdds        Odds\n",
      "0         Intercept  1.406764    4.082722\n",
      "216  ndc9_684620226  5.023277  151.908328\n",
      "4       expedited_1 -3.813202    0.022077\n",
      "254  ndc9_724260118  3.755762   42.766812\n",
      "173  ndc9_649800449  3.630034   37.714116\n",
      "190  ndc9_658620927  2.955216   19.205873\n",
      "Top features for Serious:\n",
      "            Feature   LogOdds      Odds\n",
      "0         Intercept -0.664528  0.514516\n",
      "144  ndc9_621350442 -1.167194  0.311239\n",
      "192  ndc9_663020467 -1.011973  0.363501\n",
      "4       expedited_1  0.866314  2.378129\n",
      "143  ndc9_621350439  0.718573  2.051504\n",
      "151  ndc9_621350818  0.619414  1.857839\n",
      "Top features for Death:\n",
      "            Feature   LogOdds      Odds\n",
      "0         Intercept -0.742236  0.476049\n",
      "272  ndc9_782060135  1.705435  5.503779\n",
      "62   ndc9_461220166  1.696950  5.457276\n",
      "216  ndc9_684620226 -1.566348  0.208806\n",
      "84   ndc9_507420279  1.164104  3.203051\n",
      "152  ndc9_623320487  1.068099  2.909843\n"
     ]
    }
   ],
   "source": [
    "coefficients_and_odds = get_model_coefficients_and_odds(X_train_under, log_l1)\n",
    "for outcome, df in coefficients_and_odds.items():\n",
    "     print(f\"Top features for {outcome}:\")\n",
    "     print(df)"
   ]
  },
  {
   "cell_type": "markdown",
   "id": "ca165463-02fb-4ea6-a213-2cca1db37508",
   "metadata": {},
   "source": [
    "### Logistic Regression L2 Regularization"
   ]
  },
  {
   "cell_type": "markdown",
   "id": "2a199c79-614e-44e0-a68c-2f340641e60f",
   "metadata": {},
   "source": [
    "#### Generate and Fit Model on Training Data"
   ]
  },
  {
   "cell_type": "code",
   "execution_count": 45,
   "id": "5878cf4e-6867-4944-bfab-fdcca9725168",
   "metadata": {
    "scrolled": true
   },
   "outputs": [
    {
     "data": {
      "text/html": [
       "<style>#sk-container-id-3 {color: black;background-color: white;}#sk-container-id-3 pre{padding: 0;}#sk-container-id-3 div.sk-toggleable {background-color: white;}#sk-container-id-3 label.sk-toggleable__label {cursor: pointer;display: block;width: 100%;margin-bottom: 0;padding: 0.3em;box-sizing: border-box;text-align: center;}#sk-container-id-3 label.sk-toggleable__label-arrow:before {content: \"▸\";float: left;margin-right: 0.25em;color: #696969;}#sk-container-id-3 label.sk-toggleable__label-arrow:hover:before {color: black;}#sk-container-id-3 div.sk-estimator:hover label.sk-toggleable__label-arrow:before {color: black;}#sk-container-id-3 div.sk-toggleable__content {max-height: 0;max-width: 0;overflow: hidden;text-align: left;background-color: #f0f8ff;}#sk-container-id-3 div.sk-toggleable__content pre {margin: 0.2em;color: black;border-radius: 0.25em;background-color: #f0f8ff;}#sk-container-id-3 input.sk-toggleable__control:checked~div.sk-toggleable__content {max-height: 200px;max-width: 100%;overflow: auto;}#sk-container-id-3 input.sk-toggleable__control:checked~label.sk-toggleable__label-arrow:before {content: \"▾\";}#sk-container-id-3 div.sk-estimator input.sk-toggleable__control:checked~label.sk-toggleable__label {background-color: #d4ebff;}#sk-container-id-3 div.sk-label input.sk-toggleable__control:checked~label.sk-toggleable__label {background-color: #d4ebff;}#sk-container-id-3 input.sk-hidden--visually {border: 0;clip: rect(1px 1px 1px 1px);clip: rect(1px, 1px, 1px, 1px);height: 1px;margin: -1px;overflow: hidden;padding: 0;position: absolute;width: 1px;}#sk-container-id-3 div.sk-estimator {font-family: monospace;background-color: #f0f8ff;border: 1px dotted black;border-radius: 0.25em;box-sizing: border-box;margin-bottom: 0.5em;}#sk-container-id-3 div.sk-estimator:hover {background-color: #d4ebff;}#sk-container-id-3 div.sk-parallel-item::after {content: \"\";width: 100%;border-bottom: 1px solid gray;flex-grow: 1;}#sk-container-id-3 div.sk-label:hover label.sk-toggleable__label {background-color: #d4ebff;}#sk-container-id-3 div.sk-serial::before {content: \"\";position: absolute;border-left: 1px solid gray;box-sizing: border-box;top: 0;bottom: 0;left: 50%;z-index: 0;}#sk-container-id-3 div.sk-serial {display: flex;flex-direction: column;align-items: center;background-color: white;padding-right: 0.2em;padding-left: 0.2em;position: relative;}#sk-container-id-3 div.sk-item {position: relative;z-index: 1;}#sk-container-id-3 div.sk-parallel {display: flex;align-items: stretch;justify-content: center;background-color: white;position: relative;}#sk-container-id-3 div.sk-item::before, #sk-container-id-3 div.sk-parallel-item::before {content: \"\";position: absolute;border-left: 1px solid gray;box-sizing: border-box;top: 0;bottom: 0;left: 50%;z-index: -1;}#sk-container-id-3 div.sk-parallel-item {display: flex;flex-direction: column;z-index: 1;position: relative;background-color: white;}#sk-container-id-3 div.sk-parallel-item:first-child::after {align-self: flex-end;width: 50%;}#sk-container-id-3 div.sk-parallel-item:last-child::after {align-self: flex-start;width: 50%;}#sk-container-id-3 div.sk-parallel-item:only-child::after {width: 0;}#sk-container-id-3 div.sk-dashed-wrapped {border: 1px dashed gray;margin: 0 0.4em 0.5em 0.4em;box-sizing: border-box;padding-bottom: 0.4em;background-color: white;}#sk-container-id-3 div.sk-label label {font-family: monospace;font-weight: bold;display: inline-block;line-height: 1.2em;}#sk-container-id-3 div.sk-label-container {text-align: center;}#sk-container-id-3 div.sk-container {/* jupyter's `normalize.less` sets `[hidden] { display: none; }` but bootstrap.min.css set `[hidden] { display: none !important; }` so we also need the `!important` here to be able to override the default hidden behavior on the sphinx rendered scikit-learn.org. See: https://github.com/scikit-learn/scikit-learn/issues/21755 */display: inline-block !important;position: relative;}#sk-container-id-3 div.sk-text-repr-fallback {display: none;}</style><div id=\"sk-container-id-3\" class=\"sk-top-container\"><div class=\"sk-text-repr-fallback\"><pre>LogisticRegression(random_state=1, solver=&#x27;saga&#x27;)</pre><b>In a Jupyter environment, please rerun this cell to show the HTML representation or trust the notebook. <br />On GitHub, the HTML representation is unable to render, please try loading this page with nbviewer.org.</b></div><div class=\"sk-container\" hidden><div class=\"sk-item\"><div class=\"sk-estimator sk-toggleable\"><input class=\"sk-toggleable__control sk-hidden--visually\" id=\"sk-estimator-id-3\" type=\"checkbox\" checked><label for=\"sk-estimator-id-3\" class=\"sk-toggleable__label sk-toggleable__label-arrow\">LogisticRegression</label><div class=\"sk-toggleable__content\"><pre>LogisticRegression(random_state=1, solver=&#x27;saga&#x27;)</pre></div></div></div></div></div>"
      ],
      "text/plain": [
       "LogisticRegression(random_state=1, solver='saga')"
      ]
     },
     "execution_count": 45,
     "metadata": {},
     "output_type": "execute_result"
    }
   ],
   "source": [
    "log_l2 = LogisticRegression(solver='saga', penalty='l2', random_state=1)\n",
    "log_l2.fit(X_train_under, y_train_under)"
   ]
  },
  {
   "cell_type": "markdown",
   "id": "4bd2f251-ab7b-4825-a4db-abe2dd8b5d73",
   "metadata": {},
   "source": [
    "#### Fit Model on Testing Data, Model Performance Metrics"
   ]
  },
  {
   "cell_type": "code",
   "execution_count": 46,
   "id": "51b78f0c-ac63-4454-9b13-238f9b353f40",
   "metadata": {},
   "outputs": [
    {
     "data": {
      "text/html": [
       "<div>\n",
       "<style scoped>\n",
       "    .dataframe tbody tr th:only-of-type {\n",
       "        vertical-align: middle;\n",
       "    }\n",
       "\n",
       "    .dataframe tbody tr th {\n",
       "        vertical-align: top;\n",
       "    }\n",
       "\n",
       "    .dataframe thead th {\n",
       "        text-align: right;\n",
       "    }\n",
       "</style>\n",
       "<table border=\"1\" class=\"dataframe\">\n",
       "  <thead>\n",
       "    <tr style=\"text-align: right;\">\n",
       "      <th></th>\n",
       "      <th>model</th>\n",
       "      <th>class</th>\n",
       "      <th>accuracy</th>\n",
       "      <th>precision</th>\n",
       "      <th>recall</th>\n",
       "      <th>f1_score</th>\n",
       "      <th>specificity</th>\n",
       "    </tr>\n",
       "  </thead>\n",
       "  <tbody>\n",
       "    <tr>\n",
       "      <th>0</th>\n",
       "      <td>log_l2</td>\n",
       "      <td>0</td>\n",
       "      <td>0.694</td>\n",
       "      <td>0.390</td>\n",
       "      <td>0.889</td>\n",
       "      <td>0.542</td>\n",
       "      <td>0.996</td>\n",
       "    </tr>\n",
       "    <tr>\n",
       "      <th>1</th>\n",
       "      <td>log_l2</td>\n",
       "      <td>1</td>\n",
       "      <td>0.694</td>\n",
       "      <td>0.859</td>\n",
       "      <td>0.678</td>\n",
       "      <td>0.758</td>\n",
       "      <td>0.510</td>\n",
       "    </tr>\n",
       "    <tr>\n",
       "      <th>2</th>\n",
       "      <td>log_l2</td>\n",
       "      <td>2</td>\n",
       "      <td>0.694</td>\n",
       "      <td>0.514</td>\n",
       "      <td>0.713</td>\n",
       "      <td>0.597</td>\n",
       "      <td>0.870</td>\n",
       "    </tr>\n",
       "  </tbody>\n",
       "</table>\n",
       "</div>"
      ],
      "text/plain": [
       "    model  class  accuracy  precision  recall  f1_score  specificity\n",
       "0  log_l2      0     0.694      0.390   0.889     0.542        0.996\n",
       "1  log_l2      1     0.694      0.859   0.678     0.758        0.510\n",
       "2  log_l2      2     0.694      0.514   0.713     0.597        0.870"
      ]
     },
     "execution_count": 46,
     "metadata": {},
     "output_type": "execute_result"
    }
   ],
   "source": [
    "model_name = 'log_l2'\n",
    "\n",
    "# Run model on test data, generate confusion matrix, save y_pred\n",
    "log_l2_metrics_df, log_l2_img_path, log_l2_y_pred = evaluate_model(log_l2, X_test_encoded, y_test, labels=[0, 1, 2], model_name=model_name)\n",
    "\n",
    "log_l2_metrics_df.head()"
   ]
  },
  {
   "cell_type": "markdown",
   "id": "bc680c30-4604-4311-9a2d-c25e65c9a731",
   "metadata": {},
   "source": [
    "#### Get Probabilities for AUC Curve"
   ]
  },
  {
   "cell_type": "code",
   "execution_count": 47,
   "id": "3dca80fd-280b-4e4e-817a-9c186549eaf8",
   "metadata": {},
   "outputs": [],
   "source": [
    "log_l2_y_pred_proba = log_l2.predict_proba(X_test_encoded)  # This should be a 2D array"
   ]
  },
  {
   "cell_type": "markdown",
   "id": "f6383b7e-346f-4fcd-8dfe-1f6c87ab1499",
   "metadata": {},
   "source": [
    "#### View Classification Matrix"
   ]
  },
  {
   "cell_type": "code",
   "execution_count": 48,
   "id": "7544c5a9-e2a8-4fa0-95d6-e41620490a06",
   "metadata": {
    "scrolled": true
   },
   "outputs": [
    {
     "data": {
      "image/png": "[encoded data removed]",
      "text/plain": [
       "<IPython.core.display.Image object>"
      ]
     },
     "metadata": {},
     "output_type": "display_data"
    }
   ],
   "source": [
    "display(Image(filename=log_l2_img_path))"
   ]
  },
  {
   "cell_type": "markdown",
   "id": "a3ba8ed5-0e39-4bba-8e58-9b171a1a4726",
   "metadata": {},
   "source": [
    "#### Other Metrics - Model Coefficient Odds for Each Outcome"
   ]
  },
  {
   "cell_type": "code",
   "execution_count": 49,
   "id": "38ff52aa",
   "metadata": {},
   "outputs": [
    {
     "name": "stdout",
     "output_type": "stream",
     "text": [
      "Top features for Non-Serious:\n",
      "            Feature   LogOdds       Odds\n",
      "0         Intercept  1.042057   2.835042\n",
      "216  ndc9_684620226  3.225133  25.156929\n",
      "254  ndc9_724260118  2.102931   8.190141\n",
      "4       expedited_1 -2.037655   0.130334\n",
      "173  ndc9_649800449  1.946302   7.002742\n",
      "144  ndc9_621350442  1.708800   5.522329\n",
      "Top features for Serious:\n",
      "            Feature   LogOdds      Odds\n",
      "0         Intercept -0.253278  0.776252\n",
      "216  ndc9_684620226 -1.365730  0.255194\n",
      "144  ndc9_621350442 -1.364409  0.255532\n",
      "4       expedited_1  1.290349  3.634055\n",
      "254  ndc9_724260118 -1.036797  0.354588\n",
      "192  ndc9_663020467 -0.984144  0.373759\n",
      "Top features for Death:\n",
      "            Feature   LogOdds      Odds\n",
      "0         Intercept -0.788779  0.454399\n",
      "216  ndc9_684620226 -1.859403  0.155766\n",
      "62   ndc9_461220166  1.234250  3.435800\n",
      "272  ndc9_782060135  1.172536  3.230173\n",
      "254  ndc9_724260118 -1.066134  0.344337\n",
      "173  ndc9_649800449 -0.981787  0.374641\n"
     ]
    }
   ],
   "source": [
    "coefficients_and_odds = get_model_coefficients_and_odds(X_train_under, log_l2)\n",
    "for outcome, df in coefficients_and_odds.items():\n",
    "     print(f\"Top features for {outcome}:\")\n",
    "     print(df)"
   ]
  },
  {
   "cell_type": "markdown",
   "id": "1b8ecbaa-f992-4535-a36f-0153dfe8a5a2",
   "metadata": {},
   "source": [
    "### Logistic Regression Elastic Net"
   ]
  },
  {
   "cell_type": "markdown",
   "id": "2ef8d638-0d02-4efa-9957-be532156b7fd",
   "metadata": {},
   "source": [
    "#### Grid Search"
   ]
  },
  {
   "cell_type": "code",
   "execution_count": 50,
   "id": "ea6be28f-15d8-481d-9709-6beb6270da04",
   "metadata": {},
   "outputs": [
    {
     "name": "stdout",
     "output_type": "stream",
     "text": [
      "Best parameters: {'C': 1, 'l1_ratio': 0.1111111111111111}\n",
      "Best cross-validation score: 0.761\n"
     ]
    }
   ],
   "source": [
    "param_grid = {\n",
    "    'l1_ratio': [i / 9 for i in range(10)],  # 10 values from 0 to 1 (0, 0.1, 0.2, ..., 1.0)\n",
    "    'C': [0.01, 0.1, 1, 10, 100]  # Different strengths of regularization\n",
    "}\n",
    "\n",
    "# Initialize the Logistic Regression model with Elastic Net penalty\n",
    "log_reg_elasticnet = LogisticRegression(\n",
    "    penalty='elasticnet',  # Use Elastic Net regularization\n",
    "    solver='saga',        # Solver that supports Elastic Net\n",
    "    random_state=1\n",
    ")\n",
    "\n",
    "# Initialize GridSearchCV\n",
    "grid_search = GridSearchCV(\n",
    "    estimator=log_reg_elasticnet,\n",
    "    param_grid=param_grid,\n",
    "    scoring='accuracy',   # Or another metric of choice\n",
    "    cv=5,                 # Number of cross-validation folds\n",
    "    n_jobs=-1              # Use all available CPUs\n",
    ")\n",
    "\n",
    "# Fit GridSearchCV to the training data\n",
    "grid_search.fit(X_train_under, y_train_under.values.ravel())\n",
    "\n",
    "# Extract and print the best parameters and best score from grid search\n",
    "best_params = grid_search.best_params_\n",
    "print(f\"Best parameters: {best_params}\")\n",
    "\n",
    "best_score = grid_search.best_score_\n",
    "print(f\"Best cross-validation score: {best_score:.3f}\")\n",
    "\n",
    "# Get the best model\n",
    "elastic_net = grid_search.best_estimator_\n"
   ]
  },
  {
   "cell_type": "markdown",
   "id": "58e29ee4-e754-40de-99a9-33ceff795a88",
   "metadata": {},
   "source": [
    "#### Generate and Fit Model on Training Data"
   ]
  },
  {
   "cell_type": "code",
   "execution_count": 51,
   "id": "4a006407-bead-41f6-ab57-ea0d65b080ad",
   "metadata": {
    "scrolled": true
   },
   "outputs": [
    {
     "data": {
      "text/html": [
       "<style>#sk-container-id-4 {color: black;background-color: white;}#sk-container-id-4 pre{padding: 0;}#sk-container-id-4 div.sk-toggleable {background-color: white;}#sk-container-id-4 label.sk-toggleable__label {cursor: pointer;display: block;width: 100%;margin-bottom: 0;padding: 0.3em;box-sizing: border-box;text-align: center;}#sk-container-id-4 label.sk-toggleable__label-arrow:before {content: \"▸\";float: left;margin-right: 0.25em;color: #696969;}#sk-container-id-4 label.sk-toggleable__label-arrow:hover:before {color: black;}#sk-container-id-4 div.sk-estimator:hover label.sk-toggleable__label-arrow:before {color: black;}#sk-container-id-4 div.sk-toggleable__content {max-height: 0;max-width: 0;overflow: hidden;text-align: left;background-color: #f0f8ff;}#sk-container-id-4 div.sk-toggleable__content pre {margin: 0.2em;color: black;border-radius: 0.25em;background-color: #f0f8ff;}#sk-container-id-4 input.sk-toggleable__control:checked~div.sk-toggleable__content {max-height: 200px;max-width: 100%;overflow: auto;}#sk-container-id-4 input.sk-toggleable__control:checked~label.sk-toggleable__label-arrow:before {content: \"▾\";}#sk-container-id-4 div.sk-estimator input.sk-toggleable__control:checked~label.sk-toggleable__label {background-color: #d4ebff;}#sk-container-id-4 div.sk-label input.sk-toggleable__control:checked~label.sk-toggleable__label {background-color: #d4ebff;}#sk-container-id-4 input.sk-hidden--visually {border: 0;clip: rect(1px 1px 1px 1px);clip: rect(1px, 1px, 1px, 1px);height: 1px;margin: -1px;overflow: hidden;padding: 0;position: absolute;width: 1px;}#sk-container-id-4 div.sk-estimator {font-family: monospace;background-color: #f0f8ff;border: 1px dotted black;border-radius: 0.25em;box-sizing: border-box;margin-bottom: 0.5em;}#sk-container-id-4 div.sk-estimator:hover {background-color: #d4ebff;}#sk-container-id-4 div.sk-parallel-item::after {content: \"\";width: 100%;border-bottom: 1px solid gray;flex-grow: 1;}#sk-container-id-4 div.sk-label:hover label.sk-toggleable__label {background-color: #d4ebff;}#sk-container-id-4 div.sk-serial::before {content: \"\";position: absolute;border-left: 1px solid gray;box-sizing: border-box;top: 0;bottom: 0;left: 50%;z-index: 0;}#sk-container-id-4 div.sk-serial {display: flex;flex-direction: column;align-items: center;background-color: white;padding-right: 0.2em;padding-left: 0.2em;position: relative;}#sk-container-id-4 div.sk-item {position: relative;z-index: 1;}#sk-container-id-4 div.sk-parallel {display: flex;align-items: stretch;justify-content: center;background-color: white;position: relative;}#sk-container-id-4 div.sk-item::before, #sk-container-id-4 div.sk-parallel-item::before {content: \"\";position: absolute;border-left: 1px solid gray;box-sizing: border-box;top: 0;bottom: 0;left: 50%;z-index: -1;}#sk-container-id-4 div.sk-parallel-item {display: flex;flex-direction: column;z-index: 1;position: relative;background-color: white;}#sk-container-id-4 div.sk-parallel-item:first-child::after {align-self: flex-end;width: 50%;}#sk-container-id-4 div.sk-parallel-item:last-child::after {align-self: flex-start;width: 50%;}#sk-container-id-4 div.sk-parallel-item:only-child::after {width: 0;}#sk-container-id-4 div.sk-dashed-wrapped {border: 1px dashed gray;margin: 0 0.4em 0.5em 0.4em;box-sizing: border-box;padding-bottom: 0.4em;background-color: white;}#sk-container-id-4 div.sk-label label {font-family: monospace;font-weight: bold;display: inline-block;line-height: 1.2em;}#sk-container-id-4 div.sk-label-container {text-align: center;}#sk-container-id-4 div.sk-container {/* jupyter's `normalize.less` sets `[hidden] { display: none; }` but bootstrap.min.css set `[hidden] { display: none !important; }` so we also need the `!important` here to be able to override the default hidden behavior on the sphinx rendered scikit-learn.org. See: https://github.com/scikit-learn/scikit-learn/issues/21755 */display: inline-block !important;position: relative;}#sk-container-id-4 div.sk-text-repr-fallback {display: none;}</style><div id=\"sk-container-id-4\" class=\"sk-top-container\"><div class=\"sk-text-repr-fallback\"><pre>LogisticRegression(C=1, l1_ratio=0.1111111111111111, penalty=&#x27;elasticnet&#x27;,\n",
       "                   random_state=1, solver=&#x27;saga&#x27;)</pre><b>In a Jupyter environment, please rerun this cell to show the HTML representation or trust the notebook. <br />On GitHub, the HTML representation is unable to render, please try loading this page with nbviewer.org.</b></div><div class=\"sk-container\" hidden><div class=\"sk-item\"><div class=\"sk-estimator sk-toggleable\"><input class=\"sk-toggleable__control sk-hidden--visually\" id=\"sk-estimator-id-4\" type=\"checkbox\" checked><label for=\"sk-estimator-id-4\" class=\"sk-toggleable__label sk-toggleable__label-arrow\">LogisticRegression</label><div class=\"sk-toggleable__content\"><pre>LogisticRegression(C=1, l1_ratio=0.1111111111111111, penalty=&#x27;elasticnet&#x27;,\n",
       "                   random_state=1, solver=&#x27;saga&#x27;)</pre></div></div></div></div></div>"
      ],
      "text/plain": [
       "LogisticRegression(C=1, l1_ratio=0.1111111111111111, penalty='elasticnet',\n",
       "                   random_state=1, solver='saga')"
      ]
     },
     "execution_count": 51,
     "metadata": {},
     "output_type": "execute_result"
    }
   ],
   "source": [
    "elastic_net.fit(X_train_under, y_train_under)"
   ]
  },
  {
   "cell_type": "markdown",
   "id": "e1a6734d-3f3b-42e0-8536-bdaaf1a772be",
   "metadata": {},
   "source": [
    "#### Fit Model on Testing Data, Model Performance Metrics"
   ]
  },
  {
   "cell_type": "code",
   "execution_count": 52,
   "id": "c149ffce-faee-4aea-b7c4-5f8bbd42ab51",
   "metadata": {},
   "outputs": [
    {
     "data": {
      "text/html": [
       "<div>\n",
       "<style scoped>\n",
       "    .dataframe tbody tr th:only-of-type {\n",
       "        vertical-align: middle;\n",
       "    }\n",
       "\n",
       "    .dataframe tbody tr th {\n",
       "        vertical-align: top;\n",
       "    }\n",
       "\n",
       "    .dataframe thead th {\n",
       "        text-align: right;\n",
       "    }\n",
       "</style>\n",
       "<table border=\"1\" class=\"dataframe\">\n",
       "  <thead>\n",
       "    <tr style=\"text-align: right;\">\n",
       "      <th></th>\n",
       "      <th>model</th>\n",
       "      <th>class</th>\n",
       "      <th>accuracy</th>\n",
       "      <th>precision</th>\n",
       "      <th>recall</th>\n",
       "      <th>f1_score</th>\n",
       "      <th>specificity</th>\n",
       "    </tr>\n",
       "  </thead>\n",
       "  <tbody>\n",
       "    <tr>\n",
       "      <th>0</th>\n",
       "      <td>elastic_net</td>\n",
       "      <td>0</td>\n",
       "      <td>0.692</td>\n",
       "      <td>0.390</td>\n",
       "      <td>0.889</td>\n",
       "      <td>0.542</td>\n",
       "      <td>0.996</td>\n",
       "    </tr>\n",
       "    <tr>\n",
       "      <th>1</th>\n",
       "      <td>elastic_net</td>\n",
       "      <td>1</td>\n",
       "      <td>0.692</td>\n",
       "      <td>0.856</td>\n",
       "      <td>0.679</td>\n",
       "      <td>0.757</td>\n",
       "      <td>0.508</td>\n",
       "    </tr>\n",
       "    <tr>\n",
       "      <th>2</th>\n",
       "      <td>elastic_net</td>\n",
       "      <td>2</td>\n",
       "      <td>0.692</td>\n",
       "      <td>0.512</td>\n",
       "      <td>0.704</td>\n",
       "      <td>0.593</td>\n",
       "      <td>0.866</td>\n",
       "    </tr>\n",
       "  </tbody>\n",
       "</table>\n",
       "</div>"
      ],
      "text/plain": [
       "         model  class  accuracy  precision  recall  f1_score  specificity\n",
       "0  elastic_net      0     0.692      0.390   0.889     0.542        0.996\n",
       "1  elastic_net      1     0.692      0.856   0.679     0.757        0.508\n",
       "2  elastic_net      2     0.692      0.512   0.704     0.593        0.866"
      ]
     },
     "execution_count": 52,
     "metadata": {},
     "output_type": "execute_result"
    }
   ],
   "source": [
    "model_name = 'elastic_net'\n",
    "\n",
    "# Run model on test data, generate confusion matrix, save y_pred\n",
    "elastic_net_metrics_df, elastic_net_img_path, elastic_net_y_pred = evaluate_model(elastic_net, X_test_encoded, y_test, labels=[0, 1, 2], model_name=model_name)\n",
    "\n",
    "elastic_net_metrics_df.head()"
   ]
  },
  {
   "cell_type": "markdown",
   "id": "3d02f635-ed06-425c-acdd-774b0da86049",
   "metadata": {},
   "source": [
    "#### Get Probabilities for AUC"
   ]
  },
  {
   "cell_type": "code",
   "execution_count": 53,
   "id": "3a19299b-3b2f-42c3-8a9c-f7ff16bfe4bb",
   "metadata": {},
   "outputs": [],
   "source": [
    "elastic_net_y_pred_proba = elastic_net.predict_proba(X_test_encoded)  # This should be a 2D array"
   ]
  },
  {
   "cell_type": "markdown",
   "id": "118b4258-dc11-4c42-b2b1-3e95427d43a1",
   "metadata": {},
   "source": [
    "#### View Classification Matrix"
   ]
  },
  {
   "cell_type": "code",
   "execution_count": 54,
   "id": "19fe5447-2f51-471b-8f9e-383a203955c0",
   "metadata": {
    "scrolled": true
   },
   "outputs": [
    {
     "data": {
      "image/png": "[encoded data removed]",
      "text/plain": [
       "<IPython.core.display.Image object>"
      ]
     },
     "metadata": {},
     "output_type": "display_data"
    }
   ],
   "source": [
    "display(Image(filename=elastic_net_img_path))"
   ]
  },
  {
   "cell_type": "markdown",
   "id": "f69c075c-1507-488f-b4a9-bbfa286f22d9",
   "metadata": {},
   "source": [
    "#### Other Metrics - Model Coefficient Odds for Each Outcome"
   ]
  },
  {
   "cell_type": "code",
   "execution_count": 55,
   "id": "d383423b",
   "metadata": {},
   "outputs": [
    {
     "name": "stdout",
     "output_type": "stream",
     "text": [
      "Top features for Non-Serious:\n",
      "            Feature   LogOdds       Odds\n",
      "0         Intercept  1.056210   2.875454\n",
      "216  ndc9_684620226  3.333339  28.031777\n",
      "254  ndc9_724260118  2.199787   9.023092\n",
      "4       expedited_1 -2.151214   0.116343\n",
      "173  ndc9_649800449  2.038531   7.679319\n",
      "144  ndc9_621350442  1.789386   5.985774\n",
      "Top features for Serious:\n",
      "            Feature   LogOdds      Odds\n",
      "0         Intercept -0.294356  0.745012\n",
      "144  ndc9_621350442 -1.373214  0.253292\n",
      "216  ndc9_684620226 -1.352973  0.258471\n",
      "4       expedited_1  1.292877  3.643254\n",
      "254  ndc9_724260118 -1.030128  0.356961\n",
      "192  ndc9_663020467 -0.997421  0.368829\n",
      "Top features for Death:\n",
      "            Feature   LogOdds      Odds\n",
      "0         Intercept -0.761855  0.466800\n",
      "216  ndc9_684620226 -1.864002  0.155051\n",
      "62   ndc9_461220166  1.259604  3.524026\n",
      "272  ndc9_782060135  1.199405  3.318143\n",
      "254  ndc9_724260118 -1.053296  0.348786\n",
      "173  ndc9_649800449 -0.965298  0.380870\n"
     ]
    }
   ],
   "source": [
    "coefficients_and_odds = get_model_coefficients_and_odds(X_train_under, elastic_net)\n",
    "for outcome, df in coefficients_and_odds.items():\n",
    "     print(f\"Top features for {outcome}:\")\n",
    "     print(df)"
   ]
  },
  {
   "cell_type": "markdown",
   "id": "4d5e3159",
   "metadata": {},
   "source": [
    "### Single Decision Tree"
   ]
  },
  {
   "cell_type": "markdown",
   "id": "945bcfd1-6c14-4e1c-9894-053975d9913b",
   "metadata": {},
   "source": [
    "#### Grid Search"
   ]
  },
  {
   "cell_type": "code",
   "execution_count": 56,
   "id": "3adfed8f",
   "metadata": {},
   "outputs": [
    {
     "name": "stdout",
     "output_type": "stream",
     "text": [
      "Best parameters: {'max_depth': 10, 'min_samples_leaf': 1}\n"
     ]
    }
   ],
   "source": [
    "# Define a grid of hyperparameters to search for in tree\n",
    "param_grid = {\n",
    "    'max_depth' : [5,6,7,8,9,10],\n",
    "    'min_samples_leaf' : [1,2,3,4,5,6]\n",
    "    \n",
    "}\n",
    "# Create a GridSearchCV object using and the defined parameter grid\n",
    "tree1_search = GridSearchCV(DecisionTreeClassifier(random_state=1), param_grid, cv=10, n_jobs=-1)\n",
    "\n",
    "# Fit the GridSearchCV to the balanced training data to find the best hyperparameters\n",
    "tree1_search.fit(X_train_under, y_train_under.values.ravel())\n",
    "\n",
    "# Get the best hyperparameters found by the GridSearch\n",
    "best_params = tree1_search.best_params_\n",
    "print(f\"Best parameters: {best_params}\")\n",
    "\n",
    "tree1 = tree1_search.best_estimator_\n"
   ]
  },
  {
   "cell_type": "markdown",
   "id": "994c5b78-ee6a-493f-b467-4aa7bad58bd0",
   "metadata": {},
   "source": [
    "#### Generate and Fit Model on Training Data"
   ]
  },
  {
   "cell_type": "code",
   "execution_count": 57,
   "id": "a27d6f83-fc38-40d5-a248-e16b4e07e6a8",
   "metadata": {
    "scrolled": true
   },
   "outputs": [
    {
     "data": {
      "text/html": [
       "<style>#sk-container-id-5 {color: black;background-color: white;}#sk-container-id-5 pre{padding: 0;}#sk-container-id-5 div.sk-toggleable {background-color: white;}#sk-container-id-5 label.sk-toggleable__label {cursor: pointer;display: block;width: 100%;margin-bottom: 0;padding: 0.3em;box-sizing: border-box;text-align: center;}#sk-container-id-5 label.sk-toggleable__label-arrow:before {content: \"▸\";float: left;margin-right: 0.25em;color: #696969;}#sk-container-id-5 label.sk-toggleable__label-arrow:hover:before {color: black;}#sk-container-id-5 div.sk-estimator:hover label.sk-toggleable__label-arrow:before {color: black;}#sk-container-id-5 div.sk-toggleable__content {max-height: 0;max-width: 0;overflow: hidden;text-align: left;background-color: #f0f8ff;}#sk-container-id-5 div.sk-toggleable__content pre {margin: 0.2em;color: black;border-radius: 0.25em;background-color: #f0f8ff;}#sk-container-id-5 input.sk-toggleable__control:checked~div.sk-toggleable__content {max-height: 200px;max-width: 100%;overflow: auto;}#sk-container-id-5 input.sk-toggleable__control:checked~label.sk-toggleable__label-arrow:before {content: \"▾\";}#sk-container-id-5 div.sk-estimator input.sk-toggleable__control:checked~label.sk-toggleable__label {background-color: #d4ebff;}#sk-container-id-5 div.sk-label input.sk-toggleable__control:checked~label.sk-toggleable__label {background-color: #d4ebff;}#sk-container-id-5 input.sk-hidden--visually {border: 0;clip: rect(1px 1px 1px 1px);clip: rect(1px, 1px, 1px, 1px);height: 1px;margin: -1px;overflow: hidden;padding: 0;position: absolute;width: 1px;}#sk-container-id-5 div.sk-estimator {font-family: monospace;background-color: #f0f8ff;border: 1px dotted black;border-radius: 0.25em;box-sizing: border-box;margin-bottom: 0.5em;}#sk-container-id-5 div.sk-estimator:hover {background-color: #d4ebff;}#sk-container-id-5 div.sk-parallel-item::after {content: \"\";width: 100%;border-bottom: 1px solid gray;flex-grow: 1;}#sk-container-id-5 div.sk-label:hover label.sk-toggleable__label {background-color: #d4ebff;}#sk-container-id-5 div.sk-serial::before {content: \"\";position: absolute;border-left: 1px solid gray;box-sizing: border-box;top: 0;bottom: 0;left: 50%;z-index: 0;}#sk-container-id-5 div.sk-serial {display: flex;flex-direction: column;align-items: center;background-color: white;padding-right: 0.2em;padding-left: 0.2em;position: relative;}#sk-container-id-5 div.sk-item {position: relative;z-index: 1;}#sk-container-id-5 div.sk-parallel {display: flex;align-items: stretch;justify-content: center;background-color: white;position: relative;}#sk-container-id-5 div.sk-item::before, #sk-container-id-5 div.sk-parallel-item::before {content: \"\";position: absolute;border-left: 1px solid gray;box-sizing: border-box;top: 0;bottom: 0;left: 50%;z-index: -1;}#sk-container-id-5 div.sk-parallel-item {display: flex;flex-direction: column;z-index: 1;position: relative;background-color: white;}#sk-container-id-5 div.sk-parallel-item:first-child::after {align-self: flex-end;width: 50%;}#sk-container-id-5 div.sk-parallel-item:last-child::after {align-self: flex-start;width: 50%;}#sk-container-id-5 div.sk-parallel-item:only-child::after {width: 0;}#sk-container-id-5 div.sk-dashed-wrapped {border: 1px dashed gray;margin: 0 0.4em 0.5em 0.4em;box-sizing: border-box;padding-bottom: 0.4em;background-color: white;}#sk-container-id-5 div.sk-label label {font-family: monospace;font-weight: bold;display: inline-block;line-height: 1.2em;}#sk-container-id-5 div.sk-label-container {text-align: center;}#sk-container-id-5 div.sk-container {/* jupyter's `normalize.less` sets `[hidden] { display: none; }` but bootstrap.min.css set `[hidden] { display: none !important; }` so we also need the `!important` here to be able to override the default hidden behavior on the sphinx rendered scikit-learn.org. See: https://github.com/scikit-learn/scikit-learn/issues/21755 */display: inline-block !important;position: relative;}#sk-container-id-5 div.sk-text-repr-fallback {display: none;}</style><div id=\"sk-container-id-5\" class=\"sk-top-container\"><div class=\"sk-text-repr-fallback\"><pre>DecisionTreeClassifier(max_depth=10, random_state=1)</pre><b>In a Jupyter environment, please rerun this cell to show the HTML representation or trust the notebook. <br />On GitHub, the HTML representation is unable to render, please try loading this page with nbviewer.org.</b></div><div class=\"sk-container\" hidden><div class=\"sk-item\"><div class=\"sk-estimator sk-toggleable\"><input class=\"sk-toggleable__control sk-hidden--visually\" id=\"sk-estimator-id-5\" type=\"checkbox\" checked><label for=\"sk-estimator-id-5\" class=\"sk-toggleable__label sk-toggleable__label-arrow\">DecisionTreeClassifier</label><div class=\"sk-toggleable__content\"><pre>DecisionTreeClassifier(max_depth=10, random_state=1)</pre></div></div></div></div></div>"
      ],
      "text/plain": [
       "DecisionTreeClassifier(max_depth=10, random_state=1)"
      ]
     },
     "execution_count": 57,
     "metadata": {},
     "output_type": "execute_result"
    }
   ],
   "source": [
    "tree1.fit(X_train_under, y_train_under)"
   ]
  },
  {
   "cell_type": "markdown",
   "id": "21c1a19e-3e1c-4a18-9d70-69289f5538e5",
   "metadata": {},
   "source": [
    "#### Fit Model on Testing Data, Model Performance Metrics"
   ]
  },
  {
   "cell_type": "code",
   "execution_count": 58,
   "id": "0e8aa319-fb37-4e74-893f-792ac53b140d",
   "metadata": {},
   "outputs": [
    {
     "data": {
      "text/html": [
       "<div>\n",
       "<style scoped>\n",
       "    .dataframe tbody tr th:only-of-type {\n",
       "        vertical-align: middle;\n",
       "    }\n",
       "\n",
       "    .dataframe tbody tr th {\n",
       "        vertical-align: top;\n",
       "    }\n",
       "\n",
       "    .dataframe thead th {\n",
       "        text-align: right;\n",
       "    }\n",
       "</style>\n",
       "<table border=\"1\" class=\"dataframe\">\n",
       "  <thead>\n",
       "    <tr style=\"text-align: right;\">\n",
       "      <th></th>\n",
       "      <th>model</th>\n",
       "      <th>class</th>\n",
       "      <th>accuracy</th>\n",
       "      <th>precision</th>\n",
       "      <th>recall</th>\n",
       "      <th>f1_score</th>\n",
       "      <th>specificity</th>\n",
       "    </tr>\n",
       "  </thead>\n",
       "  <tbody>\n",
       "    <tr>\n",
       "      <th>0</th>\n",
       "      <td>tree1</td>\n",
       "      <td>0</td>\n",
       "      <td>0.798</td>\n",
       "      <td>0.349</td>\n",
       "      <td>0.833</td>\n",
       "      <td>0.492</td>\n",
       "      <td>0.995</td>\n",
       "    </tr>\n",
       "    <tr>\n",
       "      <th>1</th>\n",
       "      <td>tree1</td>\n",
       "      <td>1</td>\n",
       "      <td>0.798</td>\n",
       "      <td>0.913</td>\n",
       "      <td>0.796</td>\n",
       "      <td>0.851</td>\n",
       "      <td>0.645</td>\n",
       "    </tr>\n",
       "    <tr>\n",
       "      <th>2</th>\n",
       "      <td>tree1</td>\n",
       "      <td>2</td>\n",
       "      <td>0.798</td>\n",
       "      <td>0.685</td>\n",
       "      <td>0.799</td>\n",
       "      <td>0.738</td>\n",
       "      <td>0.917</td>\n",
       "    </tr>\n",
       "  </tbody>\n",
       "</table>\n",
       "</div>"
      ],
      "text/plain": [
       "   model  class  accuracy  precision  recall  f1_score  specificity\n",
       "0  tree1      0     0.798      0.349   0.833     0.492        0.995\n",
       "1  tree1      1     0.798      0.913   0.796     0.851        0.645\n",
       "2  tree1      2     0.798      0.685   0.799     0.738        0.917"
      ]
     },
     "execution_count": 58,
     "metadata": {},
     "output_type": "execute_result"
    }
   ],
   "source": [
    "model_name = 'tree1'\n",
    "\n",
    "# Run model on test data, generate confusion matrix, save y_pred\n",
    "tree1_metrics_df, tree1_img_path, tree1_y_pred = evaluate_model(tree1, X_test_encoded, y_test, labels=[0, 1, 2], model_name=model_name)\n",
    "\n",
    "tree1_metrics_df.head()"
   ]
  },
  {
   "cell_type": "markdown",
   "id": "fcad7d2e-531e-42cd-a19f-d2f6973fbce9",
   "metadata": {},
   "source": [
    "#### Get Probabilities for AUC"
   ]
  },
  {
   "cell_type": "code",
   "execution_count": 59,
   "id": "77c134b0-0bef-489f-a5e0-a11f97b8c695",
   "metadata": {},
   "outputs": [],
   "source": [
    "tree1_y_pred_proba = tree1.predict_proba(X_test_encoded)  # This should be a 2D array"
   ]
  },
  {
   "cell_type": "markdown",
   "id": "2104400a-b304-44c9-b86e-9428745423d0",
   "metadata": {},
   "source": [
    "#### View Classification Matrix"
   ]
  },
  {
   "cell_type": "code",
   "execution_count": 60,
   "id": "4b8e76e2-c461-4526-9a1e-369720c6eebb",
   "metadata": {
    "scrolled": true
   },
   "outputs": [
    {
     "data": {
      "image/png": "[encoded data removed]",
      "text/plain": [
       "<IPython.core.display.Image object>"
      ]
     },
     "metadata": {},
     "output_type": "display_data"
    }
   ],
   "source": [
    "display(Image(filename=tree1_img_path))"
   ]
  },
  {
   "cell_type": "markdown",
   "id": "17f015e8-6964-4a45-83b1-db4dbd984f77",
   "metadata": {},
   "source": [
    "#### Other Metrics - Feature Importance and Tree Structure"
   ]
  },
  {
   "cell_type": "code",
   "execution_count": 61,
   "id": "c790c0df",
   "metadata": {},
   "outputs": [],
   "source": [
    "# Feature Importance Scores\n",
    "# Extract feature importances\n",
    "importances = tree1.feature_importances_\n",
    "features = X_train_under.columns\n",
    "\n",
    "# Create a DataFrame for better plotting\n",
    "importance_df = pd.DataFrame({\n",
    "    'Feature': features,\n",
    "    'Importance': importances\n",
    "})\n",
    "\n",
    "# Sort the DataFrame by importance\n",
    "importance_df = importance_df.sort_values(by='Importance', ascending=False)\n",
    "\n",
    "# Plot the feature importances\n",
    "plt.figure(figsize=(10, 8))\n",
    "bars = plt.barh(importance_df['Feature'], importance_df['Importance'], color='skyblue')\n",
    "plt.xlabel('Feature Importance')\n",
    "plt.ylabel('Feature')\n",
    "plt.title('Feature Importance Plot for DecisionTreeClassifier')\n",
    "plt.gca().invert_yaxis()  # To display the most important feature at the top\n",
    "# Add labels to the bars\n",
    "for bar in bars:\n",
    "    plt.text(\n",
    "        bar.get_width(),\n",
    "        bar.get_y() + bar.get_height() / 2,\n",
    "        f'{bar.get_width():.4f}',\n",
    "        va='center'\n",
    "    )\n",
    "\n",
    "plt.show()"
   ]
  },
  {
   "cell_type": "code",
   "execution_count": 62,
   "id": "28a2a1ff",
   "metadata": {},
   "outputs": [],
   "source": [
    "from sklearn.tree import plot_tree\n",
    "# Plot the tree structure\n",
    "plt.figure(figsize=(20, 10))\n",
    "plot_tree(tree1, filled=True, feature_names=X_train_under.columns, class_names=['NonSerious', 'Serious', 'Death'], rounded=True)\n",
    "plt.title('Decision Tree Structure')\n",
    "plt.show()"
   ]
  },
  {
   "cell_type": "code",
   "execution_count": 63,
   "id": "f86f47c6-03da-4c37-b64c-f98195f856e1",
   "metadata": {},
   "outputs": [],
   "source": [
    "#Plot max_depth = 2\n",
    "from sklearn.tree import plot_tree\n",
    "folder_path = 'ModelOutput'\n",
    "if not os.path.exists(folder_path):\n",
    "    os.makedirs(folder_path)\n",
    "    \n",
    "img_path = os.path.join(folder_path, 'tree1_maxdepth2.png')\n",
    "\n",
    "# Plot the tree structure\n",
    "plt.figure(figsize=(20, 10))\n",
    "plot_tree(tree1, filled=True,max_depth=2, feature_names=X_train_under.columns, class_names=['NonSerious', 'Serious', 'Death'], rounded=True)\n",
    "plt.title('Decision Tree Structure')\n",
    "plt.show()\n",
    "plt.savefig(img_path)"
   ]
  },
  {
   "cell_type": "code",
   "execution_count": 64,
   "id": "47b6d77e-8337-419a-a66f-970b8587c05c",
   "metadata": {},
   "outputs": [],
   "source": [
    "#Plot max_depth = 1\n",
    "from sklearn.tree import plot_tree\n",
    "folder_path = 'ModelOutput'\n",
    "if not os.path.exists(folder_path):\n",
    "    os.makedirs(folder_path)\n",
    "    \n",
    "img_path = os.path.join(folder_path, 'tree1_maxdepth1.png')\n",
    "\n",
    "# Plot the tree structure\n",
    "plt.figure(figsize=(20, 10))\n",
    "plot_tree(tree1, filled=True,max_depth=1, feature_names=X_train_under.columns, class_names=['NonSerious', 'Serious', 'Death'], rounded=True)\n",
    "plt.title('Decision Tree Structure')\n",
    "plt.show()\n",
    "plt.savefig(img_path)"
   ]
  },
  {
   "cell_type": "markdown",
   "id": "b19400b7",
   "metadata": {},
   "source": [
    "## Ensembles"
   ]
  },
  {
   "cell_type": "markdown",
   "id": "467fa457",
   "metadata": {},
   "source": [
    "### Random Forest Classifier w/ 10-k CV"
   ]
  },
  {
   "cell_type": "markdown",
   "id": "8f468d77-a415-461f-8375-d6dfcec70eae",
   "metadata": {},
   "source": [
    "#### Grid Search"
   ]
  },
  {
   "cell_type": "code",
   "execution_count": 65,
   "id": "023ff245",
   "metadata": {},
   "outputs": [
    {
     "name": "stdout",
     "output_type": "stream",
     "text": [
      "Fitting 5 folds for each of 5 candidates, totalling 25 fits\n",
      "Best Parameters: {'n_estimators': 125}\n",
      "Best Score: 0.8418743667679838\n",
      "Best Random Forest Model:\n",
      "RandomForestClassifier(n_estimators=125, random_state=1)\n"
     ]
    }
   ],
   "source": [
    "param_grid = {\n",
    "    'n_estimators': [100, 125, 150, 175, 200]  # Example range for number of estimators\n",
    "}\n",
    "\n",
    "# Initialize the Random Forest Classifier\n",
    "random_forest = RandomForestClassifier(random_state=1)\n",
    "\n",
    "# Initialize GridSearchCV\n",
    "grid_search = GridSearchCV(estimator=random_forest,\n",
    "                           param_grid=param_grid,\n",
    "                           cv=5,  # Number of cross-validation folds\n",
    "                           scoring='accuracy',  # Use accuracy as the scoring metric\n",
    "                           n_jobs=-1,  # Use all available cores\n",
    "                           verbose=2)  # Print progress messages\n",
    "\n",
    "# Fit GridSearchCV to the data\n",
    "grid_search.fit(X_train_under, y_train_under.values.ravel())\n",
    "\n",
    "# Get the best model from the grid search\n",
    "rf = grid_search.best_estimator_\n",
    "\n",
    "rf.fit(X_train_under, y_train_under)\n",
    "\n",
    "# Print the best parameters and the best score\n",
    "print(\"Best Parameters:\", grid_search.best_params_)\n",
    "print(\"Best Score:\", grid_search.best_score_)\n",
    "\n",
    "# Example: Printing the best model parameters\n",
    "print(\"Best Random Forest Model:\")\n",
    "print(rf)"
   ]
  },
  {
   "cell_type": "markdown",
   "id": "7d304a5e-8572-4aea-8fd8-7f06240a0608",
   "metadata": {},
   "source": [
    "#### Fit Model on Testing Data, Model Performance Metrics"
   ]
  },
  {
   "cell_type": "code",
   "execution_count": 66,
   "id": "f4c082f3-58b4-4ea8-a144-b1a158e01d37",
   "metadata": {},
   "outputs": [
    {
     "data": {
      "text/html": [
       "<div>\n",
       "<style scoped>\n",
       "    .dataframe tbody tr th:only-of-type {\n",
       "        vertical-align: middle;\n",
       "    }\n",
       "\n",
       "    .dataframe tbody tr th {\n",
       "        vertical-align: top;\n",
       "    }\n",
       "\n",
       "    .dataframe thead th {\n",
       "        text-align: right;\n",
       "    }\n",
       "</style>\n",
       "<table border=\"1\" class=\"dataframe\">\n",
       "  <thead>\n",
       "    <tr style=\"text-align: right;\">\n",
       "      <th></th>\n",
       "      <th>model</th>\n",
       "      <th>class</th>\n",
       "      <th>accuracy</th>\n",
       "      <th>precision</th>\n",
       "      <th>recall</th>\n",
       "      <th>f1_score</th>\n",
       "      <th>specificity</th>\n",
       "    </tr>\n",
       "  </thead>\n",
       "  <tbody>\n",
       "    <tr>\n",
       "      <th>0</th>\n",
       "      <td>rf</td>\n",
       "      <td>0</td>\n",
       "      <td>0.815</td>\n",
       "      <td>0.400</td>\n",
       "      <td>0.889</td>\n",
       "      <td>0.552</td>\n",
       "      <td>0.996</td>\n",
       "    </tr>\n",
       "    <tr>\n",
       "      <th>1</th>\n",
       "      <td>rf</td>\n",
       "      <td>1</td>\n",
       "      <td>0.815</td>\n",
       "      <td>0.922</td>\n",
       "      <td>0.808</td>\n",
       "      <td>0.861</td>\n",
       "      <td>0.663</td>\n",
       "    </tr>\n",
       "    <tr>\n",
       "      <th>2</th>\n",
       "      <td>rf</td>\n",
       "      <td>2</td>\n",
       "      <td>0.815</td>\n",
       "      <td>0.702</td>\n",
       "      <td>0.823</td>\n",
       "      <td>0.758</td>\n",
       "      <td>0.927</td>\n",
       "    </tr>\n",
       "  </tbody>\n",
       "</table>\n",
       "</div>"
      ],
      "text/plain": [
       "  model  class  accuracy  precision  recall  f1_score  specificity\n",
       "0    rf      0     0.815      0.400   0.889     0.552        0.996\n",
       "1    rf      1     0.815      0.922   0.808     0.861        0.663\n",
       "2    rf      2     0.815      0.702   0.823     0.758        0.927"
      ]
     },
     "execution_count": 66,
     "metadata": {},
     "output_type": "execute_result"
    }
   ],
   "source": [
    "model_name = 'rf'\n",
    "\n",
    "# Run model on test data, generate confusion matrix, save y_pred\n",
    "rf_metrics_df, rf_img_path, rf_y_pred = evaluate_model(rf, X_test_encoded, y_test, labels=[0, 1, 2], model_name=model_name)\n",
    "\n",
    "rf_metrics_df.head()"
   ]
  },
  {
   "cell_type": "markdown",
   "id": "75afea60-5f95-4b4a-b42f-f26ea0c35941",
   "metadata": {},
   "source": [
    "#### Get Probabilities for AUC"
   ]
  },
  {
   "cell_type": "code",
   "execution_count": 67,
   "id": "031a3042-7d61-461d-99be-2fe880311f02",
   "metadata": {},
   "outputs": [],
   "source": [
    "rf_y_pred_proba = rf.predict_proba(X_test_encoded)  # This should be a 2D array"
   ]
  },
  {
   "cell_type": "markdown",
   "id": "632e7a75-90ce-4d3a-931d-3d8459fd34a5",
   "metadata": {},
   "source": [
    "#### View Classification Matrix"
   ]
  },
  {
   "cell_type": "code",
   "execution_count": 68,
   "id": "0bedba67-0ca8-4027-a525-9d817c6f1ddc",
   "metadata": {
    "scrolled": true
   },
   "outputs": [
    {
     "data": {
      "image/png": "[encoded data removed]",
      "text/plain": [
       "<IPython.core.display.Image object>"
      ]
     },
     "metadata": {},
     "output_type": "display_data"
    }
   ],
   "source": [
    "display(Image(filename=rf_img_path))"
   ]
  },
  {
   "cell_type": "markdown",
   "id": "916b57c1-5c11-4519-ad6a-e53755680cf8",
   "metadata": {},
   "source": [
    "#### Other Metrics"
   ]
  },
  {
   "cell_type": "markdown",
   "id": "3a5b1c42",
   "metadata": {},
   "source": [
    "### Gradient Boosted Tree w/ 10-k CV"
   ]
  },
  {
   "cell_type": "markdown",
   "id": "6048cba5-d9a9-41b8-b944-27c8cf48cd41",
   "metadata": {},
   "source": [
    "#### Grid Search"
   ]
  },
  {
   "cell_type": "code",
   "execution_count": 69,
   "id": "77389cdb",
   "metadata": {},
   "outputs": [
    {
     "name": "stdout",
     "output_type": "stream",
     "text": [
      "Best Parameters: {'learning_rate': 0.1, 'max_depth': 6, 'n_estimators': 75}\n",
      "Best Score: 0.866016096579477\n",
      "Best Gradient Boosted Tree:\n",
      "GradientBoostingClassifier(max_depth=6, n_estimators=75, random_state=1)\n"
     ]
    }
   ],
   "source": [
    "# Define a grid of hyperparameters to search for in the Gradient Boosting Classifier\n",
    "param_grid = {\n",
    "    'max_depth' : [5,6,7,8,9,10],\n",
    "    'learning_rate' : [0.0001, 0.001, 0.01, 0.1, 1],\n",
    "    'n_estimators' : [50,75,100,125,150],\n",
    "}\n",
    "# Create a GridSearchCV object using GradientBoostingClassifier and the defined parameter grid\n",
    "tree_search = GridSearchCV(GradientBoostingClassifier(random_state=1), param_grid, cv=10, n_jobs=-1)\n",
    "# Fit the GridSearchCV to the balanced training data to find the best hyperparameters\n",
    "tree_search.fit(X_train_under, y_train_under.values.ravel())\n",
    "# Get the best hyperparameters found by the GridSearch\n",
    "tree_search.best_params_\n",
    "\n",
    "grboost = tree_search.best_estimator_\n",
    "\n",
    "\n",
    "# Print the best parameters and the best score\n",
    "print(\"Best Parameters:\", tree_search.best_params_)\n",
    "print(\"Best Score:\", tree_search.best_score_)\n",
    "\n",
    "# Example: Printing the best model parameters\n",
    "print(\"Best Gradient Boosted Tree:\")\n",
    "print(grboost)"
   ]
  },
  {
   "cell_type": "markdown",
   "id": "aabfdd77-cf13-4fe4-a9e5-c111a0b0804d",
   "metadata": {},
   "source": [
    "#### Fit Model on Testing Data, Model Performance Metrics"
   ]
  },
  {
   "cell_type": "code",
   "execution_count": 70,
   "id": "5ac8b3d0-94b5-459c-aa43-37d1d497e09f",
   "metadata": {},
   "outputs": [
    {
     "data": {
      "text/html": [
       "<div>\n",
       "<style scoped>\n",
       "    .dataframe tbody tr th:only-of-type {\n",
       "        vertical-align: middle;\n",
       "    }\n",
       "\n",
       "    .dataframe tbody tr th {\n",
       "        vertical-align: top;\n",
       "    }\n",
       "\n",
       "    .dataframe thead th {\n",
       "        text-align: right;\n",
       "    }\n",
       "</style>\n",
       "<table border=\"1\" class=\"dataframe\">\n",
       "  <thead>\n",
       "    <tr style=\"text-align: right;\">\n",
       "      <th></th>\n",
       "      <th>model</th>\n",
       "      <th>class</th>\n",
       "      <th>accuracy</th>\n",
       "      <th>precision</th>\n",
       "      <th>recall</th>\n",
       "      <th>f1_score</th>\n",
       "      <th>specificity</th>\n",
       "    </tr>\n",
       "  </thead>\n",
       "  <tbody>\n",
       "    <tr>\n",
       "      <th>0</th>\n",
       "      <td>grboost</td>\n",
       "      <td>0</td>\n",
       "      <td>0.834</td>\n",
       "      <td>0.400</td>\n",
       "      <td>0.944</td>\n",
       "      <td>0.562</td>\n",
       "      <td>0.998</td>\n",
       "    </tr>\n",
       "    <tr>\n",
       "      <th>1</th>\n",
       "      <td>grboost</td>\n",
       "      <td>1</td>\n",
       "      <td>0.834</td>\n",
       "      <td>0.936</td>\n",
       "      <td>0.825</td>\n",
       "      <td>0.877</td>\n",
       "      <td>0.690</td>\n",
       "    </tr>\n",
       "    <tr>\n",
       "      <th>2</th>\n",
       "      <td>grboost</td>\n",
       "      <td>2</td>\n",
       "      <td>0.834</td>\n",
       "      <td>0.736</td>\n",
       "      <td>0.844</td>\n",
       "      <td>0.787</td>\n",
       "      <td>0.936</td>\n",
       "    </tr>\n",
       "  </tbody>\n",
       "</table>\n",
       "</div>"
      ],
      "text/plain": [
       "     model  class  accuracy  precision  recall  f1_score  specificity\n",
       "0  grboost      0     0.834      0.400   0.944     0.562        0.998\n",
       "1  grboost      1     0.834      0.936   0.825     0.877        0.690\n",
       "2  grboost      2     0.834      0.736   0.844     0.787        0.936"
      ]
     },
     "execution_count": 70,
     "metadata": {},
     "output_type": "execute_result"
    }
   ],
   "source": [
    "model_name = 'grboost'\n",
    "\n",
    "# Run model on test data, generate confusion matrix, save y_pred\n",
    "grboost_metrics_df, grboost_img_path, grboost_y_pred = evaluate_model(grboost, X_test_encoded, y_test, labels=[0, 1, 2], model_name=model_name)\n",
    "\n",
    "grboost_metrics_df.head()"
   ]
  },
  {
   "cell_type": "markdown",
   "id": "b8e09846-07ea-47bb-82e2-d5e8dd671340",
   "metadata": {},
   "source": [
    "#### Get probabilities for AUC"
   ]
  },
  {
   "cell_type": "code",
   "execution_count": 71,
   "id": "4b886f69-673d-4745-a006-fa6d87196e81",
   "metadata": {},
   "outputs": [],
   "source": [
    "grboost_y_pred_proba = grboost.predict_proba(X_test_encoded)  # This should be a 2D array"
   ]
  },
  {
   "cell_type": "markdown",
   "id": "01fd5215-2f46-438a-bc09-c25b8bf3449b",
   "metadata": {},
   "source": [
    "#### View Classification Matrix"
   ]
  },
  {
   "cell_type": "code",
   "execution_count": 72,
   "id": "0fb0231d-1e83-4ee0-817c-f13a7f5fd068",
   "metadata": {
    "scrolled": true
   },
   "outputs": [
    {
     "data": {
      "image/png": "[encoded data removed]",
      "text/plain": [
       "<IPython.core.display.Image object>"
      ]
     },
     "metadata": {},
     "output_type": "display_data"
    }
   ],
   "source": [
    "display(Image(filename=grboost_img_path))"
   ]
  },
  {
   "cell_type": "markdown",
   "id": "ff22288a-1bac-43ac-b8df-f866c016155e",
   "metadata": {},
   "source": [
    "#### Other Metrics"
   ]
  },
  {
   "cell_type": "code",
   "execution_count": 73,
   "id": "708fa64e",
   "metadata": {},
   "outputs": [
    {
     "name": "stdout",
     "output_type": "stream",
     "text": [
      "Feature Importance Scores\n",
      "age: 0.2745\n",
      "expedited_1: 0.1620\n",
      "ndc9_684620226: 0.1532\n",
      "weight: 0.1310\n",
      "unit_price: 0.0360\n",
      "ndc9_724260118: 0.0271\n",
      "ndc9_621350442: 0.0230\n",
      "sex_2: 0.0190\n",
      "ndc9_649800449: 0.0140\n",
      "report_source_3: 0.0130\n",
      "ndc9_726030344: 0.0103\n",
      "ndc9_663020467: 0.0098\n",
      "ndc9_658620927: 0.0091\n",
      "ndc9_648960661: 0.0063\n",
      "report_source_1: 0.0062\n",
      "ndc9_578940030: 0.0057\n",
      "ndc9_625590670: 0.0054\n",
      "ndc9_651620683: 0.0041\n",
      "ndc9_518620900: 0.0041\n",
      "ndc9_477810423: 0.0040\n",
      "ndc9_681800467: 0.0038\n",
      "ndc9_428580867: 0.0034\n",
      "report_source_2: 0.0032\n",
      "ndc9_355730436: 0.0031\n",
      "ndc9_762820681: 0.0031\n",
      "ndc9_427990958: 0.0031\n",
      "ndc9_728880152: 0.0030\n",
      "ndc9_555130710: 0.0029\n",
      "ndc9_676180300: 0.0029\n",
      "ndc9_625590510: 0.0027\n",
      "ndc9_623320487: 0.0027\n",
      "ndc9_504740370: 0.0027\n",
      "ndc9_423850963: 0.0026\n",
      "ndc9_621350793: 0.0026\n",
      "ndc9_518620240: 0.0025\n",
      "expedited_2: 0.0025\n",
      "ndc9_333420114: 0.0023\n",
      "ndc9_461220281: 0.0023\n",
      "ndc9_758340273: 0.0022\n",
      "ndc9_683080703: 0.0021\n",
      "ndc9_317220917: 0.0020\n",
      "ndc9_651620033: 0.0020\n",
      "ndc9_815200100: 0.0020\n",
      "ndc9_435980733: 0.0018\n",
      "ndc9_658620373: 0.0018\n",
      "ndc9_461220166: 0.0014\n",
      "ndc9_633040083: 0.0014\n",
      "ndc9_758340281: 0.0013\n",
      "ndc9_695430380: 0.0011\n",
      "ndc9_621350610: 0.0010\n",
      "ndc9_621350772: 0.0009\n",
      "ndc9_594170101: 0.0009\n",
      "ndc9_782060135: 0.0009\n",
      "ndc9_250210121: 0.0008\n",
      "ndc9_462870035: 0.0005\n",
      "ndc9_678770616: 0.0005\n",
      "ndc9_528170270: 0.0005\n",
      "ndc9_551500344: 0.0005\n",
      "ndc9_701650100: 0.0005\n",
      "ndc9_621350531: 0.0004\n",
      "ndc9_504580300: 0.0004\n",
      "ndc9_596510337: 0.0004\n",
      "expedited_5: 0.0004\n",
      "ndc9_576640761: 0.0003\n",
      "ndc9_683820255: 0.0003\n",
      "ndc9_428580703: 0.0003\n",
      "ndc9_498840424: 0.0003\n",
      "ndc9_540920546: 0.0002\n",
      "ndc9_820090100: 0.0002\n",
      "ndc9_519910704: 0.0002\n",
      "ndc9_167140535: 0.0002\n",
      "ndc9_681800657: 0.0002\n",
      "ndc9_680010562: 0.0001\n",
      "ndc9_167140052: 0.0001\n",
      "ndc9_633230966: 0.0001\n",
      "ndc9_597460781: 0.0001\n",
      "ndc9_710930155: 0.0001\n",
      "ndc9_643800737: 0.0001\n",
      "ndc9_621350818: 0.0001\n",
      "ndc9_680010505: 0.0001\n",
      "ndc9_596760562: 0.0001\n",
      "ndc9_762820327: 0.0001\n",
      "ndc9_461220618: 0.0001\n",
      "ndc9_621350439: 0.0000\n",
      "ndc9_681800861: 0.0000\n",
      "ndc9_504190402: 0.0000\n",
      "ndc9_285950240: 0.0000\n",
      "ndc9_678770659: 0.0000\n",
      "ndc9_317220629: 0.0000\n",
      "ndc9_136680606: 0.0000\n",
      "ndc9_578940070: 0.0000\n",
      "ndc9_634810623: 0.0000\n",
      "ndc9_666890836: 0.0000\n",
      "ndc9_633230376: 0.0000\n",
      "ndc9_557240211: 0.0000\n",
      "ndc9_700100063: 0.0000\n",
      "ndc9_658620011: 0.0000\n",
      "ndc9_100940205: 0.0000\n",
      "ndc9_119800174: 0.0000\n",
      "ndc9_131070105: 0.0000\n",
      "ndc9_136680453: 0.0000\n",
      "ndc9_165710762: 0.0000\n",
      "ndc9_165710831: 0.0000\n",
      "ndc9_167140055: 0.0000\n",
      "ndc9_167140071: 0.0000\n",
      "ndc9_167140114: 0.0000\n",
      "ndc9_167140257: 0.0000\n",
      "ndc9_167140526: 0.0000\n",
      "ndc9_167140795: 0.0000\n",
      "ndc9_167140849: 0.0000\n",
      "ndc9_167290023: 0.0000\n",
      "ndc9_167290081: 0.0000\n",
      "ndc9_231550001: 0.0000\n",
      "ndc9_236350581: 0.0000\n",
      "ndc9_249790085: 0.0000\n",
      "ndc9_249790132: 0.0000\n",
      "ndc9_278080190: 0.0000\n",
      "ndc9_285950801: 0.0000\n",
      "ndc9_293000155: 0.0000\n",
      "ndc9_306980060: 0.0000\n",
      "ndc9_317220141: 0.0000\n",
      "ndc9_317220229: 0.0000\n",
      "ndc9_317220678: 0.0000\n",
      "ndc9_333420087: 0.0000\n",
      "ndc9_360000148: 0.0000\n",
      "ndc9_425710110: 0.0000\n",
      "ndc9_425710119: 0.0000\n",
      "ndc9_427940005: 0.0000\n",
      "ndc9_427940044: 0.0000\n",
      "ndc9_427990217: 0.0000\n",
      "ndc9_428060101: 0.0000\n",
      "ndc9_428580515: 0.0000\n",
      "ndc9_430660007: 0.0000\n",
      "ndc9_435470430: 0.0000\n",
      "ndc9_458020087: 0.0000\n",
      "ndc9_492300645: 0.0000\n",
      "ndc9_497020246: 0.0000\n",
      "ndc9_498840347: 0.0000\n",
      "ndc9_501110450: 0.0000\n",
      "ndc9_502220302: 0.0000\n",
      "ndc9_502280126: 0.0000\n",
      "ndc9_504190405: 0.0000\n",
      "ndc9_504190540: 0.0000\n",
      "ndc9_504580098: 0.0000\n",
      "ndc9_504580550: 0.0000\n",
      "ndc9_504580560: 0.0000\n",
      "ndc9_504580585: 0.0000\n",
      "ndc9_504580639: 0.0000\n",
      "ndc9_507420279: 0.0000\n",
      "ndc9_507420645: 0.0000\n",
      "ndc9_510790306: 0.0000\n",
      "ndc9_512480150: 0.0000\n",
      "ndc9_517590202: 0.0000\n",
      "ndc9_520150080: 0.0000\n",
      "ndc9_528170210: 0.0000\n",
      "ndc9_528170290: 0.0000\n",
      "ndc9_528170364: 0.0000\n",
      "ndc9_534360084: 0.0000\n",
      "ndc9_540920189: 0.0000\n",
      "ndc9_540920381: 0.0000\n",
      "ndc9_540920468: 0.0000\n",
      "ndc9_540920476: 0.0000\n",
      "ndc9_540920513: 0.0000\n",
      "ndc9_551110533: 0.0000\n",
      "ndc9_572370097: 0.0000\n",
      "ndc9_572370157: 0.0000\n",
      "ndc9_576640437: 0.0000\n",
      "ndc9_578440105: 0.0000\n",
      "ndc9_578940640: 0.0000\n",
      "ndc9_581510078: 0.0000\n",
      "ndc9_586570508: 0.0000\n",
      "ndc9_589140170: 0.0000\n",
      "ndc9_589140601: 0.0000\n",
      "ndc9_590110410: 0.0000\n",
      "ndc9_590110750: 0.0000\n",
      "ndc9_591480006: 0.0000\n",
      "ndc9_591480018: 0.0000\n",
      "ndc9_591480035: 0.0000\n",
      "ndc9_593100406: 0.0000\n",
      "ndc9_596510137: 0.0000\n",
      "ndc9_596510299: 0.0000\n",
      "ndc9_596510499: 0.0000\n",
      "ndc9_596510657: 0.0000\n",
      "ndc9_604320065: 0.0000\n",
      "ndc9_606310412: 0.0000\n",
      "ndc9_613140044: 0.0000\n",
      "ndc9_613140238: 0.0000\n",
      "ndc9_613140628: 0.0000\n",
      "ndc9_614420115: 0.0000\n",
      "ndc9_621350051: 0.0000\n",
      "ndc9_621350068: 0.0000\n",
      "ndc9_621350141: 0.0000\n",
      "ndc9_621350443: 0.0000\n",
      "ndc9_621350453: 0.0000\n",
      "ndc9_623320624: 0.0000\n",
      "ndc9_623320707: 0.0000\n",
      "ndc9_625590380: 0.0000\n",
      "ndc9_625590660: 0.0000\n",
      "ndc9_633040718: 0.0000\n",
      "ndc9_633230030: 0.0000\n",
      "ndc9_633230161: 0.0000\n",
      "ndc9_633230284: 0.0000\n",
      "ndc9_633230306: 0.0000\n",
      "ndc9_637390370: 0.0000\n",
      "ndc9_643800166: 0.0000\n",
      "ndc9_649800329: 0.0000\n",
      "ndc9_651620023: 0.0000\n",
      "ndc9_651620750: 0.0000\n",
      "ndc9_651620891: 0.0000\n",
      "ndc9_656490201: 0.0000\n",
      "ndc9_656490301: 0.0000\n",
      "ndc9_656490400: 0.0000\n",
      "ndc9_657570300: 0.0000\n",
      "ndc9_657570651: 0.0000\n",
      "ndc9_658620489: 0.0000\n",
      "ndc9_658620512: 0.0000\n",
      "ndc9_658620867: 0.0000\n",
      "ndc9_658620907: 0.0000\n",
      "ndc9_658620976: 0.0000\n",
      "ndc9_668690104: 0.0000\n",
      "ndc9_669930141: 0.0000\n",
      "ndc9_678770443: 0.0000\n",
      "ndc9_680010187: 0.0000\n",
      "ndc9_680010373: 0.0000\n",
      "ndc9_680010489: 0.0000\n",
      "ndc9_680010490: 0.0000\n",
      "ndc9_681800302: 0.0000\n",
      "ndc9_681800322: 0.0000\n",
      "ndc9_683820050: 0.0000\n",
      "ndc9_683820180: 0.0000\n",
      "ndc9_684620142: 0.0000\n",
      "ndc9_684620233: 0.0000\n",
      "ndc9_684620497: 0.0000\n",
      "ndc9_685460142: 0.0000\n",
      "ndc9_685460317: 0.0000\n",
      "ndc9_686820105: 0.0000\n",
      "ndc9_690760105: 0.0000\n",
      "ndc9_690760913: 0.0000\n",
      "ndc9_690970825: 0.0000\n",
      "ndc9_690970845: 0.0000\n",
      "ndc9_693150164: 0.0000\n",
      "ndc9_693670255: 0.0000\n",
      "ndc9_693670262: 0.0000\n",
      "ndc9_693670298: 0.0000\n",
      "ndc9_694520363: 0.0000\n",
      "ndc9_700100741: 0.0000\n",
      "ndc9_700690017: 0.0000\n",
      "ndc9_703470025: 0.0000\n",
      "ndc9_704360156: 0.0000\n",
      "ndc9_705150610: 0.0000\n",
      "ndc9_705150711: 0.0000\n",
      "ndc9_705390001: 0.0000\n",
      "ndc9_707270497: 0.0000\n",
      "ndc9_707560011: 0.0000\n",
      "ndc9_707560429: 0.0000\n",
      "ndc9_707560607: 0.0000\n",
      "ndc9_708420101: 0.0000\n",
      "ndc9_709540148: 0.0000\n",
      "ndc9_709540504: 0.0000\n",
      "ndc9_719300027: 0.0000\n",
      "ndc9_719300072: 0.0000\n",
      "ndc9_720600110: 0.0000\n",
      "ndc9_722050009: 0.0000\n",
      "ndc9_723050088: 0.0000\n",
      "ndc9_725110750: 0.0000\n",
      "ndc9_725780040: 0.0000\n",
      "ndc9_726030112: 0.0000\n",
      "ndc9_726030118: 0.0000\n",
      "ndc9_735210030: 0.0000\n",
      "ndc9_758340158: 0.0000\n",
      "ndc9_759070043: 0.0000\n",
      "ndc9_762820522: 0.0000\n",
      "ndc9_762820739: 0.0000\n",
      "ndc9_763850107: 0.0000\n",
      "ndc9_763850114: 0.0000\n",
      "ndc9_782060139: 0.0000\n",
      "ndc9_782060152: 0.0000\n",
      "ndc9_782060153: 0.0000\n",
      "ndc9_782060160: 0.0000\n",
      "ndc9_782060178: 0.0000\n",
      "ndc9_819680045: 0.0000\n",
      "ndc9_820090119: 0.0000\n",
      "ndc9_822600602: 0.0000\n",
      "ndc9_832570014: 0.0000\n"
     ]
    }
   ],
   "source": [
    "# Get feature importance scores\n",
    "importances=grboost.feature_importances_\n",
    "feature_importance_pairs=list(zip(X_train_under.columns, importances))\n",
    "\n",
    "# Sort in descending order\n",
    "sorted_feature_importance_pairs = sorted(feature_importance_pairs, key=lambda x: x[1], reverse=True)\n",
    "\n",
    "# Print scores\n",
    "print(\"Feature Importance Scores\")\n",
    "for feature, importance in sorted_feature_importance_pairs:\n",
    "     print(f\"{feature}: {importance:.4f}\")"
   ]
  },
  {
   "cell_type": "markdown",
   "id": "70b13cc0",
   "metadata": {},
   "source": [
    "## Non-parametric"
   ]
  },
  {
   "cell_type": "markdown",
   "id": "e9c8fe6c",
   "metadata": {},
   "source": [
    "### K-Nearest Neighbors Classifier"
   ]
  },
  {
   "cell_type": "markdown",
   "id": "74f223d5-859c-4550-80c7-08ad7bd22941",
   "metadata": {},
   "source": [
    "#### Grid Search"
   ]
  },
  {
   "cell_type": "code",
   "execution_count": 74,
   "id": "a41251dd",
   "metadata": {},
   "outputs": [
    {
     "name": "stdout",
     "output_type": "stream",
     "text": [
      "Fitting 5 folds for each of 11 candidates, totalling 55 fits\n",
      "Best Parameters for KNN: {'n_neighbors': 1}\n",
      "Best Score for KNN: 0.7849949341438702\n",
      "Best KNN Model:\n",
      "KNeighborsClassifier(n_neighbors=1)\n"
     ]
    }
   ],
   "source": [
    "# Define the parameter grid for GridSearchCV\n",
    "param_grid = {\n",
    "    'n_neighbors': [1, 3, 5, 7, 9, 11, 13, 15, 17, 19, 21]  # Example range for number of neighbors\n",
    "}\n",
    "\n",
    "# Initialize the K-Nearest Neighbors Classifier\n",
    "knn = KNeighborsClassifier()\n",
    "\n",
    "# Initialize GridSearchCV\n",
    "grid_search_knn = GridSearchCV(estimator=knn,\n",
    "                               param_grid=param_grid,\n",
    "                               cv=5,  # Number of cross-validation folds\n",
    "                               scoring='accuracy',  # Use accuracy as the scoring metric\n",
    "                               n_jobs=-1,  # Use all available cores\n",
    "                               verbose=2)  # Print progress messages\n",
    "\n",
    "# Fit GridSearchCV to the data\n",
    "grid_search_knn.fit(X_train_under, y_train_under.values.ravel())\n",
    "\n",
    "# Get the best model from the grid search\n",
    "knn = grid_search_knn.best_estimator_\n",
    "\n",
    "# Print the best parameters and the best score\n",
    "print(\"Best Parameters for KNN:\", grid_search_knn.best_params_)\n",
    "print(\"Best Score for KNN:\", grid_search_knn.best_score_)\n",
    "\n",
    "# Example: Printing the best model parameters\n",
    "print(\"Best KNN Model:\")\n",
    "print(knn)"
   ]
  },
  {
   "cell_type": "markdown",
   "id": "88560973-090c-4d76-8193-6710914928f6",
   "metadata": {},
   "source": [
    "#### Fit Model on Testing Data, Model Performance Metrics"
   ]
  },
  {
   "cell_type": "code",
   "execution_count": 75,
   "id": "68f78994-f7a0-4cee-91b1-20e7567629f9",
   "metadata": {},
   "outputs": [
    {
     "data": {
      "text/html": [
       "<div>\n",
       "<style scoped>\n",
       "    .dataframe tbody tr th:only-of-type {\n",
       "        vertical-align: middle;\n",
       "    }\n",
       "\n",
       "    .dataframe tbody tr th {\n",
       "        vertical-align: top;\n",
       "    }\n",
       "\n",
       "    .dataframe thead th {\n",
       "        text-align: right;\n",
       "    }\n",
       "</style>\n",
       "<table border=\"1\" class=\"dataframe\">\n",
       "  <thead>\n",
       "    <tr style=\"text-align: right;\">\n",
       "      <th></th>\n",
       "      <th>model</th>\n",
       "      <th>class</th>\n",
       "      <th>accuracy</th>\n",
       "      <th>precision</th>\n",
       "      <th>recall</th>\n",
       "      <th>f1_score</th>\n",
       "      <th>specificity</th>\n",
       "    </tr>\n",
       "  </thead>\n",
       "  <tbody>\n",
       "    <tr>\n",
       "      <th>0</th>\n",
       "      <td>knn</td>\n",
       "      <td>0</td>\n",
       "      <td>0.699</td>\n",
       "      <td>0.196</td>\n",
       "      <td>0.917</td>\n",
       "      <td>0.324</td>\n",
       "      <td>0.997</td>\n",
       "    </tr>\n",
       "    <tr>\n",
       "      <th>1</th>\n",
       "      <td>knn</td>\n",
       "      <td>1</td>\n",
       "      <td>0.699</td>\n",
       "      <td>0.897</td>\n",
       "      <td>0.651</td>\n",
       "      <td>0.755</td>\n",
       "      <td>0.516</td>\n",
       "    </tr>\n",
       "    <tr>\n",
       "      <th>2</th>\n",
       "      <td>knn</td>\n",
       "      <td>2</td>\n",
       "      <td>0.699</td>\n",
       "      <td>0.618</td>\n",
       "      <td>0.793</td>\n",
       "      <td>0.695</td>\n",
       "      <td>0.910</td>\n",
       "    </tr>\n",
       "  </tbody>\n",
       "</table>\n",
       "</div>"
      ],
      "text/plain": [
       "  model  class  accuracy  precision  recall  f1_score  specificity\n",
       "0   knn      0     0.699      0.196   0.917     0.324        0.997\n",
       "1   knn      1     0.699      0.897   0.651     0.755        0.516\n",
       "2   knn      2     0.699      0.618   0.793     0.695        0.910"
      ]
     },
     "execution_count": 75,
     "metadata": {},
     "output_type": "execute_result"
    }
   ],
   "source": [
    "model_name = 'knn'\n",
    "\n",
    "# Run model on test data, generate confusion matrix, save y_pred\n",
    "knn_metrics_df, knn_img_path, knn_y_pred = evaluate_model(knn, X_test_encoded, y_test, labels=[0, 1, 2], model_name=model_name)\n",
    "\n",
    "knn_metrics_df.head()"
   ]
  },
  {
   "cell_type": "markdown",
   "id": "b2cd199b-8e23-47a2-8cdb-08f9202a4244",
   "metadata": {},
   "source": [
    "#### Get Probabilities for AUC"
   ]
  },
  {
   "cell_type": "code",
   "execution_count": 76,
   "id": "2ba3cd6f-9a6f-4bc0-b26a-a090b5afa311",
   "metadata": {},
   "outputs": [],
   "source": [
    "knn_y_pred_proba = knn.predict_proba(X_test_encoded)  # This should be a 2D array"
   ]
  },
  {
   "cell_type": "markdown",
   "id": "e111a0ce-dbf8-4446-b70b-0914cba60db9",
   "metadata": {},
   "source": [
    "#### View Classification Matrix"
   ]
  },
  {
   "cell_type": "code",
   "execution_count": 77,
   "id": "c8c59e4e-60fc-4c8f-bcc2-aae2fb4620f1",
   "metadata": {
    "scrolled": true
   },
   "outputs": [
    {
     "data": {
      "image/png": "[encoded data removed]",
      "text/plain": [
       "<IPython.core.display.Image object>"
      ]
     },
     "metadata": {},
     "output_type": "display_data"
    }
   ],
   "source": [
    "display(Image(filename=knn_img_path))"
   ]
  },
  {
   "cell_type": "markdown",
   "id": "7196706c-7cc8-4b64-954b-a0e1c94a8583",
   "metadata": {},
   "source": [
    "#### Other Metrics"
   ]
  },
  {
   "cell_type": "code",
   "execution_count": null,
   "id": "21d0b911",
   "metadata": {},
   "outputs": [],
   "source": []
  },
  {
   "cell_type": "markdown",
   "id": "21f3a01c",
   "metadata": {},
   "source": [
    "### Neural Network"
   ]
  },
  {
   "cell_type": "code",
   "execution_count": 78,
   "id": "8f67e018",
   "metadata": {},
   "outputs": [],
   "source": [
    "# train"
   ]
  },
  {
   "cell_type": "code",
   "execution_count": 79,
   "id": "c0743265",
   "metadata": {},
   "outputs": [],
   "source": [
    "# feature importance"
   ]
  },
  {
   "cell_type": "code",
   "execution_count": 80,
   "id": "4c723211",
   "metadata": {},
   "outputs": [],
   "source": [
    "# "
   ]
  },
  {
   "cell_type": "markdown",
   "id": "82f4554b-b09e-409c-89a1-8d7f90c54711",
   "metadata": {},
   "source": [
    "### Baseline"
   ]
  },
  {
   "cell_type": "code",
   "execution_count": 81,
   "id": "d10cb1be-d022-4a01-97d7-d23aaa202be5",
   "metadata": {},
   "outputs": [
    {
     "data": {
      "text/html": [
       "<div>\n",
       "<style scoped>\n",
       "    .dataframe tbody tr th:only-of-type {\n",
       "        vertical-align: middle;\n",
       "    }\n",
       "\n",
       "    .dataframe tbody tr th {\n",
       "        vertical-align: top;\n",
       "    }\n",
       "\n",
       "    .dataframe thead th {\n",
       "        text-align: right;\n",
       "    }\n",
       "</style>\n",
       "<table border=\"1\" class=\"dataframe\">\n",
       "  <thead>\n",
       "    <tr style=\"text-align: right;\">\n",
       "      <th></th>\n",
       "      <th>model</th>\n",
       "      <th>class</th>\n",
       "      <th>accuracy</th>\n",
       "      <th>precision</th>\n",
       "      <th>recall</th>\n",
       "      <th>f1_score</th>\n",
       "      <th>specificity</th>\n",
       "    </tr>\n",
       "  </thead>\n",
       "  <tbody>\n",
       "    <tr>\n",
       "      <th>0</th>\n",
       "      <td>Baseline</td>\n",
       "      <td>0</td>\n",
       "      <td>0.691</td>\n",
       "      <td>0.000</td>\n",
       "      <td>0.0</td>\n",
       "      <td>0.000</td>\n",
       "      <td>0.970</td>\n",
       "    </tr>\n",
       "    <tr>\n",
       "      <th>1</th>\n",
       "      <td>Baseline</td>\n",
       "      <td>1</td>\n",
       "      <td>0.691</td>\n",
       "      <td>0.691</td>\n",
       "      <td>1.0</td>\n",
       "      <td>0.818</td>\n",
       "      <td>NaN</td>\n",
       "    </tr>\n",
       "    <tr>\n",
       "      <th>2</th>\n",
       "      <td>Baseline</td>\n",
       "      <td>2</td>\n",
       "      <td>0.691</td>\n",
       "      <td>0.000</td>\n",
       "      <td>0.0</td>\n",
       "      <td>0.000</td>\n",
       "      <td>0.721</td>\n",
       "    </tr>\n",
       "  </tbody>\n",
       "</table>\n",
       "</div>"
      ],
      "text/plain": [
       "      model  class  accuracy  precision  recall  f1_score  specificity\n",
       "0  Baseline      0     0.691      0.000     0.0     0.000        0.970\n",
       "1  Baseline      1     0.691      0.691     1.0     0.818          NaN\n",
       "2  Baseline      2     0.691      0.000     0.0     0.000        0.721"
      ]
     },
     "execution_count": 81,
     "metadata": {},
     "output_type": "execute_result"
    }
   ],
   "source": [
    "from sklearn.dummy import DummyClassifier\n",
    "\n",
    "baseline_model = DummyClassifier(strategy='most_frequent')\n",
    "baseline_model.fit(X_test_encoded, y_test)\n",
    "baseline_metrics_df, baseline_img_path, _ = evaluate_model(\n",
    "    baseline_model, X_test_encoded, y_test, labels=[0, 1, 2], model_name='Baseline'\n",
    ")\n",
    "baseline_metrics_df"
   ]
  },
  {
   "cell_type": "markdown",
   "id": "5a35ac01",
   "metadata": {},
   "source": [
    "# Performance Metrics Table"
   ]
  },
  {
   "cell_type": "code",
   "execution_count": 97,
   "id": "674b080b",
   "metadata": {},
   "outputs": [
    {
     "name": "stdout",
     "output_type": "stream",
     "text": [
      "+-------------+-------+----------+-----------+--------+----------+-------------+\n",
      "|    model    | class | accuracy | precision | recall | f1_score | specificity |\n",
      "+-------------+-------+----------+-----------+--------+----------+-------------+\n",
      "|  Baseline   |   0   |  0.691   |    0.0    |  0.0   |   0.0    |    0.97     |\n",
      "|  Baseline   |   1   |  0.691   |   0.691   |  1.0   |  0.818   |     nan     |\n",
      "|  Baseline   |   2   |  0.691   |    0.0    |  0.0   |   0.0    |    0.721    |\n",
      "|   log_l1    |   0   |  0.704   |    0.4    | 0.889  |  0.552   |    0.996    |\n",
      "|   log_l1    |   1   |  0.704   |   0.852   | 0.703  |  0.771   |    0.522    |\n",
      "|   log_l1    |   2   |  0.704   |   0.526   | 0.686  |  0.596   |    0.863    |\n",
      "|   log_l2    |   0   |  0.694   |   0.39    | 0.889  |  0.542   |    0.996    |\n",
      "|   log_l2    |   1   |  0.694   |   0.859   | 0.678  |  0.758   |    0.51     |\n",
      "|   log_l2    |   2   |  0.694   |   0.514   | 0.713  |  0.597   |    0.87     |\n",
      "| elastic_net |   0   |  0.692   |   0.39    | 0.889  |  0.542   |    0.996    |\n",
      "| elastic_net |   1   |  0.692   |   0.856   | 0.679  |  0.757   |    0.508    |\n",
      "| elastic_net |   2   |  0.692   |   0.512   | 0.704  |  0.593   |    0.866    |\n",
      "|    tree1    |   0   |  0.798   |   0.349   | 0.833  |  0.492   |    0.995    |\n",
      "|    tree1    |   1   |  0.798   |   0.913   | 0.796  |  0.851   |    0.645    |\n",
      "|    tree1    |   2   |  0.798   |   0.685   | 0.799  |  0.738   |    0.917    |\n",
      "|     rf      |   0   |  0.815   |    0.4    | 0.889  |  0.552   |    0.996    |\n",
      "|     rf      |   1   |  0.815   |   0.922   | 0.808  |  0.861   |    0.663    |\n",
      "|     rf      |   2   |  0.815   |   0.702   | 0.823  |  0.758   |    0.927    |\n",
      "|     knn     |   0   |  0.699   |   0.196   | 0.917  |  0.324   |    0.997    |\n",
      "|     knn     |   1   |  0.699   |   0.897   | 0.651  |  0.755   |    0.516    |\n",
      "|     knn     |   2   |  0.699   |   0.618   | 0.793  |  0.695   |    0.91     |\n",
      "|   grboost   |   0   |  0.834   |    0.4    | 0.944  |  0.562   |    0.998    |\n",
      "|   grboost   |   1   |  0.834   |   0.936   | 0.825  |  0.877   |    0.69     |\n",
      "|   grboost   |   2   |  0.834   |   0.736   | 0.844  |  0.787   |    0.936    |\n",
      "+-------------+-------+----------+-----------+--------+----------+-------------+\n"
     ]
    }
   ],
   "source": [
    "def display_model_metrics_table(metrics_dfs):\n",
    "    # Concatenate all DataFrames\n",
    "    combined_df = pd.concat(metrics_dfs, ignore_index=True)\n",
    "    \n",
    "    # Convert DataFrame to a list of lists for tabulate\n",
    "    table = combined_df.values.tolist()\n",
    "    \n",
    "    # Get column headers from DataFrame\n",
    "    headers = combined_df.columns.tolist()\n",
    "    \n",
    "    # Generate and print the table\n",
    "    table_str = tabulate(table, headers, tablefmt='pretty')\n",
    "    print(table_str)\n",
    "    return combined_df\n",
    "\n",
    "model_metrics = display_model_metrics_table([baseline_metrics_df,log_l1_metrics_df, log_l2_metrics_df, elastic_net_metrics_df,\n",
    "                           tree1_metrics_df, rf_metrics_df, knn_metrics_df, grboost_metrics_df])  # grboost_metrics_df"
   ]
  },
  {
   "cell_type": "markdown",
   "id": "f3c3c7e1-478f-473f-97b2-a47e33ba547a",
   "metadata": {},
   "source": [
    "### Show Class Outcomes more Cleanly for Paper\n",
    "\n",
    "Saves as csv, that can copy paste into the Excel file within the same folder. This makes it easy to paste the values into the paper"
   ]
  },
  {
   "cell_type": "code",
   "execution_count": 98,
   "id": "c19df7dd",
   "metadata": {},
   "outputs": [
    {
     "name": "stdout",
     "output_type": "stream",
     "text": [
      "                            model Accuracy Precision (class 0,1,2)  \\\n",
      "0                        Baseline    69.1%     [0.0%, 69.1%, 0.0%]   \n",
      "1                     Elastic Net    69.2%   [39.0%, 85.6%, 51.2%]   \n",
      "2  Gradient Boosted Decision Tree    83.4%   [40.0%, 93.6%, 73.6%]   \n",
      "3                             KNN    69.9%   [19.6%, 89.7%, 61.8%]   \n",
      "4                Lasso Regression    70.4%   [40.0%, 85.2%, 52.6%]   \n",
      "5                Ridge Regression    69.4%   [39.0%, 85.9%, 51.4%]   \n",
      "6                   Random Forest    81.5%   [40.0%, 92.2%, 70.2%]   \n",
      "7                   Decision Tree    79.8%   [34.9%, 91.3%, 68.5%]   \n",
      "\n",
      "    Recall (class 0,1,2) Specificity (class 0,1,2)  F-score (class 0,1,2)  \n",
      "0   [0.0%, 100.0%, 0.0%]      [97.0%, nan%, 72.1%]    [0.0%, 81.8%, 0.0%]  \n",
      "1  [88.9%, 67.9%, 70.4%]     [99.6%, 50.8%, 86.6%]  [54.2%, 75.7%, 59.3%]  \n",
      "2  [94.4%, 82.5%, 84.4%]     [99.8%, 69.0%, 93.6%]  [56.2%, 87.7%, 78.7%]  \n",
      "3  [91.7%, 65.1%, 79.3%]     [99.7%, 51.6%, 91.0%]  [32.4%, 75.5%, 69.5%]  \n",
      "4  [88.9%, 70.3%, 68.6%]     [99.6%, 52.2%, 86.3%]  [55.2%, 77.1%, 59.6%]  \n",
      "5  [88.9%, 67.8%, 71.3%]     [99.6%, 51.0%, 87.0%]  [54.2%, 75.8%, 59.7%]  \n",
      "6  [88.9%, 80.8%, 82.3%]     [99.6%, 66.3%, 92.7%]  [55.2%, 86.1%, 75.8%]  \n",
      "7  [83.3%, 79.6%, 79.9%]     [99.5%, 64.5%, 91.7%]  [49.2%, 85.1%, 73.8%]  \n"
     ]
    }
   ],
   "source": [
    "\n",
    "def format_as_percentage(df):\n",
    "    # Format metrics as percentage with one decimal point\n",
    " #   df['accuracy'] = df['accuracy'].apply(lambda x: f\"{x * 100:.1f}%\")\n",
    "    df['precision'] = df['precision'].apply(lambda x: f\"{x * 100:.1f}%\")\n",
    "    df['recall'] = df['recall'].apply(lambda x: f\"{x * 100:.1f}%\")\n",
    "    df['specificity'] = df['specificity'].apply(lambda x: f\"{x * 100:.1f}%\")\n",
    "    df['f1_score'] = df['f1_score'].apply(lambda x: f\"{x * 100:.1f}%\")\n",
    "    return df\n",
    "\n",
    "model_metrics = format_as_percentage(model_metrics)\n",
    "\n",
    "def aggregate_metrics(df):\n",
    "    # Group by 'model'\n",
    "    grouped = df.groupby('model').agg({\n",
    "        'accuracy': 'mean',  # Average accuracy\n",
    "        'precision': lambda x: x.tolist(),  # List of precision values\n",
    "        'recall': lambda x: x.tolist(),  # List of recall values\n",
    "        'specificity': lambda x: x.tolist(),  # List of specificity values\n",
    "        'f1_score': lambda x: x.tolist()  # List of F1 scores\n",
    "    }).reset_index()\n",
    "    \n",
    "    return grouped\n",
    "\n",
    "# Apply aggregation function\n",
    "aggregated_df = aggregate_metrics(model_metrics)\n",
    "\n",
    "\n",
    "\n",
    "\n",
    "# Rename columns\n",
    "aggregated_df = aggregated_df.rename(columns={\n",
    "  #  'model': 'Model',\n",
    "    'accuracy': 'Accuracy',\n",
    "    'precision': 'Precision (class 0,1,2)',\n",
    "    'recall': 'Recall (class 0,1,2)',\n",
    "    'f1_score': 'F-score (class 0,1,2)',\n",
    "    'specificity': 'Specificity (class 0,1,2)'\n",
    "})\n",
    "\n",
    "\n",
    "# Rename values in 'model' column\n",
    "aggregated_df['model'] = aggregated_df['model'].replace({\n",
    "    'elastic_net': 'Elastic Net',\n",
    "    'knn': 'KNN',\n",
    "    'tree1': 'Decision Tree',\n",
    "    'log_l1': 'Lasso Regression',\n",
    "    'log_l2': 'Ridge Regression',\n",
    "    'rf': 'Random Forest',\n",
    "    'grboost': 'Gradient Boosted Decision Tree'\n",
    "    \n",
    "})\n",
    "\n",
    "aggregated_df['Accuracy'] = aggregated_df['Accuracy'] .apply(lambda x: f\"{x * 100:.1f}%\")\n",
    "\n",
    "# Display the resulting DataFrame\n",
    "print(aggregated_df)\n",
    "\n",
    "#Save it as a CSV\n",
    "folder_path = 'ModelOutput/withPrices'\n",
    "os.makedirs(folder_path, exist_ok=True)\n",
    "file_path = os.path.join(folder_path, 'aggregated_metrics_withprices.csv')\n",
    "aggregated_df.to_csv(file_path, index=False)\n"
   ]
  },
  {
   "cell_type": "markdown",
   "id": "0a9493c1-d2b8-4f48-8a48-226f2fd00c63",
   "metadata": {},
   "source": [
    "### AUC Curves"
   ]
  },
  {
   "cell_type": "code",
   "execution_count": null,
   "id": "8388da2b-eafe-4a14-b08a-7e97973260e3",
   "metadata": {},
   "outputs": [],
   "source": []
  },
  {
   "cell_type": "code",
   "execution_count": 87,
   "id": "db147135-9050-43dc-93d0-4606b2c50724",
   "metadata": {},
   "outputs": [
    {
     "data": {
      "image/png": "[encoded data removed]",
      "text/plain": [
       "<Figure size 1200x1000 with 1 Axes>"
      ]
     },
     "metadata": {},
     "output_type": "display_data"
    }
   ],
   "source": [
    "import matplotlib.pyplot as plt\n",
    "from sklearn.metrics import roc_curve, auc\n",
    "from sklearn.preprocessing import label_binarize\n",
    "\n",
    "# Enable inline plotting in Jupyter Notebook\n",
    "%matplotlib inline\n",
    "\n",
    "# List of model names\n",
    "model_names = ['Gradient Boost Decision Tree', 'Elastic Net', 'Lasso Regression', 'Ridge Regression', 'Single Decision Tree', 'Random Forest', 'KNN']\n",
    "\n",
    "# List of true labels and predicted probabilities\n",
    "y_tests = [y_test, y_test, y_test, y_test, y_test, y_test, y_test]  # True labels for each model\n",
    "y_pred_probs = [grboost_y_pred_proba, elastic_net_y_pred_proba, log_l1_y_pred_proba, log_l2_y_pred_proba, tree1_y_pred_proba, rf_y_pred_proba, knn_y_pred_proba]  # Predicted probabilities for each model\n",
    "\n",
    "# Colors for each model\n",
    "colors = {\n",
    "    'Gradient Boost Decision Tree': 'blue',\n",
    "    'Elastic Net': 'darkgreen',\n",
    "    'Lasso Regression': 'red',\n",
    "    'Ridge Regression': 'purple',\n",
    "    'Single Decision Tree': 'orange',\n",
    "    'Random Forest': 'lime',  # Distinct color for Random Forest\n",
    "    'KNN': 'magenta'\n",
    "}\n",
    "\n",
    "# Number of classes\n",
    "n_classes = 3\n",
    "\n",
    "# Binarize the output labels for each class\n",
    "y_tests_bin = [label_binarize(y, classes=range(n_classes)) for y in y_tests]\n",
    "\n",
    "plt.figure(figsize=(12, 10))\n",
    "\n",
    "# Class to focus on\n",
    "class_index = 2\n",
    "\n",
    "for model_name, y_test_bin, y_pred_prob in zip(model_names, y_tests_bin, y_pred_probs):\n",
    "    # Compute ROC curve and ROC area for the specific class\n",
    "    fpr, tpr, _ = roc_curve(y_test_bin[:, class_index], y_pred_prob[:, class_index])\n",
    "    roc_auc = auc(fpr, tpr)\n",
    "    \n",
    "    # Set line width and color based on model\n",
    "    if model_name == 'Random Forest':\n",
    "        lw = 4  # Thicker line for Random Forest\n",
    "        color = colors.get(model_name, 'black')  # Color for Random Forest\n",
    "    else:\n",
    "        lw = 2  # Default line width\n",
    "        color = colors.get(model_name, 'black')  # Default color for other models\n",
    "\n",
    "    # Plot ROC curve for the specific class\n",
    "    plt.plot(fpr, tpr, lw=lw, color=color, label=f'{model_name} (class {class_index}) AUC = {roc_auc:.2f}')\n",
    "\n",
    "# Plot random guess line\n",
    "plt.plot([0, 1], [0, 1], 'k--', lw=2)\n",
    "\n",
    "# Set axis labels and title with font sizes\n",
    "plt.xlabel('False Positive Rate', fontsize=14)\n",
    "plt.ylabel('True Positive Rate', fontsize=14)\n",
    "plt.title('Receiver Operating Characteristic (ROC) for Class 2', fontsize=16)\n",
    "\n",
    "# Adjust the size of the axis ticks and legend\n",
    "plt.xticks(fontsize=12)\n",
    "plt.yticks(fontsize=12)\n",
    "plt.legend(loc=\"lower right\", fontsize=12)\n",
    "\n",
    "plt.xlim([0.0, 1.0])\n",
    "plt.ylim([0.0, 1.05])\n",
    "\n",
    "folder_path = 'ModelOutput\\withPrices'\n",
    "img_path = os.path.join(folder_path, 'ROCPlot.png')\n",
    "plt.savefig(img_path)\n",
    "\n",
    "plt.show()\n"
   ]
  },
  {
   "cell_type": "code",
   "execution_count": null,
   "id": "90279b23-4953-435c-a585-9444035d4bcc",
   "metadata": {},
   "outputs": [],
   "source": []
  },
  {
   "cell_type": "code",
   "execution_count": null,
   "id": "8aeda1ff-5e7e-45af-bc70-c31a4164bedf",
   "metadata": {},
   "outputs": [],
   "source": []
  },
  {
   "cell_type": "code",
   "execution_count": null,
   "id": "6cb05ff5-5403-4ebf-9913-19c37623168e",
   "metadata": {},
   "outputs": [],
   "source": []
  },
  {
   "cell_type": "code",
   "execution_count": null,
   "id": "6b1ca55a-5d15-436c-ae7d-111b5b56ab96",
   "metadata": {},
   "outputs": [],
   "source": []
  },
  {
   "cell_type": "code",
   "execution_count": null,
   "id": "f725f9f1-e69f-4091-acf8-5b2a61c05b18",
   "metadata": {},
   "outputs": [],
   "source": []
  }
 ],
 "metadata": {
  "kernelspec": {
   "display_name": "Python 3 (ipykernel)",
   "language": "python",
   "name": "python3"
  },
  "language_info": {
   "codemirror_mode": {
    "name": "ipython",
    "version": 3
   },
   "file_extension": ".py",
   "mimetype": "text/x-python",
   "name": "python",
   "nbconvert_exporter": "python",
   "pygments_lexer": "ipython3",
   "version": "3.8.8"
  }
 },
 "nbformat": 4,
 "nbformat_minor": 5
}
