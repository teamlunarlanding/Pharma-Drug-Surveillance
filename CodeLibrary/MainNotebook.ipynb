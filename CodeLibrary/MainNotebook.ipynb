{
 "cells": [
  {
   "cell_type": "code",
   "execution_count": 1,
   "id": "b8bd681e-e0be-4daa-a388-6d12c39a333a",
   "metadata": {},
   "outputs": [],
   "source": [
    "# Load libraries for OS and System Processes\n",
    "import os\n",
    "import sys\n"
   ]
  },
  {
   "cell_type": "code",
   "execution_count": 2,
   "id": "929084b9-9e86-44e9-9059-e7f9e5405026",
   "metadata": {},
   "outputs": [],
   "source": [
    "# Create a directory for the code workflow files\n",
    "os.makedirs('CodeLibrary', exist_ok=True)\n",
    "\n",
    "# Create a directory for data visualization files\n",
    "os.makedirs('ImageLibrary', exist_ok=True)\n",
    "\n",
    "# Create a directory for data files\n",
    "os.makedirs('DataLibrary', exist_ok=True)\n",
    "\n",
    "# Create a directory for linting\n",
    "os.makedirs('Black', exist_ok=True)\n",
    "\n",
    "# Create a directory for .gitignore to keep repo clean\n",
    "os.makedirs('.gitignore', exist_ok=True)\n",
    "\n",
    "# Create a directory for resources and citations\n",
    "os.makedirs('Resources', exist_ok=True)"
   ]
  },
  {
   "cell_type": "code",
   "execution_count": 3,
   "id": "e9a82fe9-e148-42cb-8d25-c9c1ff5b9f83",
   "metadata": {},
   "outputs": [],
   "source": [
    "# Create .gitignore.txt file with the standard .gitignore content for Jupyter Notebook projects\n",
    "gitignore_content = \"\"\"# Byte-compiled / optimized / DLL files\n",
    "__pycache__/\n",
    "*.py[cod]\n",
    "*$py.class\n",
    "\n",
    "# Distribution / packaging\n",
    ".Python\n",
    "env/\n",
    "venv/\n",
    "ENV/\n",
    "env.bak/\n",
    "venv.bak/\n",
    "*.egg-info/\n",
    ".installed.cfg\n",
    "*.egg\n",
    "\n",
    "# Jupyter Notebook checkpoints\n",
    ".ipynb_checkpoints/\n",
    "\n",
    "# VS Code settings folder\n",
    ".vscode/\n",
    "\n",
    "# Virtual Environment\n",
    ".vscode/*\n",
    "!*.code-workspace\n",
    "*.vscode/settings.json\n",
    "*.vscode/tasks.json\n",
    "*.vscode/launch.json\n",
    "*.vscode/extensions.json\n",
    "*.vscode/*.code-workspace\n",
    "\n",
    "# IPython history\n",
    ".profile_default/history.sqlite\n",
    "\n",
    "# pyenv\n",
    ".python-version\n",
    "\n",
    "# mypy\n",
    ".mypy_cache/\n",
    "\n",
    "# Pyre type checker\n",
    ".pyre/\n",
    "\n",
    "# C extensions\n",
    "*.so\n",
    "\n",
    "# Cython debug symbols\n",
    "cython_debug/\n",
    "\n",
    "# Editor directories and files\n",
    ".vscode/\n",
    ".idea/\n",
    "*.sublime-project\n",
    "*.sublime-workspace\n",
    "\n",
    "# Spyder project settings\n",
    ".spyderproject\n",
    ".spyproject\n",
    "\n",
    "# Jupyter Notebook config files\n",
    ".jupyter/\n",
    "\n",
    "# Jupyter Notebook output files\n",
    "*.nbconvert/\n",
    "\n",
    "# Logs\n",
    "logs/\n",
    "*.log\n",
    "*.out\n",
    "*.err\n",
    "\n",
    "# Docker\n",
    "*.dockerignore\n",
    "\n",
    "# Python-specific\n",
    "*.pyo\n",
    "*.pyd\n",
    "*.pyc\n",
    "__pycache__/\n",
    "\"\"\"\n",
    "with open('.gitignore/.gitignore.txt', 'w') as f:\n",
    "    f.write(gitignore_content)\n"
   ]
  },
  {
   "cell_type": "code",
   "execution_count": 4,
   "id": "b533c189-1e7b-44f6-a041-396062f6f373",
   "metadata": {},
   "outputs": [],
   "source": [
    "# Create .black.txt file with instructions for code cleaning\n",
    "black_text_content = \"\"\"# Install the Black library and then call the black function on the file before committing\n",
    "# pip install \"black[jupyter]\"\n",
    "# Usage:\n",
    "# (base) C:\\\\Users\\\\user> cd repo_location\n",
    "# (base) C:\\\\Users\\\\user> black file.ipynb\n",
    "\"\"\"\n",
    "with open('Black/.black.txt', 'w') as f:\n",
    "    f.write(black_text_content)\n"
   ]
  },
  {
   "cell_type": "code",
   "execution_count": null,
   "id": "3c2fc201-2fd0-4262-86b5-50dab26d92d8",
   "metadata": {},
   "outputs": [],
   "source": []
  },
  {
   "cell_type": "code",
   "execution_count": null,
   "id": "c53d4beb-df5e-42b7-82e6-2001eea69807",
   "metadata": {},
   "outputs": [],
   "source": []
  },
  {
   "cell_type": "code",
   "execution_count": null,
   "id": "0f2b8818-7077-4a7e-abe3-39656bffdd5d",
   "metadata": {},
   "outputs": [],
   "source": []
  },
  {
   "cell_type": "code",
   "execution_count": null,
   "id": "96dc9712-1110-4f13-9577-d21733c6a66e",
   "metadata": {},
   "outputs": [],
   "source": []
  },
  {
   "cell_type": "code",
   "execution_count": null,
   "id": "f4f17168-23e7-4ee0-ba13-e9991b6861b7",
   "metadata": {},
   "outputs": [],
   "source": []
  },
  {
   "cell_type": "code",
   "execution_count": null,
   "id": "a6f3b19b-8231-4c09-ade0-a40b1f71fe70",
   "metadata": {},
   "outputs": [],
   "source": []
  },
  {
   "cell_type": "code",
   "execution_count": null,
   "id": "4c84e5ed-c504-4f74-b5be-e62028839eb7",
   "metadata": {},
   "outputs": [],
   "source": []
  },
  {
   "cell_type": "code",
   "execution_count": null,
   "id": "52046e5d-08b7-4c47-979c-293dc911496c",
   "metadata": {},
   "outputs": [],
   "source": []
  },
  {
   "cell_type": "code",
   "execution_count": null,
   "id": "c07ae42b-93a0-454f-b85a-9a430ef4e73e",
   "metadata": {},
   "outputs": [],
   "source": []
  },
  {
   "cell_type": "code",
   "execution_count": null,
   "id": "61c91aec-6c18-4eb0-a06b-d636d700efb4",
   "metadata": {},
   "outputs": [],
   "source": []
  },
  {
   "cell_type": "code",
   "execution_count": null,
   "id": "7dd85b52-9537-4dc5-8546-06863dcad0a5",
   "metadata": {},
   "outputs": [],
   "source": []
  },
  {
   "cell_type": "code",
   "execution_count": null,
   "id": "6fdad22c-db43-42a9-b37f-5c7c220a8b3c",
   "metadata": {},
   "outputs": [],
   "source": []
  },
  {
   "cell_type": "code",
   "execution_count": null,
   "id": "a5ed9cc7-fbc1-471d-a02f-c156477d2949",
   "metadata": {},
   "outputs": [],
   "source": []
  },
  {
   "cell_type": "code",
   "execution_count": null,
   "id": "33ed2354-14b5-4b37-9ea6-e858a85e8c9f",
   "metadata": {},
   "outputs": [],
   "source": []
  }
 ],
 "metadata": {
  "kernelspec": {
   "display_name": "Python 3 (ipykernel)",
   "language": "python",
   "name": "python3"
  },
  "language_info": {
   "codemirror_mode": {
    "name": "ipython",
    "version": 3
   },
   "file_extension": ".py",
   "mimetype": "text/x-python",
   "name": "python",
   "nbconvert_exporter": "python",
   "pygments_lexer": "ipython3",
   "version": "3.8.8"
  }
 },
 "nbformat": 4,
 "nbformat_minor": 5
}
