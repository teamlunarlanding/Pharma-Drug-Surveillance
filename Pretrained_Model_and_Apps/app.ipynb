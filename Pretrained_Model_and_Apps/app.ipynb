{
 "cells": [
  {
   "cell_type": "code",
   "execution_count": 9,
   "id": "2b5e2d85",
   "metadata": {},
   "outputs": [],
   "source": [
    "import os\n",
    "import streamlit as st\n",
    "import joblib\n",
    "import pandas as pd\n",
    "import numpy as np"
   ]
  },
  {
   "cell_type": "code",
   "execution_count": 4,
   "id": "e218e499",
   "metadata": {},
   "outputs": [],
   "source": [
    "# Load the model and scalers\n",
    "model = joblib.load('Pretrained_Model_and_Apps/rf.joblib')\n",
    "age_scaler = joblib.load('Pretrained_Model_and_Apps/age_scaler.joblib')\n",
    "weight_scaler = joblib.load('Pretrained_Model_and_Apps/weight_scaler.joblib')\n",
    "price_scaler = joblib.load('Pretrained_Model_and_Apps/price_scaler.joblib')"
   ]
  },
  {
   "cell_type": "code",
   "execution_count": 5,
   "id": "426ec4e2",
   "metadata": {},
   "outputs": [],
   "source": [
    "# Example list of NDC9 codes used in the model\n",
    "ndc9_codes = joblib.load('Pretrained_Model_and_Apps/ndc9_codes.joblib')\n",
    "\n",
    "# Create a mapping from NDC9 code to index\n",
    "ndc9_code_to_index = {code: idx for idx, code in enumerate(ndc9_codes)}"
   ]
  },
  {
   "cell_type": "code",
   "execution_count": 6,
   "id": "e6c9971c",
   "metadata": {},
   "outputs": [],
   "source": [
    "# Define the one-hot encoding function\n",
    "def one_hot_encode_ndc9(ndc9_code, ndc9_code_to_index, num_codes=1750):\n",
    "    one_hot = np.zeros(num_codes)\n",
    "    if ndc9_code in ndc9_code_to_index:\n",
    "        one_hot[ndc9_code_to_index[ndc9_code]] = 1\n",
    "    return one_hot\n",
    "\n",
    "# Define the prediction function\n",
    "def predict(age, weight, sex, drug_unit_price, ndc9_code):\n",
    "    # Preprocess the inputs\n",
    "    sex = 1 if sex.lower() == 'female' else 0\n",
    "    age_scaled = age_scaler.transform([[age]])[0][0]\n",
    "    weight_scaled = weight_scaler.transform([[weight]])[0][0]\n",
    "    price_scaled = price_scaler.transform([[drug_unit_price]])[0][0]\n",
    "    one_hot_ndc9 = one_hot_encode_ndc9(ndc9_code, ndc9_code_to_index)\n",
    "    input_data = np.concatenate(([age_scaled, weight_scaled, sex, price_scaled], one_hot_ndc9))\n",
    "    input_data = input_data.reshape(1, -1)  # Reshape to 2D array\n",
    "    prediction = model.predict(input_data)\n",
    "    return prediction[0]"
   ]
  },
  {
   "cell_type": "code",
   "execution_count": 7,
   "id": "0c258d02",
   "metadata": {},
   "outputs": [
    {
     "name": "stderr",
     "output_type": "stream",
     "text": [
      "2024-08-07 14:48:56.148 \n",
      "  \u001b[33m\u001b[1mWarning:\u001b[0m to view this Streamlit app on a browser, run it with the following\n",
      "  command:\n",
      "\n",
      "    streamlit run C:\\Users\\halee\\anaconda3\\lib\\site-packages\\ipykernel_launcher.py [ARGUMENTS]\n"
     ]
    }
   ],
   "source": [
    "# Streamlit app interface\n",
    "st.title('Adverse Drug Reaction Outcome Prediction')\n",
    "\n",
    "age = st.number_input('Age', min_value=0, max_value=120, value=30)\n",
    "weight = st.number_input('Weight (kg)', min_value=0.0, value=70.0)\n",
    "sex = st.selectbox('Sex', ['Male', 'Female'])\n",
    "unit_price = st.number_input('Drug Price per Unit', min_value=0.0, value=10.0)\n",
    "ndc9_code = st.text_input('Drug NDC9 Code (replace dash with 0)')\n",
    "\n",
    "if st.button('Predict'):\n",
    "    prediction = predict(age, weight, sex, unit_price, ndc9_code)\n",
    "    if prediction == 0:\n",
    "        st.success('Prediction: Non-serious')\n",
    "    elif prediction == 1:\n",
    "        st.warning('Prediction: Serious')\n",
    "    else:\n",
    "        st.error('Prediction: Death')"
   ]
  },
  {
   "cell_type": "code",
   "execution_count": null,
   "id": "96b5d4ce",
   "metadata": {},
   "outputs": [],
   "source": []
  }
 ],
 "metadata": {
  "kernelspec": {
   "display_name": "Python 3 (ipykernel)",
   "language": "python",
   "name": "python3"
  },
  "language_info": {
   "codemirror_mode": {
    "name": "ipython",
    "version": 3
   },
   "file_extension": ".py",
   "mimetype": "text/x-python",
   "name": "python",
   "nbconvert_exporter": "python",
   "pygments_lexer": "ipython3",
   "version": "3.9.18"
  }
 },
 "nbformat": 4,
 "nbformat_minor": 5
}
