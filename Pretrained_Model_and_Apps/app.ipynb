{
 "cells": [
  {
   "cell_type": "code",
   "execution_count": 8,
   "id": "2b5e2d85",
   "metadata": {},
   "outputs": [
    {
     "name": "stdout",
     "output_type": "stream",
     "text": [
      "Requirement already satisfied: joblib in c:\\users\\halee\\anaconda3\\lib\\site-packages (1.3.2)\n",
      "Requirement already satisfied: streamlit in c:\\users\\halee\\anaconda3\\lib\\site-packages (1.32.2)\n",
      "Requirement already satisfied: altair<6,>=4.0 in c:\\users\\halee\\anaconda3\\lib\\site-packages (from streamlit) (5.2.0)\n",
      "Requirement already satisfied: blinker<2,>=1.0.0 in c:\\users\\halee\\anaconda3\\lib\\site-packages (from streamlit) (1.7.0)\n",
      "Requirement already satisfied: cachetools<6,>=4.0 in c:\\users\\halee\\anaconda3\\lib\\site-packages (from streamlit) (5.3.3)\n",
      "Requirement already satisfied: click<9,>=7.0 in c:\\users\\halee\\anaconda3\\lib\\site-packages (from streamlit) (8.1.7)\n",
      "Requirement already satisfied: numpy<2,>=1.19.3 in c:\\users\\halee\\anaconda3\\lib\\site-packages (from streamlit) (1.26.4)\n",
      "Requirement already satisfied: packaging<24,>=16.8 in c:\\users\\halee\\anaconda3\\lib\\site-packages (from streamlit) (23.2)\n",
      "Requirement already satisfied: pandas<3,>=1.3.0 in c:\\users\\halee\\anaconda3\\lib\\site-packages (from streamlit) (2.2.1)\n",
      "Requirement already satisfied: pillow<11,>=7.1.0 in c:\\users\\halee\\anaconda3\\lib\\site-packages (from streamlit) (10.2.0)\n",
      "Requirement already satisfied: protobuf<5,>=3.20 in c:\\users\\halee\\anaconda3\\lib\\site-packages (from streamlit) (3.20.3)\n",
      "Requirement already satisfied: pyarrow>=7.0 in c:\\users\\halee\\anaconda3\\lib\\site-packages (from streamlit) (14.0.2)\n",
      "Requirement already satisfied: requests<3,>=2.27 in c:\\users\\halee\\anaconda3\\lib\\site-packages (from streamlit) (2.31.0)\n",
      "Requirement already satisfied: rich<14,>=10.14.0 in c:\\users\\halee\\anaconda3\\lib\\site-packages (from streamlit) (13.7.1)\n",
      "Requirement already satisfied: tenacity<9,>=8.1.0 in c:\\users\\halee\\anaconda3\\lib\\site-packages (from streamlit) (8.2.3)\n",
      "Requirement already satisfied: toml<2,>=0.10.1 in c:\\users\\halee\\anaconda3\\lib\\site-packages (from streamlit) (0.10.2)\n",
      "Requirement already satisfied: typing-extensions<5,>=4.3.0 in c:\\users\\halee\\anaconda3\\lib\\site-packages (from streamlit) (4.10.0)\n",
      "Requirement already satisfied: gitpython!=3.1.19,<4,>=3.0.7 in c:\\users\\halee\\anaconda3\\lib\\site-packages (from streamlit) (3.1.42)\n",
      "Requirement already satisfied: pydeck<1,>=0.8.0b4 in c:\\users\\halee\\anaconda3\\lib\\site-packages (from streamlit) (0.8.0b4)\n",
      "Requirement already satisfied: tornado<7,>=6.0.3 in c:\\users\\halee\\anaconda3\\lib\\site-packages (from streamlit) (6.4)\n",
      "Requirement already satisfied: watchdog>=2.1.5 in c:\\users\\halee\\anaconda3\\lib\\site-packages (from streamlit) (4.0.0)\n",
      "Requirement already satisfied: jinja2 in c:\\users\\halee\\anaconda3\\lib\\site-packages (from altair<6,>=4.0->streamlit) (3.1.3)\n",
      "Requirement already satisfied: jsonschema>=3.0 in c:\\users\\halee\\anaconda3\\lib\\site-packages (from altair<6,>=4.0->streamlit) (4.21.1)\n",
      "Requirement already satisfied: toolz in c:\\users\\halee\\anaconda3\\lib\\site-packages (from altair<6,>=4.0->streamlit) (0.12.1)\n",
      "Requirement already satisfied: colorama in c:\\users\\halee\\anaconda3\\lib\\site-packages (from click<9,>=7.0->streamlit) (0.4.6)\n",
      "Requirement already satisfied: gitdb<5,>=4.0.1 in c:\\users\\halee\\anaconda3\\lib\\site-packages (from gitpython!=3.1.19,<4,>=3.0.7->streamlit) (4.0.11)\n",
      "Requirement already satisfied: python-dateutil>=2.8.2 in c:\\users\\halee\\anaconda3\\lib\\site-packages (from pandas<3,>=1.3.0->streamlit) (2.9.0)\n",
      "Requirement already satisfied: pytz>=2020.1 in c:\\users\\halee\\anaconda3\\lib\\site-packages (from pandas<3,>=1.3.0->streamlit) (2024.1)\n",
      "Requirement already satisfied: tzdata>=2022.7 in c:\\users\\halee\\anaconda3\\lib\\site-packages (from pandas<3,>=1.3.0->streamlit) (2024.1)\n",
      "Requirement already satisfied: charset-normalizer<4,>=2 in c:\\users\\halee\\anaconda3\\lib\\site-packages (from requests<3,>=2.27->streamlit) (3.3.2)\n",
      "Requirement already satisfied: idna<4,>=2.5 in c:\\users\\halee\\anaconda3\\lib\\site-packages (from requests<3,>=2.27->streamlit) (3.6)\n",
      "Requirement already satisfied: urllib3<3,>=1.21.1 in c:\\users\\halee\\anaconda3\\lib\\site-packages (from requests<3,>=2.27->streamlit) (1.26.15)\n",
      "Requirement already satisfied: certifi>=2017.4.17 in c:\\users\\halee\\anaconda3\\lib\\site-packages (from requests<3,>=2.27->streamlit) (2024.2.2)\n",
      "Requirement already satisfied: markdown-it-py>=2.2.0 in c:\\users\\halee\\anaconda3\\lib\\site-packages (from rich<14,>=10.14.0->streamlit) (3.0.0)\n",
      "Requirement already satisfied: pygments<3.0.0,>=2.13.0 in c:\\users\\halee\\anaconda3\\lib\\site-packages (from rich<14,>=10.14.0->streamlit) (2.17.2)\n",
      "Requirement already satisfied: smmap<6,>=3.0.1 in c:\\users\\halee\\anaconda3\\lib\\site-packages (from gitdb<5,>=4.0.1->gitpython!=3.1.19,<4,>=3.0.7->streamlit) (5.0.0)\n",
      "Requirement already satisfied: MarkupSafe>=2.0 in c:\\users\\halee\\anaconda3\\lib\\site-packages (from jinja2->altair<6,>=4.0->streamlit) (2.1.5)\n",
      "Requirement already satisfied: attrs>=22.2.0 in c:\\users\\halee\\anaconda3\\lib\\site-packages (from jsonschema>=3.0->altair<6,>=4.0->streamlit) (23.2.0)\n",
      "Requirement already satisfied: jsonschema-specifications>=2023.03.6 in c:\\users\\halee\\anaconda3\\lib\\site-packages (from jsonschema>=3.0->altair<6,>=4.0->streamlit) (2023.12.1)\n",
      "Requirement already satisfied: referencing>=0.28.4 in c:\\users\\halee\\anaconda3\\lib\\site-packages (from jsonschema>=3.0->altair<6,>=4.0->streamlit) (0.34.0)\n",
      "Requirement already satisfied: rpds-py>=0.7.1 in c:\\users\\halee\\anaconda3\\lib\\site-packages (from jsonschema>=3.0->altair<6,>=4.0->streamlit) (0.18.0)\n",
      "Requirement already satisfied: mdurl~=0.1 in c:\\users\\halee\\anaconda3\\lib\\site-packages (from markdown-it-py>=2.2.0->rich<14,>=10.14.0->streamlit) (0.1.2)\n",
      "Requirement already satisfied: six>=1.5 in c:\\users\\halee\\anaconda3\\lib\\site-packages (from python-dateutil>=2.8.2->pandas<3,>=1.3.0->streamlit) (1.16.0)\n"
     ]
    }
   ],
   "source": [
    "!pip install joblib streamlit\n",
    "import streamlit as st\n",
    "import joblib\n",
    "import pandas as pd\n",
    "import numpy as np"
   ]
  },
  {
   "cell_type": "code",
   "execution_count": 4,
   "id": "e218e499",
   "metadata": {},
   "outputs": [],
   "source": [
    "# Load the model and scalers\n",
    "model = joblib.load('rf.joblib')\n",
    "age_scaler = joblib.load('age_scaler.joblib')\n",
    "weight_scaler = joblib.load('weight_scaler.joblib')\n",
    "price_scaler = joblib.load('price_scaler.joblib')"
   ]
  },
  {
   "cell_type": "code",
   "execution_count": 5,
   "id": "426ec4e2",
   "metadata": {},
   "outputs": [],
   "source": [
    "# Example list of NDC9 codes used in the model\n",
    "ndc9_codes = joblib.load('ndc9_codes.joblib')\n",
    "\n",
    "# Create a mapping from NDC9 code to index\n",
    "ndc9_code_to_index = {code: idx for idx, code in enumerate(ndc9_codes)}"
   ]
  },
  {
   "cell_type": "code",
   "execution_count": 6,
   "id": "e6c9971c",
   "metadata": {},
   "outputs": [],
   "source": [
    "# Define the one-hot encoding function\n",
    "def one_hot_encode_ndc9(ndc9_code, ndc9_code_to_index, num_codes=1750):\n",
    "    one_hot = np.zeros(num_codes)\n",
    "    if ndc9_code in ndc9_code_to_index:\n",
    "        one_hot[ndc9_code_to_index[ndc9_code]] = 1\n",
    "    return one_hot\n",
    "\n",
    "# Define the prediction function\n",
    "def predict(age, weight, sex, drug_unit_price, ndc9_code):\n",
    "    # Preprocess the inputs\n",
    "    sex = 1 if sex.lower() == 'female' else 0\n",
    "    age_scaled = age_scaler.transform([[age]])[0][0]\n",
    "    weight_scaled = weight_scaler.transform([[weight]])[0][0]\n",
    "    price_scaled = price_scaler.transform([[drug_unit_price]])[0][0]\n",
    "    one_hot_ndc9 = one_hot_encode_ndc9(ndc9_code, ndc9_code_to_index)\n",
    "    input_data = np.concatenate(([age_scaled, weight_scaled, sex, price_scaled], one_hot_ndc9))\n",
    "    input_data = input_data.reshape(1, -1)  # Reshape to 2D array\n",
    "    prediction = model.predict(input_data)\n",
    "    return prediction[0]"
   ]
  },
  {
   "cell_type": "code",
   "execution_count": 7,
   "id": "0c258d02",
   "metadata": {},
   "outputs": [
    {
     "name": "stderr",
     "output_type": "stream",
     "text": [
      "2024-08-07 14:48:56.148 \n",
      "  \u001b[33m\u001b[1mWarning:\u001b[0m to view this Streamlit app on a browser, run it with the following\n",
      "  command:\n",
      "\n",
      "    streamlit run C:\\Users\\halee\\anaconda3\\lib\\site-packages\\ipykernel_launcher.py [ARGUMENTS]\n"
     ]
    }
   ],
   "source": [
    "# Streamlit app interface\n",
    "st.title('Adverse Drug Reaction Outcome Prediction')\n",
    "\n",
    "age = st.number_input('Age', min_value=0, max_value=120, value=30)\n",
    "weight = st.number_input('Weight (kg)', min_value=0.0, value=70.0)\n",
    "sex = st.selectbox('Sex', ['Male', 'Female'])\n",
    "unit_price = st.number_input('Drug Price per Unit', min_value=0.0, value=10.0)\n",
    "ndc9_code = st.text_input('Drug NDC9 Code (replace dash with 0)')\n",
    "\n",
    "if st.button('Predict'):\n",
    "    prediction = predict(age, weight, sex, unit_price, ndc9_code)\n",
    "    if prediction == 0:\n",
    "        st.success('Prediction: Non-serious')\n",
    "    elif prediction == 1:\n",
    "        st.warning('Prediction: Serious')\n",
    "    else:\n",
    "        st.error('Prediction: Death')"
   ]
  },
  {
   "cell_type": "code",
   "execution_count": null,
   "id": "96b5d4ce",
   "metadata": {},
   "outputs": [],
   "source": []
  }
 ],
 "metadata": {
  "kernelspec": {
   "display_name": "Python 3 (ipykernel)",
   "language": "python",
   "name": "python3"
  },
  "language_info": {
   "codemirror_mode": {
    "name": "ipython",
    "version": 3
   },
   "file_extension": ".py",
   "mimetype": "text/x-python",
   "name": "python",
   "nbconvert_exporter": "python",
   "pygments_lexer": "ipython3",
   "version": "3.9.18"
  }
 },
 "nbformat": 4,
 "nbformat_minor": 5
}
